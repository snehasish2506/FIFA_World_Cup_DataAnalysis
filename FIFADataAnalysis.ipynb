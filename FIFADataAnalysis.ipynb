{
  "cells": [
    {
      "cell_type": "code",
      "execution_count": null,
      "metadata": {
        "id": "VNhcan9egQaZ"
      },
      "outputs": [],
      "source": [
        "# Import all the required libraries\n",
        "\n",
        "import pandas as pd\n",
        "import numpy as np\n",
        "import seaborn as sns\n",
        "import matplotlib.pyplot as plt\n",
        "%matplotlib inline"
      ]
    },
    {
      "cell_type": "code",
      "execution_count": null,
      "metadata": {
        "id": "CCzKsMvmgilF"
      },
      "outputs": [],
      "source": [
        "# import all required Datasets\n",
        "\n",
        "dataWorldCups = pd.read_excel('/content/WorldCups.xlsx')\n",
        "dataMatches = pd.read_excel('/content/WorldCupMatches.xlsx')\n",
        "dataPlayer=pd.read_excel('/content/WorldCupPlayers.xlsx')"
      ]
    },
    {
      "cell_type": "code",
      "source": [
        "# Replace Germany FR and German DR with Germany in the dataWorldCups and WorldCupMatches dataset\n",
        "\n",
        "dataWorldCups['Winner'] = dataWorldCups['Winner'].str.replace('Germany FR','Germany')\n",
        "dataWorldCups['Runners-Up'] = dataWorldCups['Runners-Up'].str.replace('Germany FR','Germany')\n",
        "dataWorldCups['Third'] = dataWorldCups['Third'].str.replace('Germany FR','Germany')\n",
        "dataWorldCups['Fourth'] = dataWorldCups['Fourth'].str.replace('Germany FR','Germany')\n",
        "\n",
        "dataMatches['Home Team Name'] = dataMatches['Home Team Name'].str.replace('Germany FR','Germany')\n",
        "dataMatches['Home Team Name'] = dataMatches['Home Team Name'].str.replace('German DR','Germany')\n",
        "dataMatches['Away Team Name'] = dataMatches['Away Team Name'].str.replace('Germany FR','Germany')\n",
        "dataMatches['Away Team Name'] = dataMatches['Away Team Name'].str.replace('German DR','Germany')"
      ],
      "metadata": {
        "id": "B2Q8ftpk7_9U"
      },
      "execution_count": null,
      "outputs": []
    },
    {
      "cell_type": "markdown",
      "metadata": {
        "id": "Fek28nxgVSDg"
      },
      "source": [
        "\n",
        "\n",
        "---\n",
        "\n",
        "\n",
        "### **Data Analysis on WorldCups.xlsx**\n",
        "\n",
        "---\n",
        "\n"
      ]
    },
    {
      "cell_type": "code",
      "execution_count": null,
      "metadata": {
        "colab": {
          "base_uri": "https://localhost:8080/"
        },
        "id": "cAnqrB-TgxWU",
        "outputId": "4d15944e-bd61-404b-e1be-692514820ab1"
      },
      "outputs": [
        {
          "output_type": "execute_result",
          "data": {
            "text/plain": [
              "(20, 10)"
            ]
          },
          "metadata": {},
          "execution_count": 4
        }
      ],
      "source": [
        "# Check the numbers of rows and columns in World Cup dataset\n",
        "\n",
        "dataWorldCups.shape"
      ]
    },
    {
      "cell_type": "markdown",
      "metadata": {
        "id": "kAom0Iq8g47U"
      },
      "source": [
        "### **Observation (WorldCups)**\n",
        "In the WorldCup dataset we found 20 numbers of rows and 10 numbers of columns"
      ]
    },
    {
      "cell_type": "code",
      "execution_count": null,
      "metadata": {
        "colab": {
          "base_uri": "https://localhost:8080/"
        },
        "id": "qSK6JnGnhIGk",
        "outputId": "a05d6252-6108-4e79-953f-427b10fb4db3"
      },
      "outputs": [
        {
          "output_type": "execute_result",
          "data": {
            "text/plain": [
              "Year               int64\n",
              "Country           object\n",
              "Winner            object\n",
              "Runners-Up        object\n",
              "Third             object\n",
              "Fourth            object\n",
              "GoalsScored        int64\n",
              "QualifiedTeams     int64\n",
              "MatchesPlayed      int64\n",
              "Attendance         int64\n",
              "dtype: object"
            ]
          },
          "metadata": {},
          "execution_count": 5
        }
      ],
      "source": [
        "# Check the data types in World Cup Dataset\n",
        "\n",
        "dataWorldCups.dtypes"
      ]
    },
    {
      "cell_type": "markdown",
      "metadata": {
        "id": "7mYijIX1ibjj"
      },
      "source": [
        "### **Observation (WorldCups)**\n",
        "\n",
        "In **WorldCups** dataset, here we found the follwing datatypes in different fields\n",
        "\n",
        "<center>\n",
        "\n",
        "|**Field Name**|**Field Type**|\n",
        "|-----------------|-------------------|\n",
        "|Year|Numerical|\n",
        "|Country|Categorical|\n",
        "|Winner|Categorical|\n",
        "|Runners-Up|Categorical|\n",
        "|Third|Categorical|\n",
        "|Fourth|Categorical|\n",
        "|GoalsScored|Numerical|\n",
        "|QualifiedTeams|Numerical|\n",
        "|MatchesPlayed|Numerical|\n",
        "|Attendance|Numerical|\n",
        "<center>"
      ]
    },
    {
      "cell_type": "code",
      "execution_count": null,
      "metadata": {
        "colab": {
          "base_uri": "https://localhost:8080/"
        },
        "id": "Z32qs7Fdk7-L",
        "outputId": "642fa6a3-54c0-4e3a-b995-13ad610c050e"
      },
      "outputs": [
        {
          "output_type": "execute_result",
          "data": {
            "text/plain": [
              "Year              0\n",
              "Country           0\n",
              "Winner            0\n",
              "Runners-Up        0\n",
              "Third             0\n",
              "Fourth            0\n",
              "GoalsScored       0\n",
              "QualifiedTeams    0\n",
              "MatchesPlayed     0\n",
              "Attendance        0\n",
              "dtype: int64"
            ]
          },
          "metadata": {},
          "execution_count": 6
        }
      ],
      "source": [
        "# Check the null values in World Cup dataset\n",
        "\n",
        "dataWorldCups.isnull().sum()"
      ]
    },
    {
      "cell_type": "markdown",
      "metadata": {
        "id": "VtvBU9fFlB_b"
      },
      "source": [
        "### **Observation (WorldCups)**\n",
        "No null value found in the dataset"
      ]
    },
    {
      "cell_type": "markdown",
      "source": [
        "---\n",
        "**Question:** How many time did each country host FIFA World Cup?\n",
        "\n",
        "---\n",
        "\n"
      ],
      "metadata": {
        "id": "hgI4a9MDbwiq"
      }
    },
    {
      "cell_type": "code",
      "execution_count": null,
      "metadata": {
        "colab": {
          "base_uri": "https://localhost:8080/",
          "height": 842
        },
        "id": "_VLmigU_lJ5D",
        "outputId": "d33ccd48-fc64-40a8-a50c-46feef487596"
      },
      "outputs": [
        {
          "output_type": "stream",
          "name": "stdout",
          "text": [
            "Uruguay         1\n",
            "Switzerland     1\n",
            "Sweden          1\n",
            "Chile           1\n",
            "England         1\n",
            "Argentina       1\n",
            "Spain           1\n",
            "USA             1\n",
            "Korea/Japan     1\n",
            "South Africa    1\n",
            "Italy           2\n",
            "France          2\n",
            "Brazil          2\n",
            "Mexico          2\n",
            "Germany         2\n",
            "Name: Country, dtype: int64\n"
          ]
        },
        {
          "output_type": "display_data",
          "data": {
            "text/plain": [
              "<Figure size 1080x576 with 1 Axes>"
            ],
            "image/png": "[encoded data removed]"
          },
          "metadata": {
            "needs_background": "light"
          }
        }
      ],
      "source": [
        "# Countrywise Worldcup Host\n",
        "\n",
        "from matplotlib.ticker import MaxNLocator\n",
        "myCountry = dataWorldCups['Country'].value_counts().sort_values(ascending=True)\n",
        "print (myCountry)\n",
        "plt.figure(figsize=(15,8)).gca()\n",
        "\n",
        "ax = sns.countplot(x= 'Country', data=dataWorldCups, order=dataWorldCups['Country'].value_counts().index)\n",
        "ax.yaxis.set_major_locator(MaxNLocator(integer=True))\n",
        "for p in ax.patches:\n",
        "   ax.annotate('{}'.format(p.get_height()), (p.get_x()+0.25, p.get_height()+0.01))\n",
        "plt.xlabel(\"Country\")\n",
        "plt.xticks(rotation=90)\n",
        "plt.ylabel(\"# of World Cup\")\n",
        "\n",
        "plt.title(\"Number of times World Cup hosted - Country wise\")\n",
        "plt.show()"
      ]
    },
    {
      "cell_type": "markdown",
      "metadata": {
        "id": "a1x8SkYv7vWA"
      },
      "source": [
        "### **Observation (WorldCups)**\n",
        "While Uruguay, Switzerland, Sweden, Chile, England, Argentina, Spain, USA, Korea/Japan, and South Africa only hosted the World Cup once, Italy, France, Brazil, Mexico, and Germany hosted it twice each.\n"
      ]
    },
    {
      "cell_type": "markdown",
      "source": [
        "---\n",
        "**Question:** How many time did each country won the FIFA World Cup?\n",
        "\n",
        "---\n"
      ],
      "metadata": {
        "id": "EfzdAh4Le9S7"
      }
    },
    {
      "cell_type": "code",
      "execution_count": null,
      "metadata": {
        "id": "9s-hxVuD8DCo",
        "colab": {
          "base_uri": "https://localhost:8080/",
          "height": 669
        },
        "outputId": "8f6c449e-d78c-4b8a-b7eb-1db629e0bcd3"
      },
      "outputs": [
        {
          "output_type": "stream",
          "name": "stdout",
          "text": [
            "England      1\n",
            "France       1\n",
            "Spain        1\n",
            "Uruguay      2\n",
            "Argentina    2\n",
            "Italy        4\n",
            "Germany      4\n",
            "Brazil       5\n",
            "Name: Winner, dtype: int64\n"
          ]
        },
        {
          "output_type": "display_data",
          "data": {
            "text/plain": [
              "<Figure size 1080x576 with 1 Axes>"
            ],
            "image/png": "[encoded data removed]"
          },
          "metadata": {
            "needs_background": "light"
          }
        }
      ],
      "source": [
        "# Countrywise Worldcup Champion\n",
        "\n",
        "print(dataWorldCups['Winner'].value_counts().sort_values(ascending = True))\n",
        "plt.figure(figsize=(15,8))\n",
        "ax = sns.countplot(x='Winner', data =dataWorldCups, order =dataWorldCups['Winner'].value_counts().index)\n",
        "for p in ax.patches:\n",
        "   ax.annotate('{}'.format(p.get_height()), (p.get_x()+0.35, p.get_height()+0.10))\n",
        "plt.xlabel(\"Country\")\n",
        "plt.ylabel(\"# of World Cup\")\n",
        "plt.title(\"Country wise World Cup Champion\")\n",
        "plt.show()"
      ]
    },
    {
      "cell_type": "markdown",
      "metadata": {
        "id": "fLLqO-Mk8Uov"
      },
      "source": [
        "### **Observation (WorldCups)**\n",
        "\n",
        "* Brazil won the most World Cups with five times\n",
        "* Italy and Germany won four times\n",
        "* Uruguay and Argentina each won two times\n",
        "* England, France, and Spain each won one time."
      ]
    },
    {
      "cell_type": "markdown",
      "source": [
        "---\n",
        "**Question:** How many time did each country got runners-up position FIFA World Cup?\n",
        "\n",
        "---"
      ],
      "metadata": {
        "id": "qoKATpd0fGR9"
      }
    },
    {
      "cell_type": "code",
      "execution_count": null,
      "metadata": {
        "id": "hg4iTi1D857_",
        "colab": {
          "base_uri": "https://localhost:8080/",
          "height": 510
        },
        "outputId": "25f85ff7-530b-4a8d-b59a-0ddfbc83b33c"
      },
      "outputs": [
        {
          "output_type": "display_data",
          "data": {
            "text/plain": [
              "<Figure size 1080x576 with 1 Axes>"
            ],
            "image/png": "[encoded data removed]"
          },
          "metadata": {
            "needs_background": "light"
          }
        }
      ],
      "source": [
        "# Countrywise world cup runner\n",
        "\n",
        "\n",
        "from matplotlib.ticker import MaxNLocator\n",
        "ax = plt.figure(figsize=(15,8))\n",
        "ax = sns.countplot(y='Runners-Up', data=dataWorldCups, order = dataWorldCups['Runners-Up'].value_counts().index)\n",
        "plt.ylabel(\"Country\")\n",
        "plt.xlabel(\"# of World Cup\")\n",
        "plt.title(\"Country wise World cup Runner-up\")\n",
        "plt.show()"
      ]
    },
    {
      "cell_type": "markdown",
      "metadata": {
        "id": "3XMY8oEh-ci_"
      },
      "source": [
        "### **Observation (WorldCups)**\n",
        "* Germany finish the world cup in second place the most of the time (4 times) followrd by Argentina and Netherlands (3 times).\n",
        "* Hungary, Brazil, Italy, and Czechoslovakia each finish in second place twice.\n",
        "* One time, Sweden, and France finish in second place."
      ]
    },
    {
      "cell_type": "markdown",
      "source": [
        "---\n",
        "**Question:** How many time did each country got third position FIFA World Cup?\n",
        "\n",
        "---"
      ],
      "metadata": {
        "id": "WAWkUBRpfIeL"
      }
    },
    {
      "cell_type": "code",
      "execution_count": null,
      "metadata": {
        "id": "vH1LWI8z-ton",
        "colab": {
          "base_uri": "https://localhost:8080/",
          "height": 513
        },
        "outputId": "69fdcae9-d538-4a9b-efe8-faaf3204d50e"
      },
      "outputs": [
        {
          "output_type": "display_data",
          "data": {
            "text/plain": [
              "<Figure size 1080x576 with 1 Axes>"
            ],
            "image/png": "[encoded data removed]"
          },
          "metadata": {
            "needs_background": "light"
          }
        }
      ],
      "source": [
        "# Countrywise third place\n",
        "from matplotlib.ticker import MaxNLocator\n",
        "ax = plt.figure(figsize=(15,8)).gca()\n",
        "ax.yaxis.set_major_locator(MaxNLocator(integer=True))\n",
        "dataWorldCups['Third'].value_counts()\n",
        "ax = sns.countplot(x=\"Third\", data = dataWorldCups, order=dataWorldCups['Third'].value_counts().index)\n",
        "plt.title(\"Country wise third position in World Cup\")\n",
        "for p in ax.patches:\n",
        "   ax.annotate('{}'.format(p.get_height()), (p.get_x()+0.35, p.get_height()+0.10))\n",
        "\n",
        "plt.ylabel(\"# of World Cup\")\n",
        "plt.xlabel(\"Country\")\n",
        "plt.show()"
      ]
    },
    {
      "cell_type": "markdown",
      "metadata": {
        "id": "h-Mo1CQw_6Ov"
      },
      "source": [
        "### **Observation (WorldCups)**\n",
        "\n",
        "* Germany placed third in the world cup four times.\n",
        "* Brazil, Sweden, France, and Poland placed third two different times in the world cup.\n",
        "* USA, Portugal, Chile, Austria , Italy, Croatia, Turkey,  Netherlands took third place for one time"
      ]
    },
    {
      "cell_type": "markdown",
      "source": [
        "---\n",
        "**Question:** How many time did each country got fourth position FIFA World Cup?\n",
        "\n",
        "---"
      ],
      "metadata": {
        "id": "CwEAKDeQfLAU"
      }
    },
    {
      "cell_type": "code",
      "execution_count": null,
      "metadata": {
        "id": "2azG_6k7-tju",
        "colab": {
          "base_uri": "https://localhost:8080/",
          "height": 577
        },
        "outputId": "b18b103d-3a1f-42c8-f989-2743f62485d6"
      },
      "outputs": [
        {
          "output_type": "display_data",
          "data": {
            "text/plain": [
              "<Figure size 1080x576 with 1 Axes>"
            ],
            "image/png": "[encoded data removed]"
          },
          "metadata": {
            "needs_background": "light"
          }
        }
      ],
      "source": [
        "# Countrywise fourth place in World cup\n",
        "\n",
        "from matplotlib.ticker import MaxNLocator\n",
        "ax=plt.figure(figsize=(15,8)).gca()\n",
        "ax.yaxis.set_major_locator(MaxNLocator(integer=True))\n",
        "dataWorldCups['Fourth'].value_counts()\n",
        "ax = sns.countplot(x=\"Fourth\", data = dataWorldCups, order=dataWorldCups['Fourth'].value_counts().index)\n",
        "plt.title(\"Country wise fourth position in World Cup\")\n",
        "plt.xticks(rotation=90)\n",
        "for p in ax.patches:\n",
        "   ax.annotate('{}'.format(p.get_height()), (p.get_x()+0.35, p.get_height()+0.05))\n",
        "\n",
        "plt.ylabel(\"# of World Cup\")\n",
        "plt.xlabel(\"Country\")\n",
        "plt.show()"
      ]
    },
    {
      "cell_type": "markdown",
      "metadata": {
        "id": "a3I5adcAB11H"
      },
      "source": [
        "### **Observation (WorldCups)**\n",
        "\n",
        "* Uruguay finished the World Cup in fourth place, doing so three times.\n",
        "\n",
        "* Yugoslavia and Brazil both placed fourth at the world cup twice."
      ]
    },
    {
      "cell_type": "markdown",
      "source": [
        "---\n",
        "**Question:** Which year had the most attendance at the FIFA World Cup?\n",
        "\n",
        "---"
      ],
      "metadata": {
        "id": "GWOnXFt4fRfk"
      }
    },
    {
      "cell_type": "code",
      "execution_count": null,
      "metadata": {
        "id": "hs4T3DJ2LCS1",
        "colab": {
          "base_uri": "https://localhost:8080/",
          "height": 81
        },
        "outputId": "e99a4a65-2c0f-4664-e531-71740a0708f4"
      },
      "outputs": [
        {
          "output_type": "execute_result",
          "data": {
            "text/plain": [
              "    Year Country  Winner Runners-Up   Third    Fourth  GoalsScored  \\\n",
              "14  1994     USA  Brazil      Italy  Sweden  Bulgaria          141   \n",
              "\n",
              "    QualifiedTeams  MatchesPlayed  Attendance  \n",
              "14              24             52     3587538  "
            ],
            "text/html": [
              "\n",
              "  <div id=\"df-3cc2462a-0c5d-41fb-b04f-7124eaf67806\">\n",
              "    <div class=\"colab-df-container\">\n",
              "      <div>\n",
              "<style scoped>\n",
              "    .dataframe tbody tr th:only-of-type {\n",
              "        vertical-align: middle;\n",
              "    }\n",
              "\n",
              "    .dataframe tbody tr th {\n",
              "        vertical-align: top;\n",
              "    }\n",
              "\n",
              "    .dataframe thead th {\n",
              "        text-align: right;\n",
              "    }\n",
              "</style>\n",
              "<table border=\"1\" class=\"dataframe\">\n",
              "  <thead>\n",
              "    <tr style=\"text-align: right;\">\n",
              "      <th></th>\n",
              "      <th>Year</th>\n",
              "      <th>Country</th>\n",
              "      <th>Winner</th>\n",
              "      <th>Runners-Up</th>\n",
              "      <th>Third</th>\n",
              "      <th>Fourth</th>\n",
              "      <th>GoalsScored</th>\n",
              "      <th>QualifiedTeams</th>\n",
              "      <th>MatchesPlayed</th>\n",
              "      <th>Attendance</th>\n",
              "    </tr>\n",
              "  </thead>\n",
              "  <tbody>\n",
              "    <tr>\n",
              "      <th>14</th>\n",
              "      <td>1994</td>\n",
              "      <td>USA</td>\n",
              "      <td>Brazil</td>\n",
              "      <td>Italy</td>\n",
              "      <td>Sweden</td>\n",
              "      <td>Bulgaria</td>\n",
              "      <td>141</td>\n",
              "      <td>24</td>\n",
              "      <td>52</td>\n",
              "      <td>3587538</td>\n",
              "    </tr>\n",
              "  </tbody>\n",
              "</table>\n",
              "</div>\n",
              "      <button class=\"colab-df-convert\" onclick=\"convertToInteractive('df-3cc2462a-0c5d-41fb-b04f-7124eaf67806')\"\n",
              "              title=\"Convert this dataframe to an interactive table.\"\n",
              "              style=\"display:none;\">\n",
              "        \n",
              "  <svg xmlns=\"http://www.w3.org/2000/svg\" height=\"24px\"viewBox=\"0 0 24 24\"\n",
              "       width=\"24px\">\n",
              "    <path d=\"M0 0h24v24H0V0z\" fill=\"none\"/>\n",
              "    <path d=\"M18.56 5.44l.94 2.06.94-2.06 2.06-.94-2.06-.94-.94-2.06-.94 2.06-2.06.94zm-11 1L8.5 8.5l.94-2.06 2.06-.94-2.06-.94L8.5 2.5l-.94 2.06-2.06.94zm10 10l.94 2.06.94-2.06 2.06-.94-2.06-.94-.94-2.06-.94 2.06-2.06.94z\"/><path d=\"M17.41 7.96l-1.37-1.37c-.4-.4-.92-.59-1.43-.59-.52 0-1.04.2-1.43.59L10.3 9.45l-7.72 7.72c-.78.78-.78 2.05 0 2.83L4 21.41c.39.39.9.59 1.41.59.51 0 1.02-.2 1.41-.59l7.78-7.78 2.81-2.81c.8-.78.8-2.07 0-2.86zM5.41 20L4 18.59l7.72-7.72 1.47 1.35L5.41 20z\"/>\n",
              "  </svg>\n",
              "      </button>\n",
              "      \n",
              "  <style>\n",
              "    .colab-df-container {\n",
              "      display:flex;\n",
              "      flex-wrap:wrap;\n",
              "      gap: 12px;\n",
              "    }\n",
              "\n",
              "    .colab-df-convert {\n",
              "      background-color: #E8F0FE;\n",
              "      border: none;\n",
              "      border-radius: 50%;\n",
              "      cursor: pointer;\n",
              "      display: none;\n",
              "      fill: #1967D2;\n",
              "      height: 32px;\n",
              "      padding: 0 0 0 0;\n",
              "      width: 32px;\n",
              "    }\n",
              "\n",
              "    .colab-df-convert:hover {\n",
              "      background-color: #E2EBFA;\n",
              "      box-shadow: 0px 1px 2px rgba(60, 64, 67, 0.3), 0px 1px 3px 1px rgba(60, 64, 67, 0.15);\n",
              "      fill: #174EA6;\n",
              "    }\n",
              "\n",
              "    [theme=dark] .colab-df-convert {\n",
              "      background-color: #3B4455;\n",
              "      fill: #D2E3FC;\n",
              "    }\n",
              "\n",
              "    [theme=dark] .colab-df-convert:hover {\n",
              "      background-color: #434B5C;\n",
              "      box-shadow: 0px 1px 3px 1px rgba(0, 0, 0, 0.15);\n",
              "      filter: drop-shadow(0px 1px 2px rgba(0, 0, 0, 0.3));\n",
              "      fill: #FFFFFF;\n",
              "    }\n",
              "  </style>\n",
              "\n",
              "      <script>\n",
              "        const buttonEl =\n",
              "          document.querySelector('#df-3cc2462a-0c5d-41fb-b04f-7124eaf67806 button.colab-df-convert');\n",
              "        buttonEl.style.display =\n",
              "          google.colab.kernel.accessAllowed ? 'block' : 'none';\n",
              "\n",
              "        async function convertToInteractive(key) {\n",
              "          const element = document.querySelector('#df-3cc2462a-0c5d-41fb-b04f-7124eaf67806');\n",
              "          const dataTable =\n",
              "            await google.colab.kernel.invokeFunction('convertToInteractive',\n",
              "                                                     [key], {});\n",
              "          if (!dataTable) return;\n",
              "\n",
              "          const docLinkHtml = 'Like what you see? Visit the ' +\n",
              "            '<a target=\"_blank\" href=https://colab.research.google.com/notebooks/data_table.ipynb>data table notebook</a>'\n",
              "            + ' to learn more about interactive tables.';\n",
              "          element.innerHTML = '';\n",
              "          dataTable['output_type'] = 'display_data';\n",
              "          await google.colab.output.renderOutput(dataTable, element);\n",
              "          const docLink = document.createElement('div');\n",
              "          docLink.innerHTML = docLinkHtml;\n",
              "          element.appendChild(docLink);\n",
              "        }\n",
              "      </script>\n",
              "    </div>\n",
              "  </div>\n",
              "  "
            ]
          },
          "metadata": {},
          "execution_count": 12
        }
      ],
      "source": [
        "# Get Maximum attendance in a World Cup\n",
        "\n",
        "dataWorldCups[dataWorldCups['Attendance'] == dataWorldCups['Attendance'].max()]"
      ]
    },
    {
      "cell_type": "markdown",
      "metadata": {
        "id": "9LmfsVckgv4z"
      },
      "source": [
        "### **Obseravtion**\n",
        "Maximum attendance (3587538) was at the 1994 World Cup."
      ]
    },
    {
      "cell_type": "markdown",
      "source": [
        "---\n",
        "**Question:** Which year's FIFA World Cup has the lowest attendance?"
      ],
      "metadata": {
        "id": "K6f74NANgGCs"
      }
    },
    {
      "cell_type": "code",
      "execution_count": null,
      "metadata": {
        "id": "cgFb_0xZM-FD",
        "colab": {
          "base_uri": "https://localhost:8080/",
          "height": 81
        },
        "outputId": "ac836533-e00d-4244-821e-da48fd089556"
      },
      "outputs": [
        {
          "output_type": "execute_result",
          "data": {
            "text/plain": [
              "   Year Country Winner      Runners-Up    Third   Fourth  GoalsScored  \\\n",
              "1  1934   Italy  Italy  Czechoslovakia  Germany  Austria           70   \n",
              "\n",
              "   QualifiedTeams  MatchesPlayed  Attendance  \n",
              "1              16             17      363000  "
            ],
            "text/html": [
              "\n",
              "  <div id=\"df-b16cf03b-18f1-4aa9-b6e6-7d61d7b8c5a6\">\n",
              "    <div class=\"colab-df-container\">\n",
              "      <div>\n",
              "<style scoped>\n",
              "    .dataframe tbody tr th:only-of-type {\n",
              "        vertical-align: middle;\n",
              "    }\n",
              "\n",
              "    .dataframe tbody tr th {\n",
              "        vertical-align: top;\n",
              "    }\n",
              "\n",
              "    .dataframe thead th {\n",
              "        text-align: right;\n",
              "    }\n",
              "</style>\n",
              "<table border=\"1\" class=\"dataframe\">\n",
              "  <thead>\n",
              "    <tr style=\"text-align: right;\">\n",
              "      <th></th>\n",
              "      <th>Year</th>\n",
              "      <th>Country</th>\n",
              "      <th>Winner</th>\n",
              "      <th>Runners-Up</th>\n",
              "      <th>Third</th>\n",
              "      <th>Fourth</th>\n",
              "      <th>GoalsScored</th>\n",
              "      <th>QualifiedTeams</th>\n",
              "      <th>MatchesPlayed</th>\n",
              "      <th>Attendance</th>\n",
              "    </tr>\n",
              "  </thead>\n",
              "  <tbody>\n",
              "    <tr>\n",
              "      <th>1</th>\n",
              "      <td>1934</td>\n",
              "      <td>Italy</td>\n",
              "      <td>Italy</td>\n",
              "      <td>Czechoslovakia</td>\n",
              "      <td>Germany</td>\n",
              "      <td>Austria</td>\n",
              "      <td>70</td>\n",
              "      <td>16</td>\n",
              "      <td>17</td>\n",
              "      <td>363000</td>\n",
              "    </tr>\n",
              "  </tbody>\n",
              "</table>\n",
              "</div>\n",
              "      <button class=\"colab-df-convert\" onclick=\"convertToInteractive('df-b16cf03b-18f1-4aa9-b6e6-7d61d7b8c5a6')\"\n",
              "              title=\"Convert this dataframe to an interactive table.\"\n",
              "              style=\"display:none;\">\n",
              "        \n",
              "  <svg xmlns=\"http://www.w3.org/2000/svg\" height=\"24px\"viewBox=\"0 0 24 24\"\n",
              "       width=\"24px\">\n",
              "    <path d=\"M0 0h24v24H0V0z\" fill=\"none\"/>\n",
              "    <path d=\"M18.56 5.44l.94 2.06.94-2.06 2.06-.94-2.06-.94-.94-2.06-.94 2.06-2.06.94zm-11 1L8.5 8.5l.94-2.06 2.06-.94-2.06-.94L8.5 2.5l-.94 2.06-2.06.94zm10 10l.94 2.06.94-2.06 2.06-.94-2.06-.94-.94-2.06-.94 2.06-2.06.94z\"/><path d=\"M17.41 7.96l-1.37-1.37c-.4-.4-.92-.59-1.43-.59-.52 0-1.04.2-1.43.59L10.3 9.45l-7.72 7.72c-.78.78-.78 2.05 0 2.83L4 21.41c.39.39.9.59 1.41.59.51 0 1.02-.2 1.41-.59l7.78-7.78 2.81-2.81c.8-.78.8-2.07 0-2.86zM5.41 20L4 18.59l7.72-7.72 1.47 1.35L5.41 20z\"/>\n",
              "  </svg>\n",
              "      </button>\n",
              "      \n",
              "  <style>\n",
              "    .colab-df-container {\n",
              "      display:flex;\n",
              "      flex-wrap:wrap;\n",
              "      gap: 12px;\n",
              "    }\n",
              "\n",
              "    .colab-df-convert {\n",
              "      background-color: #E8F0FE;\n",
              "      border: none;\n",
              "      border-radius: 50%;\n",
              "      cursor: pointer;\n",
              "      display: none;\n",
              "      fill: #1967D2;\n",
              "      height: 32px;\n",
              "      padding: 0 0 0 0;\n",
              "      width: 32px;\n",
              "    }\n",
              "\n",
              "    .colab-df-convert:hover {\n",
              "      background-color: #E2EBFA;\n",
              "      box-shadow: 0px 1px 2px rgba(60, 64, 67, 0.3), 0px 1px 3px 1px rgba(60, 64, 67, 0.15);\n",
              "      fill: #174EA6;\n",
              "    }\n",
              "\n",
              "    [theme=dark] .colab-df-convert {\n",
              "      background-color: #3B4455;\n",
              "      fill: #D2E3FC;\n",
              "    }\n",
              "\n",
              "    [theme=dark] .colab-df-convert:hover {\n",
              "      background-color: #434B5C;\n",
              "      box-shadow: 0px 1px 3px 1px rgba(0, 0, 0, 0.15);\n",
              "      filter: drop-shadow(0px 1px 2px rgba(0, 0, 0, 0.3));\n",
              "      fill: #FFFFFF;\n",
              "    }\n",
              "  </style>\n",
              "\n",
              "      <script>\n",
              "        const buttonEl =\n",
              "          document.querySelector('#df-b16cf03b-18f1-4aa9-b6e6-7d61d7b8c5a6 button.colab-df-convert');\n",
              "        buttonEl.style.display =\n",
              "          google.colab.kernel.accessAllowed ? 'block' : 'none';\n",
              "\n",
              "        async function convertToInteractive(key) {\n",
              "          const element = document.querySelector('#df-b16cf03b-18f1-4aa9-b6e6-7d61d7b8c5a6');\n",
              "          const dataTable =\n",
              "            await google.colab.kernel.invokeFunction('convertToInteractive',\n",
              "                                                     [key], {});\n",
              "          if (!dataTable) return;\n",
              "\n",
              "          const docLinkHtml = 'Like what you see? Visit the ' +\n",
              "            '<a target=\"_blank\" href=https://colab.research.google.com/notebooks/data_table.ipynb>data table notebook</a>'\n",
              "            + ' to learn more about interactive tables.';\n",
              "          element.innerHTML = '';\n",
              "          dataTable['output_type'] = 'display_data';\n",
              "          await google.colab.output.renderOutput(dataTable, element);\n",
              "          const docLink = document.createElement('div');\n",
              "          docLink.innerHTML = docLinkHtml;\n",
              "          element.appendChild(docLink);\n",
              "        }\n",
              "      </script>\n",
              "    </div>\n",
              "  </div>\n",
              "  "
            ]
          },
          "metadata": {},
          "execution_count": 13
        }
      ],
      "source": [
        "# Get Minimum attendance\n",
        "\n",
        "dataWorldCups[dataWorldCups['Attendance'] == dataWorldCups['Attendance'].min()]"
      ]
    },
    {
      "cell_type": "markdown",
      "metadata": {
        "id": "6lf7CsznhNpH"
      },
      "source": [
        "### **Obseravtion**\n",
        "Minimum attendance (363000) was at the 1934 World Cup."
      ]
    },
    {
      "cell_type": "markdown",
      "source": [
        "**Question:** Which country won the FIFA World Cup as the host nation?"
      ],
      "metadata": {
        "id": "QakmMmpaggWz"
      }
    },
    {
      "cell_type": "code",
      "execution_count": null,
      "metadata": {
        "id": "GzuwqxHTSE5l",
        "colab": {
          "base_uri": "https://localhost:8080/",
          "height": 238
        },
        "outputId": "fbfee565-fbfa-4703-d8c3-67384287e436"
      },
      "outputs": [
        {
          "output_type": "execute_result",
          "data": {
            "text/plain": [
              "  Host Country Name Winner Name\n",
              "0           Uruguay     Uruguay\n",
              "1             Italy       Italy\n",
              "2           England     England\n",
              "3           Germany     Germany\n",
              "4         Argentina   Argentina\n",
              "5            France      France"
            ],
            "text/html": [
              "\n",
              "  <div id=\"df-9913fa9e-c939-41d4-94e7-f19abafcbaa2\">\n",
              "    <div class=\"colab-df-container\">\n",
              "      <div>\n",
              "<style scoped>\n",
              "    .dataframe tbody tr th:only-of-type {\n",
              "        vertical-align: middle;\n",
              "    }\n",
              "\n",
              "    .dataframe tbody tr th {\n",
              "        vertical-align: top;\n",
              "    }\n",
              "\n",
              "    .dataframe thead th {\n",
              "        text-align: right;\n",
              "    }\n",
              "</style>\n",
              "<table border=\"1\" class=\"dataframe\">\n",
              "  <thead>\n",
              "    <tr style=\"text-align: right;\">\n",
              "      <th></th>\n",
              "      <th>Host Country Name</th>\n",
              "      <th>Winner Name</th>\n",
              "    </tr>\n",
              "  </thead>\n",
              "  <tbody>\n",
              "    <tr>\n",
              "      <th>0</th>\n",
              "      <td>Uruguay</td>\n",
              "      <td>Uruguay</td>\n",
              "    </tr>\n",
              "    <tr>\n",
              "      <th>1</th>\n",
              "      <td>Italy</td>\n",
              "      <td>Italy</td>\n",
              "    </tr>\n",
              "    <tr>\n",
              "      <th>2</th>\n",
              "      <td>England</td>\n",
              "      <td>England</td>\n",
              "    </tr>\n",
              "    <tr>\n",
              "      <th>3</th>\n",
              "      <td>Germany</td>\n",
              "      <td>Germany</td>\n",
              "    </tr>\n",
              "    <tr>\n",
              "      <th>4</th>\n",
              "      <td>Argentina</td>\n",
              "      <td>Argentina</td>\n",
              "    </tr>\n",
              "    <tr>\n",
              "      <th>5</th>\n",
              "      <td>France</td>\n",
              "      <td>France</td>\n",
              "    </tr>\n",
              "  </tbody>\n",
              "</table>\n",
              "</div>\n",
              "      <button class=\"colab-df-convert\" onclick=\"convertToInteractive('df-9913fa9e-c939-41d4-94e7-f19abafcbaa2')\"\n",
              "              title=\"Convert this dataframe to an interactive table.\"\n",
              "              style=\"display:none;\">\n",
              "        \n",
              "  <svg xmlns=\"http://www.w3.org/2000/svg\" height=\"24px\"viewBox=\"0 0 24 24\"\n",
              "       width=\"24px\">\n",
              "    <path d=\"M0 0h24v24H0V0z\" fill=\"none\"/>\n",
              "    <path d=\"M18.56 5.44l.94 2.06.94-2.06 2.06-.94-2.06-.94-.94-2.06-.94 2.06-2.06.94zm-11 1L8.5 8.5l.94-2.06 2.06-.94-2.06-.94L8.5 2.5l-.94 2.06-2.06.94zm10 10l.94 2.06.94-2.06 2.06-.94-2.06-.94-.94-2.06-.94 2.06-2.06.94z\"/><path d=\"M17.41 7.96l-1.37-1.37c-.4-.4-.92-.59-1.43-.59-.52 0-1.04.2-1.43.59L10.3 9.45l-7.72 7.72c-.78.78-.78 2.05 0 2.83L4 21.41c.39.39.9.59 1.41.59.51 0 1.02-.2 1.41-.59l7.78-7.78 2.81-2.81c.8-.78.8-2.07 0-2.86zM5.41 20L4 18.59l7.72-7.72 1.47 1.35L5.41 20z\"/>\n",
              "  </svg>\n",
              "      </button>\n",
              "      \n",
              "  <style>\n",
              "    .colab-df-container {\n",
              "      display:flex;\n",
              "      flex-wrap:wrap;\n",
              "      gap: 12px;\n",
              "    }\n",
              "\n",
              "    .colab-df-convert {\n",
              "      background-color: #E8F0FE;\n",
              "      border: none;\n",
              "      border-radius: 50%;\n",
              "      cursor: pointer;\n",
              "      display: none;\n",
              "      fill: #1967D2;\n",
              "      height: 32px;\n",
              "      padding: 0 0 0 0;\n",
              "      width: 32px;\n",
              "    }\n",
              "\n",
              "    .colab-df-convert:hover {\n",
              "      background-color: #E2EBFA;\n",
              "      box-shadow: 0px 1px 2px rgba(60, 64, 67, 0.3), 0px 1px 3px 1px rgba(60, 64, 67, 0.15);\n",
              "      fill: #174EA6;\n",
              "    }\n",
              "\n",
              "    [theme=dark] .colab-df-convert {\n",
              "      background-color: #3B4455;\n",
              "      fill: #D2E3FC;\n",
              "    }\n",
              "\n",
              "    [theme=dark] .colab-df-convert:hover {\n",
              "      background-color: #434B5C;\n",
              "      box-shadow: 0px 1px 3px 1px rgba(0, 0, 0, 0.15);\n",
              "      filter: drop-shadow(0px 1px 2px rgba(0, 0, 0, 0.3));\n",
              "      fill: #FFFFFF;\n",
              "    }\n",
              "  </style>\n",
              "\n",
              "      <script>\n",
              "        const buttonEl =\n",
              "          document.querySelector('#df-9913fa9e-c939-41d4-94e7-f19abafcbaa2 button.colab-df-convert');\n",
              "        buttonEl.style.display =\n",
              "          google.colab.kernel.accessAllowed ? 'block' : 'none';\n",
              "\n",
              "        async function convertToInteractive(key) {\n",
              "          const element = document.querySelector('#df-9913fa9e-c939-41d4-94e7-f19abafcbaa2');\n",
              "          const dataTable =\n",
              "            await google.colab.kernel.invokeFunction('convertToInteractive',\n",
              "                                                     [key], {});\n",
              "          if (!dataTable) return;\n",
              "\n",
              "          const docLinkHtml = 'Like what you see? Visit the ' +\n",
              "            '<a target=\"_blank\" href=https://colab.research.google.com/notebooks/data_table.ipynb>data table notebook</a>'\n",
              "            + ' to learn more about interactive tables.';\n",
              "          element.innerHTML = '';\n",
              "          dataTable['output_type'] = 'display_data';\n",
              "          await google.colab.output.renderOutput(dataTable, element);\n",
              "          const docLink = document.createElement('div');\n",
              "          docLink.innerHTML = docLinkHtml;\n",
              "          element.appendChild(docLink);\n",
              "        }\n",
              "      </script>\n",
              "    </div>\n",
              "  </div>\n",
              "  "
            ]
          },
          "metadata": {},
          "execution_count": 14
        }
      ],
      "source": [
        "# Check host team completed as winner\n",
        "\n",
        "countryList=[]\n",
        "winnerList=[]\n",
        "for countryName, winnerName in zip(dataWorldCups['Country'],dataWorldCups['Winner']):\n",
        "  if (countryName == winnerName):\n",
        "    countryList.append(countryName)\n",
        "    winnerList.append(winnerName)\n",
        "\n",
        "winnerData= pd.DataFrame([countryList, winnerList])\n",
        "winnerData_2 = winnerData.T\n",
        "winnerData_2.columns = ['Host Country Name','Winner Name']\n",
        "winnerData_2"
      ]
    },
    {
      "cell_type": "markdown",
      "metadata": {
        "id": "WudP6C1SFgCc"
      },
      "source": [
        "**Observation (WorldCups.xlsx)**\n",
        "\n",
        "As per analysis we found the following of five country who were host the world cup and won the world in the same year.\n",
        "\n",
        "* Uruguay\n",
        "\n",
        "* Italy\n",
        "\n",
        "* England\n",
        "\n",
        "* Germany\n",
        "\n",
        "* Argentina\n",
        "\n",
        "* France\n"
      ]
    },
    {
      "cell_type": "markdown",
      "source": [
        "**Question:** Which country got the runner-up position in  the FIFA World Cup as the host nation?"
      ],
      "metadata": {
        "id": "J3ftHMWChNnL"
      }
    },
    {
      "cell_type": "code",
      "execution_count": null,
      "metadata": {
        "id": "t3ESo2XIHXd9",
        "colab": {
          "base_uri": "https://localhost:8080/",
          "height": 112
        },
        "outputId": "257c3e6a-b82a-4ecc-b764-f0e1e5795e08"
      },
      "outputs": [
        {
          "output_type": "execute_result",
          "data": {
            "text/plain": [
              "  Host Country Name runner Name\n",
              "0            Brazil      Brazil\n",
              "1            Sweden      Sweden"
            ],
            "text/html": [
              "\n",
              "  <div id=\"df-e45d12c3-dfea-4a93-8300-38b77224605a\">\n",
              "    <div class=\"colab-df-container\">\n",
              "      <div>\n",
              "<style scoped>\n",
              "    .dataframe tbody tr th:only-of-type {\n",
              "        vertical-align: middle;\n",
              "    }\n",
              "\n",
              "    .dataframe tbody tr th {\n",
              "        vertical-align: top;\n",
              "    }\n",
              "\n",
              "    .dataframe thead th {\n",
              "        text-align: right;\n",
              "    }\n",
              "</style>\n",
              "<table border=\"1\" class=\"dataframe\">\n",
              "  <thead>\n",
              "    <tr style=\"text-align: right;\">\n",
              "      <th></th>\n",
              "      <th>Host Country Name</th>\n",
              "      <th>runner Name</th>\n",
              "    </tr>\n",
              "  </thead>\n",
              "  <tbody>\n",
              "    <tr>\n",
              "      <th>0</th>\n",
              "      <td>Brazil</td>\n",
              "      <td>Brazil</td>\n",
              "    </tr>\n",
              "    <tr>\n",
              "      <th>1</th>\n",
              "      <td>Sweden</td>\n",
              "      <td>Sweden</td>\n",
              "    </tr>\n",
              "  </tbody>\n",
              "</table>\n",
              "</div>\n",
              "      <button class=\"colab-df-convert\" onclick=\"convertToInteractive('df-e45d12c3-dfea-4a93-8300-38b77224605a')\"\n",
              "              title=\"Convert this dataframe to an interactive table.\"\n",
              "              style=\"display:none;\">\n",
              "        \n",
              "  <svg xmlns=\"http://www.w3.org/2000/svg\" height=\"24px\"viewBox=\"0 0 24 24\"\n",
              "       width=\"24px\">\n",
              "    <path d=\"M0 0h24v24H0V0z\" fill=\"none\"/>\n",
              "    <path d=\"M18.56 5.44l.94 2.06.94-2.06 2.06-.94-2.06-.94-.94-2.06-.94 2.06-2.06.94zm-11 1L8.5 8.5l.94-2.06 2.06-.94-2.06-.94L8.5 2.5l-.94 2.06-2.06.94zm10 10l.94 2.06.94-2.06 2.06-.94-2.06-.94-.94-2.06-.94 2.06-2.06.94z\"/><path d=\"M17.41 7.96l-1.37-1.37c-.4-.4-.92-.59-1.43-.59-.52 0-1.04.2-1.43.59L10.3 9.45l-7.72 7.72c-.78.78-.78 2.05 0 2.83L4 21.41c.39.39.9.59 1.41.59.51 0 1.02-.2 1.41-.59l7.78-7.78 2.81-2.81c.8-.78.8-2.07 0-2.86zM5.41 20L4 18.59l7.72-7.72 1.47 1.35L5.41 20z\"/>\n",
              "  </svg>\n",
              "      </button>\n",
              "      \n",
              "  <style>\n",
              "    .colab-df-container {\n",
              "      display:flex;\n",
              "      flex-wrap:wrap;\n",
              "      gap: 12px;\n",
              "    }\n",
              "\n",
              "    .colab-df-convert {\n",
              "      background-color: #E8F0FE;\n",
              "      border: none;\n",
              "      border-radius: 50%;\n",
              "      cursor: pointer;\n",
              "      display: none;\n",
              "      fill: #1967D2;\n",
              "      height: 32px;\n",
              "      padding: 0 0 0 0;\n",
              "      width: 32px;\n",
              "    }\n",
              "\n",
              "    .colab-df-convert:hover {\n",
              "      background-color: #E2EBFA;\n",
              "      box-shadow: 0px 1px 2px rgba(60, 64, 67, 0.3), 0px 1px 3px 1px rgba(60, 64, 67, 0.15);\n",
              "      fill: #174EA6;\n",
              "    }\n",
              "\n",
              "    [theme=dark] .colab-df-convert {\n",
              "      background-color: #3B4455;\n",
              "      fill: #D2E3FC;\n",
              "    }\n",
              "\n",
              "    [theme=dark] .colab-df-convert:hover {\n",
              "      background-color: #434B5C;\n",
              "      box-shadow: 0px 1px 3px 1px rgba(0, 0, 0, 0.15);\n",
              "      filter: drop-shadow(0px 1px 2px rgba(0, 0, 0, 0.3));\n",
              "      fill: #FFFFFF;\n",
              "    }\n",
              "  </style>\n",
              "\n",
              "      <script>\n",
              "        const buttonEl =\n",
              "          document.querySelector('#df-e45d12c3-dfea-4a93-8300-38b77224605a button.colab-df-convert');\n",
              "        buttonEl.style.display =\n",
              "          google.colab.kernel.accessAllowed ? 'block' : 'none';\n",
              "\n",
              "        async function convertToInteractive(key) {\n",
              "          const element = document.querySelector('#df-e45d12c3-dfea-4a93-8300-38b77224605a');\n",
              "          const dataTable =\n",
              "            await google.colab.kernel.invokeFunction('convertToInteractive',\n",
              "                                                     [key], {});\n",
              "          if (!dataTable) return;\n",
              "\n",
              "          const docLinkHtml = 'Like what you see? Visit the ' +\n",
              "            '<a target=\"_blank\" href=https://colab.research.google.com/notebooks/data_table.ipynb>data table notebook</a>'\n",
              "            + ' to learn more about interactive tables.';\n",
              "          element.innerHTML = '';\n",
              "          dataTable['output_type'] = 'display_data';\n",
              "          await google.colab.output.renderOutput(dataTable, element);\n",
              "          const docLink = document.createElement('div');\n",
              "          docLink.innerHTML = docLinkHtml;\n",
              "          element.appendChild(docLink);\n",
              "        }\n",
              "      </script>\n",
              "    </div>\n",
              "  </div>\n",
              "  "
            ]
          },
          "metadata": {},
          "execution_count": 15
        }
      ],
      "source": [
        "# Check host team completed as runner-up\n",
        "\n",
        "countryList=[]\n",
        "runnerList=[]\n",
        "for countryName, runnerName in zip(dataWorldCups['Country'],dataWorldCups['Runners-Up']):\n",
        "  if (countryName == runnerName):\n",
        "    countryList.append(countryName)\n",
        "    runnerList.append(runnerName)\n",
        "\n",
        "runnerData= pd.DataFrame([countryList, runnerList])\n",
        "runnerData_2 = runnerData.T\n",
        "runnerData_2.columns = ['Host Country Name','runner Name']\n",
        "runnerData_2"
      ]
    },
    {
      "cell_type": "markdown",
      "metadata": {
        "id": "8u0d4ogwIoSk"
      },
      "source": [
        "**Observation**\n",
        "\n",
        "* According to our study, Sweden and Brazil are the only two countries to have hosted the world cup and finished second in the same year."
      ]
    },
    {
      "cell_type": "markdown",
      "source": [
        "**Question:** Which country got the thrid position in  the FIFA World Cup as the host nation?"
      ],
      "metadata": {
        "id": "qSdDU57UhmAE"
      }
    },
    {
      "cell_type": "code",
      "execution_count": null,
      "metadata": {
        "id": "gygHj2OLJcWU",
        "colab": {
          "base_uri": "https://localhost:8080/",
          "height": 143
        },
        "outputId": "3ccd8007-dc40-4421-ae19-21b6348d66ab"
      },
      "outputs": [
        {
          "output_type": "execute_result",
          "data": {
            "text/plain": [
              "  Host Country Name Third place holder\n",
              "0             Chile              Chile\n",
              "1             Italy              Italy\n",
              "2           Germany            Germany"
            ],
            "text/html": [
              "\n",
              "  <div id=\"df-494ded2b-57b8-467f-947a-094af3e32f25\">\n",
              "    <div class=\"colab-df-container\">\n",
              "      <div>\n",
              "<style scoped>\n",
              "    .dataframe tbody tr th:only-of-type {\n",
              "        vertical-align: middle;\n",
              "    }\n",
              "\n",
              "    .dataframe tbody tr th {\n",
              "        vertical-align: top;\n",
              "    }\n",
              "\n",
              "    .dataframe thead th {\n",
              "        text-align: right;\n",
              "    }\n",
              "</style>\n",
              "<table border=\"1\" class=\"dataframe\">\n",
              "  <thead>\n",
              "    <tr style=\"text-align: right;\">\n",
              "      <th></th>\n",
              "      <th>Host Country Name</th>\n",
              "      <th>Third place holder</th>\n",
              "    </tr>\n",
              "  </thead>\n",
              "  <tbody>\n",
              "    <tr>\n",
              "      <th>0</th>\n",
              "      <td>Chile</td>\n",
              "      <td>Chile</td>\n",
              "    </tr>\n",
              "    <tr>\n",
              "      <th>1</th>\n",
              "      <td>Italy</td>\n",
              "      <td>Italy</td>\n",
              "    </tr>\n",
              "    <tr>\n",
              "      <th>2</th>\n",
              "      <td>Germany</td>\n",
              "      <td>Germany</td>\n",
              "    </tr>\n",
              "  </tbody>\n",
              "</table>\n",
              "</div>\n",
              "      <button class=\"colab-df-convert\" onclick=\"convertToInteractive('df-494ded2b-57b8-467f-947a-094af3e32f25')\"\n",
              "              title=\"Convert this dataframe to an interactive table.\"\n",
              "              style=\"display:none;\">\n",
              "        \n",
              "  <svg xmlns=\"http://www.w3.org/2000/svg\" height=\"24px\"viewBox=\"0 0 24 24\"\n",
              "       width=\"24px\">\n",
              "    <path d=\"M0 0h24v24H0V0z\" fill=\"none\"/>\n",
              "    <path d=\"M18.56 5.44l.94 2.06.94-2.06 2.06-.94-2.06-.94-.94-2.06-.94 2.06-2.06.94zm-11 1L8.5 8.5l.94-2.06 2.06-.94-2.06-.94L8.5 2.5l-.94 2.06-2.06.94zm10 10l.94 2.06.94-2.06 2.06-.94-2.06-.94-.94-2.06-.94 2.06-2.06.94z\"/><path d=\"M17.41 7.96l-1.37-1.37c-.4-.4-.92-.59-1.43-.59-.52 0-1.04.2-1.43.59L10.3 9.45l-7.72 7.72c-.78.78-.78 2.05 0 2.83L4 21.41c.39.39.9.59 1.41.59.51 0 1.02-.2 1.41-.59l7.78-7.78 2.81-2.81c.8-.78.8-2.07 0-2.86zM5.41 20L4 18.59l7.72-7.72 1.47 1.35L5.41 20z\"/>\n",
              "  </svg>\n",
              "      </button>\n",
              "      \n",
              "  <style>\n",
              "    .colab-df-container {\n",
              "      display:flex;\n",
              "      flex-wrap:wrap;\n",
              "      gap: 12px;\n",
              "    }\n",
              "\n",
              "    .colab-df-convert {\n",
              "      background-color: #E8F0FE;\n",
              "      border: none;\n",
              "      border-radius: 50%;\n",
              "      cursor: pointer;\n",
              "      display: none;\n",
              "      fill: #1967D2;\n",
              "      height: 32px;\n",
              "      padding: 0 0 0 0;\n",
              "      width: 32px;\n",
              "    }\n",
              "\n",
              "    .colab-df-convert:hover {\n",
              "      background-color: #E2EBFA;\n",
              "      box-shadow: 0px 1px 2px rgba(60, 64, 67, 0.3), 0px 1px 3px 1px rgba(60, 64, 67, 0.15);\n",
              "      fill: #174EA6;\n",
              "    }\n",
              "\n",
              "    [theme=dark] .colab-df-convert {\n",
              "      background-color: #3B4455;\n",
              "      fill: #D2E3FC;\n",
              "    }\n",
              "\n",
              "    [theme=dark] .colab-df-convert:hover {\n",
              "      background-color: #434B5C;\n",
              "      box-shadow: 0px 1px 3px 1px rgba(0, 0, 0, 0.15);\n",
              "      filter: drop-shadow(0px 1px 2px rgba(0, 0, 0, 0.3));\n",
              "      fill: #FFFFFF;\n",
              "    }\n",
              "  </style>\n",
              "\n",
              "      <script>\n",
              "        const buttonEl =\n",
              "          document.querySelector('#df-494ded2b-57b8-467f-947a-094af3e32f25 button.colab-df-convert');\n",
              "        buttonEl.style.display =\n",
              "          google.colab.kernel.accessAllowed ? 'block' : 'none';\n",
              "\n",
              "        async function convertToInteractive(key) {\n",
              "          const element = document.querySelector('#df-494ded2b-57b8-467f-947a-094af3e32f25');\n",
              "          const dataTable =\n",
              "            await google.colab.kernel.invokeFunction('convertToInteractive',\n",
              "                                                     [key], {});\n",
              "          if (!dataTable) return;\n",
              "\n",
              "          const docLinkHtml = 'Like what you see? Visit the ' +\n",
              "            '<a target=\"_blank\" href=https://colab.research.google.com/notebooks/data_table.ipynb>data table notebook</a>'\n",
              "            + ' to learn more about interactive tables.';\n",
              "          element.innerHTML = '';\n",
              "          dataTable['output_type'] = 'display_data';\n",
              "          await google.colab.output.renderOutput(dataTable, element);\n",
              "          const docLink = document.createElement('div');\n",
              "          docLink.innerHTML = docLinkHtml;\n",
              "          element.appendChild(docLink);\n",
              "        }\n",
              "      </script>\n",
              "    </div>\n",
              "  </div>\n",
              "  "
            ]
          },
          "metadata": {},
          "execution_count": 16
        }
      ],
      "source": [
        "#Check host team completed at third place\n",
        "\n",
        "countryList=[]\n",
        "thirdPlaceList = []\n",
        "\n",
        "for countryName, thirdPlace in zip(dataWorldCups['Country'],dataWorldCups['Third']):\n",
        "  if(countryName == thirdPlace):\n",
        "    countryList.append(countryName)\n",
        "    thirdPlaceList.append(thirdPlace)\n",
        "\n",
        "thirdPlaceData=pd.DataFrame([countryList,thirdPlaceList])\n",
        "thirdPlaceData2=thirdPlaceData.T\n",
        "thirdPlaceData2.columns = ['Host Country Name','Third place holder']\n",
        "thirdPlaceData2"
      ]
    },
    {
      "cell_type": "markdown",
      "metadata": {
        "id": "QFzMUjfsOIf9"
      },
      "source": [
        "**Observation**\n",
        "\n",
        "According to our data, the following countries both finished third and hosted the World Cup the same year.\n",
        "\n",
        "* Chile\n",
        "* Italy\n",
        "* Germany"
      ]
    },
    {
      "cell_type": "markdown",
      "source": [
        "**Question:** Which country got the fourth position in  the FIFA World Cup as the host nation?"
      ],
      "metadata": {
        "id": "acvSm8Gphrab"
      }
    },
    {
      "cell_type": "code",
      "execution_count": null,
      "metadata": {
        "id": "zELwbofWOyJ9",
        "colab": {
          "base_uri": "https://localhost:8080/",
          "height": 81
        },
        "outputId": "a2f7bfe6-8328-4e48-ab5f-3ee87cd85910"
      },
      "outputs": [
        {
          "output_type": "execute_result",
          "data": {
            "text/plain": [
              "  Host Country Name Fourth place holder\n",
              "0            Brazil              Brazil"
            ],
            "text/html": [
              "\n",
              "  <div id=\"df-f294d7a9-9c4d-474e-924c-f4f316f742d5\">\n",
              "    <div class=\"colab-df-container\">\n",
              "      <div>\n",
              "<style scoped>\n",
              "    .dataframe tbody tr th:only-of-type {\n",
              "        vertical-align: middle;\n",
              "    }\n",
              "\n",
              "    .dataframe tbody tr th {\n",
              "        vertical-align: top;\n",
              "    }\n",
              "\n",
              "    .dataframe thead th {\n",
              "        text-align: right;\n",
              "    }\n",
              "</style>\n",
              "<table border=\"1\" class=\"dataframe\">\n",
              "  <thead>\n",
              "    <tr style=\"text-align: right;\">\n",
              "      <th></th>\n",
              "      <th>Host Country Name</th>\n",
              "      <th>Fourth place holder</th>\n",
              "    </tr>\n",
              "  </thead>\n",
              "  <tbody>\n",
              "    <tr>\n",
              "      <th>0</th>\n",
              "      <td>Brazil</td>\n",
              "      <td>Brazil</td>\n",
              "    </tr>\n",
              "  </tbody>\n",
              "</table>\n",
              "</div>\n",
              "      <button class=\"colab-df-convert\" onclick=\"convertToInteractive('df-f294d7a9-9c4d-474e-924c-f4f316f742d5')\"\n",
              "              title=\"Convert this dataframe to an interactive table.\"\n",
              "              style=\"display:none;\">\n",
              "        \n",
              "  <svg xmlns=\"http://www.w3.org/2000/svg\" height=\"24px\"viewBox=\"0 0 24 24\"\n",
              "       width=\"24px\">\n",
              "    <path d=\"M0 0h24v24H0V0z\" fill=\"none\"/>\n",
              "    <path d=\"M18.56 5.44l.94 2.06.94-2.06 2.06-.94-2.06-.94-.94-2.06-.94 2.06-2.06.94zm-11 1L8.5 8.5l.94-2.06 2.06-.94-2.06-.94L8.5 2.5l-.94 2.06-2.06.94zm10 10l.94 2.06.94-2.06 2.06-.94-2.06-.94-.94-2.06-.94 2.06-2.06.94z\"/><path d=\"M17.41 7.96l-1.37-1.37c-.4-.4-.92-.59-1.43-.59-.52 0-1.04.2-1.43.59L10.3 9.45l-7.72 7.72c-.78.78-.78 2.05 0 2.83L4 21.41c.39.39.9.59 1.41.59.51 0 1.02-.2 1.41-.59l7.78-7.78 2.81-2.81c.8-.78.8-2.07 0-2.86zM5.41 20L4 18.59l7.72-7.72 1.47 1.35L5.41 20z\"/>\n",
              "  </svg>\n",
              "      </button>\n",
              "      \n",
              "  <style>\n",
              "    .colab-df-container {\n",
              "      display:flex;\n",
              "      flex-wrap:wrap;\n",
              "      gap: 12px;\n",
              "    }\n",
              "\n",
              "    .colab-df-convert {\n",
              "      background-color: #E8F0FE;\n",
              "      border: none;\n",
              "      border-radius: 50%;\n",
              "      cursor: pointer;\n",
              "      display: none;\n",
              "      fill: #1967D2;\n",
              "      height: 32px;\n",
              "      padding: 0 0 0 0;\n",
              "      width: 32px;\n",
              "    }\n",
              "\n",
              "    .colab-df-convert:hover {\n",
              "      background-color: #E2EBFA;\n",
              "      box-shadow: 0px 1px 2px rgba(60, 64, 67, 0.3), 0px 1px 3px 1px rgba(60, 64, 67, 0.15);\n",
              "      fill: #174EA6;\n",
              "    }\n",
              "\n",
              "    [theme=dark] .colab-df-convert {\n",
              "      background-color: #3B4455;\n",
              "      fill: #D2E3FC;\n",
              "    }\n",
              "\n",
              "    [theme=dark] .colab-df-convert:hover {\n",
              "      background-color: #434B5C;\n",
              "      box-shadow: 0px 1px 3px 1px rgba(0, 0, 0, 0.15);\n",
              "      filter: drop-shadow(0px 1px 2px rgba(0, 0, 0, 0.3));\n",
              "      fill: #FFFFFF;\n",
              "    }\n",
              "  </style>\n",
              "\n",
              "      <script>\n",
              "        const buttonEl =\n",
              "          document.querySelector('#df-f294d7a9-9c4d-474e-924c-f4f316f742d5 button.colab-df-convert');\n",
              "        buttonEl.style.display =\n",
              "          google.colab.kernel.accessAllowed ? 'block' : 'none';\n",
              "\n",
              "        async function convertToInteractive(key) {\n",
              "          const element = document.querySelector('#df-f294d7a9-9c4d-474e-924c-f4f316f742d5');\n",
              "          const dataTable =\n",
              "            await google.colab.kernel.invokeFunction('convertToInteractive',\n",
              "                                                     [key], {});\n",
              "          if (!dataTable) return;\n",
              "\n",
              "          const docLinkHtml = 'Like what you see? Visit the ' +\n",
              "            '<a target=\"_blank\" href=https://colab.research.google.com/notebooks/data_table.ipynb>data table notebook</a>'\n",
              "            + ' to learn more about interactive tables.';\n",
              "          element.innerHTML = '';\n",
              "          dataTable['output_type'] = 'display_data';\n",
              "          await google.colab.output.renderOutput(dataTable, element);\n",
              "          const docLink = document.createElement('div');\n",
              "          docLink.innerHTML = docLinkHtml;\n",
              "          element.appendChild(docLink);\n",
              "        }\n",
              "      </script>\n",
              "    </div>\n",
              "  </div>\n",
              "  "
            ]
          },
          "metadata": {},
          "execution_count": 17
        }
      ],
      "source": [
        "# Check host team completed at Fourth place\n",
        "\n",
        "countryList=[]\n",
        "fourthPlaceList=[]\n",
        "\n",
        "for countryName, fourthPlaceName in zip(dataWorldCups['Country'], dataWorldCups['Fourth']):\n",
        "  if (countryName==fourthPlaceName):\n",
        "    countryList.append(countryName)\n",
        "    fourthPlaceList.append(fourthPlaceName)\n",
        "\n",
        "fourthPlaceData = pd.DataFrame([countryList,fourthPlaceList])\n",
        "fourthPlaceData2=fourthPlaceData.T\n",
        "fourthPlaceData2.columns = ['Host Country Name','Fourth place holder']\n",
        "fourthPlaceData2"
      ]
    },
    {
      "cell_type": "markdown",
      "metadata": {
        "id": "o9f7YSUsQM2L"
      },
      "source": [
        "**Observation**\n",
        "* Only **Brazil** finished fourth place and hosted the World Cup in the same calendar year."
      ]
    },
    {
      "cell_type": "code",
      "execution_count": null,
      "metadata": {
        "id": "m8NzrwzDgNzk",
        "colab": {
          "base_uri": "https://localhost:8080/",
          "height": 300
        },
        "outputId": "b07b0116-c576-45f8-8ab4-6d50a54b555b"
      },
      "outputs": [
        {
          "output_type": "execute_result",
          "data": {
            "text/plain": [
              "              Year  GoalsScored  QualifiedTeams  MatchesPlayed    Attendance\n",
              "count    20.000000    20.000000       20.000000      20.000000  2.000000e+01\n",
              "mean   1974.800000   118.950000       21.250000      41.800000  1.872882e+06\n",
              "std      25.582889    32.972836        7.268352      17.218717  1.071842e+06\n",
              "min    1930.000000    70.000000       13.000000      17.000000  3.630000e+05\n",
              "25%    1957.000000    89.000000       16.000000      30.500000  8.748315e+05\n",
              "50%    1976.000000   120.500000       16.000000      38.000000  1.734864e+06\n",
              "75%    1995.000000   145.250000       26.000000      55.000000  2.725173e+06\n",
              "max    2014.000000   171.000000       32.000000      64.000000  3.587538e+06"
            ],
            "text/html": [
              "\n",
              "  <div id=\"df-7b20ed60-a5db-4cb2-bcac-87ecbc79d0c6\">\n",
              "    <div class=\"colab-df-container\">\n",
              "      <div>\n",
              "<style scoped>\n",
              "    .dataframe tbody tr th:only-of-type {\n",
              "        vertical-align: middle;\n",
              "    }\n",
              "\n",
              "    .dataframe tbody tr th {\n",
              "        vertical-align: top;\n",
              "    }\n",
              "\n",
              "    .dataframe thead th {\n",
              "        text-align: right;\n",
              "    }\n",
              "</style>\n",
              "<table border=\"1\" class=\"dataframe\">\n",
              "  <thead>\n",
              "    <tr style=\"text-align: right;\">\n",
              "      <th></th>\n",
              "      <th>Year</th>\n",
              "      <th>GoalsScored</th>\n",
              "      <th>QualifiedTeams</th>\n",
              "      <th>MatchesPlayed</th>\n",
              "      <th>Attendance</th>\n",
              "    </tr>\n",
              "  </thead>\n",
              "  <tbody>\n",
              "    <tr>\n",
              "      <th>count</th>\n",
              "      <td>20.000000</td>\n",
              "      <td>20.000000</td>\n",
              "      <td>20.000000</td>\n",
              "      <td>20.000000</td>\n",
              "      <td>2.000000e+01</td>\n",
              "    </tr>\n",
              "    <tr>\n",
              "      <th>mean</th>\n",
              "      <td>1974.800000</td>\n",
              "      <td>118.950000</td>\n",
              "      <td>21.250000</td>\n",
              "      <td>41.800000</td>\n",
              "      <td>1.872882e+06</td>\n",
              "    </tr>\n",
              "    <tr>\n",
              "      <th>std</th>\n",
              "      <td>25.582889</td>\n",
              "      <td>32.972836</td>\n",
              "      <td>7.268352</td>\n",
              "      <td>17.218717</td>\n",
              "      <td>1.071842e+06</td>\n",
              "    </tr>\n",
              "    <tr>\n",
              "      <th>min</th>\n",
              "      <td>1930.000000</td>\n",
              "      <td>70.000000</td>\n",
              "      <td>13.000000</td>\n",
              "      <td>17.000000</td>\n",
              "      <td>3.630000e+05</td>\n",
              "    </tr>\n",
              "    <tr>\n",
              "      <th>25%</th>\n",
              "      <td>1957.000000</td>\n",
              "      <td>89.000000</td>\n",
              "      <td>16.000000</td>\n",
              "      <td>30.500000</td>\n",
              "      <td>8.748315e+05</td>\n",
              "    </tr>\n",
              "    <tr>\n",
              "      <th>50%</th>\n",
              "      <td>1976.000000</td>\n",
              "      <td>120.500000</td>\n",
              "      <td>16.000000</td>\n",
              "      <td>38.000000</td>\n",
              "      <td>1.734864e+06</td>\n",
              "    </tr>\n",
              "    <tr>\n",
              "      <th>75%</th>\n",
              "      <td>1995.000000</td>\n",
              "      <td>145.250000</td>\n",
              "      <td>26.000000</td>\n",
              "      <td>55.000000</td>\n",
              "      <td>2.725173e+06</td>\n",
              "    </tr>\n",
              "    <tr>\n",
              "      <th>max</th>\n",
              "      <td>2014.000000</td>\n",
              "      <td>171.000000</td>\n",
              "      <td>32.000000</td>\n",
              "      <td>64.000000</td>\n",
              "      <td>3.587538e+06</td>\n",
              "    </tr>\n",
              "  </tbody>\n",
              "</table>\n",
              "</div>\n",
              "      <button class=\"colab-df-convert\" onclick=\"convertToInteractive('df-7b20ed60-a5db-4cb2-bcac-87ecbc79d0c6')\"\n",
              "              title=\"Convert this dataframe to an interactive table.\"\n",
              "              style=\"display:none;\">\n",
              "        \n",
              "  <svg xmlns=\"http://www.w3.org/2000/svg\" height=\"24px\"viewBox=\"0 0 24 24\"\n",
              "       width=\"24px\">\n",
              "    <path d=\"M0 0h24v24H0V0z\" fill=\"none\"/>\n",
              "    <path d=\"M18.56 5.44l.94 2.06.94-2.06 2.06-.94-2.06-.94-.94-2.06-.94 2.06-2.06.94zm-11 1L8.5 8.5l.94-2.06 2.06-.94-2.06-.94L8.5 2.5l-.94 2.06-2.06.94zm10 10l.94 2.06.94-2.06 2.06-.94-2.06-.94-.94-2.06-.94 2.06-2.06.94z\"/><path d=\"M17.41 7.96l-1.37-1.37c-.4-.4-.92-.59-1.43-.59-.52 0-1.04.2-1.43.59L10.3 9.45l-7.72 7.72c-.78.78-.78 2.05 0 2.83L4 21.41c.39.39.9.59 1.41.59.51 0 1.02-.2 1.41-.59l7.78-7.78 2.81-2.81c.8-.78.8-2.07 0-2.86zM5.41 20L4 18.59l7.72-7.72 1.47 1.35L5.41 20z\"/>\n",
              "  </svg>\n",
              "      </button>\n",
              "      \n",
              "  <style>\n",
              "    .colab-df-container {\n",
              "      display:flex;\n",
              "      flex-wrap:wrap;\n",
              "      gap: 12px;\n",
              "    }\n",
              "\n",
              "    .colab-df-convert {\n",
              "      background-color: #E8F0FE;\n",
              "      border: none;\n",
              "      border-radius: 50%;\n",
              "      cursor: pointer;\n",
              "      display: none;\n",
              "      fill: #1967D2;\n",
              "      height: 32px;\n",
              "      padding: 0 0 0 0;\n",
              "      width: 32px;\n",
              "    }\n",
              "\n",
              "    .colab-df-convert:hover {\n",
              "      background-color: #E2EBFA;\n",
              "      box-shadow: 0px 1px 2px rgba(60, 64, 67, 0.3), 0px 1px 3px 1px rgba(60, 64, 67, 0.15);\n",
              "      fill: #174EA6;\n",
              "    }\n",
              "\n",
              "    [theme=dark] .colab-df-convert {\n",
              "      background-color: #3B4455;\n",
              "      fill: #D2E3FC;\n",
              "    }\n",
              "\n",
              "    [theme=dark] .colab-df-convert:hover {\n",
              "      background-color: #434B5C;\n",
              "      box-shadow: 0px 1px 3px 1px rgba(0, 0, 0, 0.15);\n",
              "      filter: drop-shadow(0px 1px 2px rgba(0, 0, 0, 0.3));\n",
              "      fill: #FFFFFF;\n",
              "    }\n",
              "  </style>\n",
              "\n",
              "      <script>\n",
              "        const buttonEl =\n",
              "          document.querySelector('#df-7b20ed60-a5db-4cb2-bcac-87ecbc79d0c6 button.colab-df-convert');\n",
              "        buttonEl.style.display =\n",
              "          google.colab.kernel.accessAllowed ? 'block' : 'none';\n",
              "\n",
              "        async function convertToInteractive(key) {\n",
              "          const element = document.querySelector('#df-7b20ed60-a5db-4cb2-bcac-87ecbc79d0c6');\n",
              "          const dataTable =\n",
              "            await google.colab.kernel.invokeFunction('convertToInteractive',\n",
              "                                                     [key], {});\n",
              "          if (!dataTable) return;\n",
              "\n",
              "          const docLinkHtml = 'Like what you see? Visit the ' +\n",
              "            '<a target=\"_blank\" href=https://colab.research.google.com/notebooks/data_table.ipynb>data table notebook</a>'\n",
              "            + ' to learn more about interactive tables.';\n",
              "          element.innerHTML = '';\n",
              "          dataTable['output_type'] = 'display_data';\n",
              "          await google.colab.output.renderOutput(dataTable, element);\n",
              "          const docLink = document.createElement('div');\n",
              "          docLink.innerHTML = docLinkHtml;\n",
              "          element.appendChild(docLink);\n",
              "        }\n",
              "      </script>\n",
              "    </div>\n",
              "  </div>\n",
              "  "
            ]
          },
          "metadata": {},
          "execution_count": 18
        }
      ],
      "source": [
        "dataWorldCups.describe()"
      ]
    },
    {
      "cell_type": "markdown",
      "metadata": {
        "id": "SPHDvtXtKXkf"
      },
      "source": [
        "### **Observation (WorldCups)**\n",
        "\n",
        "* **118.95** goals are scored on average throughout each World Cup.\n",
        "\n",
        "* There were, on average, **21.25** teams competing in each world cup.\n",
        "\n",
        "* In each World Cup, **41.8** matches are played on average.\n",
        "\n",
        "* Every world cup had an average attendance of **1872882.35** spectators.\n"
      ]
    },
    {
      "cell_type": "code",
      "execution_count": null,
      "metadata": {
        "id": "lXwIzPW9l8RR",
        "colab": {
          "base_uri": "https://localhost:8080/",
          "height": 206
        },
        "outputId": "974620b6-ee6f-4185-8b1d-3146fdcefc52"
      },
      "outputs": [
        {
          "output_type": "execute_result",
          "data": {
            "text/plain": [
              "                    Year  GoalsScored  QualifiedTeams  MatchesPlayed  \\\n",
              "Year            1.000000     0.829886        0.895565       0.972473   \n",
              "GoalsScored     0.829886     1.000000        0.866201       0.876201   \n",
              "QualifiedTeams  0.895565     0.866201        1.000000       0.949164   \n",
              "MatchesPlayed   0.972473     0.876201        0.949164       1.000000   \n",
              "Attendance      0.953158     0.774670        0.875360       0.933243   \n",
              "\n",
              "                Attendance  \n",
              "Year              0.953158  \n",
              "GoalsScored       0.774670  \n",
              "QualifiedTeams    0.875360  \n",
              "MatchesPlayed     0.933243  \n",
              "Attendance        1.000000  "
            ],
            "text/html": [
              "\n",
              "  <div id=\"df-28e8fb03-c3c2-40e3-bf28-c697352775d4\">\n",
              "    <div class=\"colab-df-container\">\n",
              "      <div>\n",
              "<style scoped>\n",
              "    .dataframe tbody tr th:only-of-type {\n",
              "        vertical-align: middle;\n",
              "    }\n",
              "\n",
              "    .dataframe tbody tr th {\n",
              "        vertical-align: top;\n",
              "    }\n",
              "\n",
              "    .dataframe thead th {\n",
              "        text-align: right;\n",
              "    }\n",
              "</style>\n",
              "<table border=\"1\" class=\"dataframe\">\n",
              "  <thead>\n",
              "    <tr style=\"text-align: right;\">\n",
              "      <th></th>\n",
              "      <th>Year</th>\n",
              "      <th>GoalsScored</th>\n",
              "      <th>QualifiedTeams</th>\n",
              "      <th>MatchesPlayed</th>\n",
              "      <th>Attendance</th>\n",
              "    </tr>\n",
              "  </thead>\n",
              "  <tbody>\n",
              "    <tr>\n",
              "      <th>Year</th>\n",
              "      <td>1.000000</td>\n",
              "      <td>0.829886</td>\n",
              "      <td>0.895565</td>\n",
              "      <td>0.972473</td>\n",
              "      <td>0.953158</td>\n",
              "    </tr>\n",
              "    <tr>\n",
              "      <th>GoalsScored</th>\n",
              "      <td>0.829886</td>\n",
              "      <td>1.000000</td>\n",
              "      <td>0.866201</td>\n",
              "      <td>0.876201</td>\n",
              "      <td>0.774670</td>\n",
              "    </tr>\n",
              "    <tr>\n",
              "      <th>QualifiedTeams</th>\n",
              "      <td>0.895565</td>\n",
              "      <td>0.866201</td>\n",
              "      <td>1.000000</td>\n",
              "      <td>0.949164</td>\n",
              "      <td>0.875360</td>\n",
              "    </tr>\n",
              "    <tr>\n",
              "      <th>MatchesPlayed</th>\n",
              "      <td>0.972473</td>\n",
              "      <td>0.876201</td>\n",
              "      <td>0.949164</td>\n",
              "      <td>1.000000</td>\n",
              "      <td>0.933243</td>\n",
              "    </tr>\n",
              "    <tr>\n",
              "      <th>Attendance</th>\n",
              "      <td>0.953158</td>\n",
              "      <td>0.774670</td>\n",
              "      <td>0.875360</td>\n",
              "      <td>0.933243</td>\n",
              "      <td>1.000000</td>\n",
              "    </tr>\n",
              "  </tbody>\n",
              "</table>\n",
              "</div>\n",
              "      <button class=\"colab-df-convert\" onclick=\"convertToInteractive('df-28e8fb03-c3c2-40e3-bf28-c697352775d4')\"\n",
              "              title=\"Convert this dataframe to an interactive table.\"\n",
              "              style=\"display:none;\">\n",
              "        \n",
              "  <svg xmlns=\"http://www.w3.org/2000/svg\" height=\"24px\"viewBox=\"0 0 24 24\"\n",
              "       width=\"24px\">\n",
              "    <path d=\"M0 0h24v24H0V0z\" fill=\"none\"/>\n",
              "    <path d=\"M18.56 5.44l.94 2.06.94-2.06 2.06-.94-2.06-.94-.94-2.06-.94 2.06-2.06.94zm-11 1L8.5 8.5l.94-2.06 2.06-.94-2.06-.94L8.5 2.5l-.94 2.06-2.06.94zm10 10l.94 2.06.94-2.06 2.06-.94-2.06-.94-.94-2.06-.94 2.06-2.06.94z\"/><path d=\"M17.41 7.96l-1.37-1.37c-.4-.4-.92-.59-1.43-.59-.52 0-1.04.2-1.43.59L10.3 9.45l-7.72 7.72c-.78.78-.78 2.05 0 2.83L4 21.41c.39.39.9.59 1.41.59.51 0 1.02-.2 1.41-.59l7.78-7.78 2.81-2.81c.8-.78.8-2.07 0-2.86zM5.41 20L4 18.59l7.72-7.72 1.47 1.35L5.41 20z\"/>\n",
              "  </svg>\n",
              "      </button>\n",
              "      \n",
              "  <style>\n",
              "    .colab-df-container {\n",
              "      display:flex;\n",
              "      flex-wrap:wrap;\n",
              "      gap: 12px;\n",
              "    }\n",
              "\n",
              "    .colab-df-convert {\n",
              "      background-color: #E8F0FE;\n",
              "      border: none;\n",
              "      border-radius: 50%;\n",
              "      cursor: pointer;\n",
              "      display: none;\n",
              "      fill: #1967D2;\n",
              "      height: 32px;\n",
              "      padding: 0 0 0 0;\n",
              "      width: 32px;\n",
              "    }\n",
              "\n",
              "    .colab-df-convert:hover {\n",
              "      background-color: #E2EBFA;\n",
              "      box-shadow: 0px 1px 2px rgba(60, 64, 67, 0.3), 0px 1px 3px 1px rgba(60, 64, 67, 0.15);\n",
              "      fill: #174EA6;\n",
              "    }\n",
              "\n",
              "    [theme=dark] .colab-df-convert {\n",
              "      background-color: #3B4455;\n",
              "      fill: #D2E3FC;\n",
              "    }\n",
              "\n",
              "    [theme=dark] .colab-df-convert:hover {\n",
              "      background-color: #434B5C;\n",
              "      box-shadow: 0px 1px 3px 1px rgba(0, 0, 0, 0.15);\n",
              "      filter: drop-shadow(0px 1px 2px rgba(0, 0, 0, 0.3));\n",
              "      fill: #FFFFFF;\n",
              "    }\n",
              "  </style>\n",
              "\n",
              "      <script>\n",
              "        const buttonEl =\n",
              "          document.querySelector('#df-28e8fb03-c3c2-40e3-bf28-c697352775d4 button.colab-df-convert');\n",
              "        buttonEl.style.display =\n",
              "          google.colab.kernel.accessAllowed ? 'block' : 'none';\n",
              "\n",
              "        async function convertToInteractive(key) {\n",
              "          const element = document.querySelector('#df-28e8fb03-c3c2-40e3-bf28-c697352775d4');\n",
              "          const dataTable =\n",
              "            await google.colab.kernel.invokeFunction('convertToInteractive',\n",
              "                                                     [key], {});\n",
              "          if (!dataTable) return;\n",
              "\n",
              "          const docLinkHtml = 'Like what you see? Visit the ' +\n",
              "            '<a target=\"_blank\" href=https://colab.research.google.com/notebooks/data_table.ipynb>data table notebook</a>'\n",
              "            + ' to learn more about interactive tables.';\n",
              "          element.innerHTML = '';\n",
              "          dataTable['output_type'] = 'display_data';\n",
              "          await google.colab.output.renderOutput(dataTable, element);\n",
              "          const docLink = document.createElement('div');\n",
              "          docLink.innerHTML = docLinkHtml;\n",
              "          element.appendChild(docLink);\n",
              "        }\n",
              "      </script>\n",
              "    </div>\n",
              "  </div>\n",
              "  "
            ]
          },
          "metadata": {},
          "execution_count": 19
        }
      ],
      "source": [
        "dataWorldCups.corr()"
      ]
    },
    {
      "cell_type": "markdown",
      "metadata": {
        "id": "bGKM_ARiqsAx"
      },
      "source": [
        "### **Observation (WorldCups)**\n",
        "\n",
        "\n",
        "* As the correlated came out **0.87**, it can be conferred that both the variables (GoalsScored and QualifiedTeams) are **highly correlated**\n",
        "\n",
        "* As the correlated came out **0.88**, it can be conferred that both the variables (MatchesPlayed and GoalScored) are **highly correlated**\n",
        "\n",
        "\n",
        "* As the correlated came out **0.95**, it can be conferred that both the variables (QaulifiedTeam and MatchesPlayed) are **highly correlated**\n",
        "\n",
        "\n",
        "* As the correlated came out **0.87**, it can be conferred that both the variables (QaulifiedTeam and Attendance) are **highly correlated**\n",
        "\n",
        "* As the correlated came out **0.93**, it can be conferred that both the variables (MatchesPlayed and Attendance) are **highly correlated**\n",
        "\n"
      ]
    },
    {
      "cell_type": "code",
      "execution_count": null,
      "metadata": {
        "id": "4WYIm3NiHxwj",
        "colab": {
          "base_uri": "https://localhost:8080/",
          "height": 513
        },
        "outputId": "96ed61d3-ac78-40d7-df8d-9fe61c18d283"
      },
      "outputs": [
        {
          "output_type": "display_data",
          "data": {
            "text/plain": [
              "<Figure size 1080x576 with 1 Axes>"
            ],
            "image/png": "[encoded data removed]"
          },
          "metadata": {
            "needs_background": "light"
          }
        }
      ],
      "source": [
        "# Yearwise total Attendance\n",
        "\n",
        "from matplotlib.ticker import MaxNLocator\n",
        "ax = plt.figure(figsize=(15,8)).gca()\n",
        "ax.xaxis.set_major_locator(MaxNLocator(integer=True))\n",
        "ax = sns.barplot(x=\"Year\", y=\"Attendance\", data=dataWorldCups)\n",
        "for p in ax.patches:\n",
        "  ax.annotate('{}'.format(p.get_height()), (p.get_x()+0.05, p.get_height()+0.05))\n",
        "\n",
        "plt.xlabel(\"Year\")\n",
        "plt.title(\"Year wise attendance in world cup\")\n",
        "plt.show()"
      ]
    },
    {
      "cell_type": "markdown",
      "source": [
        "### **Observation**\n",
        "\n",
        "Maximum attendance was in 1994 World Cup and minimum attaendance was in 1934 World Cup"
      ],
      "metadata": {
        "id": "s751sili2wy4"
      }
    },
    {
      "cell_type": "code",
      "execution_count": null,
      "metadata": {
        "id": "890kd6p2LZxy",
        "colab": {
          "base_uri": "https://localhost:8080/",
          "height": 513
        },
        "outputId": "1621449f-609a-4b91-881d-0bb79f4e42c1"
      },
      "outputs": [
        {
          "output_type": "display_data",
          "data": {
            "text/plain": [
              "<Figure size 1080x576 with 1 Axes>"
            ],
            "image/png": "[encoded data removed]"
          },
          "metadata": {
            "needs_background": "light"
          }
        }
      ],
      "source": [
        "# Team qualified per world cup\n",
        "\n",
        "plt.figure(figsize=(15,8))\n",
        "ax = sns.barplot(x='Year', y='QualifiedTeams', data=dataWorldCups)\n",
        "for p in ax.patches:\n",
        "   ax.annotate('{:}'.format(p.get_height()), (p.get_x()+0.35, p.get_height()+0.10))\n",
        "\n",
        "plt.title('Year wise numbers of teams qualified in World Cup')\n",
        "plt.ylabel(\"# of teams qualified\")\n",
        "plt.show()"
      ]
    },
    {
      "cell_type": "markdown",
      "source": [
        "### **Observation**\n",
        "Till now highest qualified team was 32 in a single world cup"
      ],
      "metadata": {
        "id": "DStdEu_85534"
      }
    },
    {
      "cell_type": "code",
      "execution_count": null,
      "metadata": {
        "id": "2bn8ZqunNTgh",
        "colab": {
          "base_uri": "https://localhost:8080/",
          "height": 513
        },
        "outputId": "92393b40-e00d-43e3-d3a1-027e35857218"
      },
      "outputs": [
        {
          "output_type": "display_data",
          "data": {
            "text/plain": [
              "<Figure size 1080x576 with 1 Axes>"
            ],
            "image/png": "[encoded data removed]"
          },
          "metadata": {
            "needs_background": "light"
          }
        }
      ],
      "source": [
        "# Goal per world cup\n",
        "\n",
        "plt.figure(figsize=(15,8))\n",
        "g = sns.lineplot(x = 'Year', y = 'GoalsScored', data = dataWorldCups)\n",
        "g.set_title('Goals Scored Per World Cup')\n",
        "\n",
        "plt.ylim(0, 180)\n",
        "plt.xlim(1926,2018)\n",
        "plt.ylabel(\"# of Goals\")\n",
        "plt.show()"
      ]
    },
    {
      "cell_type": "markdown",
      "source": [
        "### **Observation**\n",
        "* Lowest goals (70) was in 1930 and 1934 World Cup\n",
        "* Highest goals (171) was in 1998 and 2014 World Cup"
      ],
      "metadata": {
        "id": "noqp_Ceq6SJX"
      }
    },
    {
      "cell_type": "code",
      "execution_count": null,
      "metadata": {
        "id": "vvreX1CaPIiK",
        "colab": {
          "base_uri": "https://localhost:8080/",
          "height": 513
        },
        "outputId": "0fee6e4e-d551-419c-f6c2-20186cc480e1"
      },
      "outputs": [
        {
          "output_type": "display_data",
          "data": {
            "text/plain": [
              "<Figure size 1080x576 with 1 Axes>"
            ],
            "image/png": "[encoded data removed]"
          },
          "metadata": {
            "needs_background": "light"
          }
        }
      ],
      "source": [
        "# Match played per world cup\n",
        "\n",
        "plt.figure(figsize=(15,8))\n",
        "ax=sns.barplot(x='Year', y='MatchesPlayed', data=dataWorldCups)\n",
        "for p in ax.patches:\n",
        "   ax.annotate('{}'.format(p.get_height()), (p.get_x()+0.35, p.get_height()+0.10))\n",
        "plt.title(\"World cup wise match played\")\n",
        "plt.ylabel(\"# of match played\")\n",
        "plt.show()"
      ]
    },
    {
      "cell_type": "markdown",
      "source": [
        "### **Observation**\n",
        "Higest match (64) played in 1998, 2002, 2006, 2010 and 2014 World Cup\n",
        "Lowest match (17) played in 1934 World Cup\n"
      ],
      "metadata": {
        "id": "JUR5N4ri6q4e"
      }
    },
    {
      "cell_type": "code",
      "execution_count": null,
      "metadata": {
        "id": "SD8dhDvTQ1BZ",
        "colab": {
          "base_uri": "https://localhost:8080/",
          "height": 379
        },
        "outputId": "70429f39-a692-418c-8f38-ae4bcb50486e"
      },
      "outputs": [
        {
          "output_type": "display_data",
          "data": {
            "text/plain": [
              "<Figure size 1080x576 with 0 Axes>"
            ]
          },
          "metadata": {}
        },
        {
          "output_type": "display_data",
          "data": {
            "text/plain": [
              "<Figure size 432x288 with 1 Axes>"
            ],
            "image/png": "[encoded data removed]"
          },
          "metadata": {
            "needs_background": "light"
          }
        }
      ],
      "source": [
        "# Team wise winner, runner, third, fourth place in world cup\n",
        "\n",
        "cntWinner = dataWorldCups['Winner'].value_counts()\n",
        "cntRunner = dataWorldCups['Runners-Up'].value_counts()\n",
        "cntThird = dataWorldCups['Third'].value_counts()\n",
        "cntFourth = dataWorldCups['Fourth'].value_counts()\n",
        "teamStandin=pd.concat([cntWinner, cntRunner, cntThird, cntFourth], axis = 1)\n",
        "teamStandin.fillna(0, inplace= True)\n",
        "teamStandin=teamStandin.astype(int)\n",
        "teamStandin\n",
        "plt.figure(figsize=(15,8))\n",
        "teamStandin[:].plot(kind=\"bar\")\n",
        "plt.xlabel('Country')\n",
        "plt.ylabel('#')\n",
        "plt.title('Position in World Cup')\n",
        "plt.xticks(rotation=90)\n",
        "plt.show();"
      ]
    },
    {
      "cell_type": "markdown",
      "metadata": {
        "id": "wGBKBSvuVOET"
      },
      "source": [
        "---\n",
        "### **Conclusion (WorldCups.xlsx)**\n",
        "---\n",
        "\n",
        "As per **WorldCups.xlsx** dataset can say:\n",
        "\n",
        "* Maximum numbers (2) of time Italy, France, Brazil, Mexico, and Germany hosted the world cup.\n",
        "\n",
        "* \tBrazil is the highest world cup champion (5 times), followed by Italy (4 time)\n",
        "\n",
        "* \tGermany finish the world cup in second place the most of the time (4 times).\n",
        "\n",
        "* \tGermany placed third in the world cup four times.\n",
        "\n",
        "* \tUruguay finished the World Cup in fourth place, doing so three times.\n",
        "\n",
        "* \tMaximum attendance (3587538) and Minimum attendance (363000) was at the 1994 and 1934 World Cup respectively.\n",
        "\n",
        "* \tAs per analysis we found the following of five country who were host the world cup and won the world in the same year: Uruguay, Italy, England, Germany, Argentina and France\n",
        "\n",
        "* \t118.95 goals are scored on average throughout each World Cup.\n",
        "\n",
        "* \tThere were, on average, 21.25 teams competing in each world cup.\n",
        "\n",
        "* \tIn each World Cup, 41.8 matches are played on average.\n",
        "\n",
        "* \tEvery world cup had an average attendance of 1872882.35 spectators.\n",
        "\n",
        "* \tAs the correlated came out 0.87, it can be conferred that both the variables (GoalsScored and QualifiedTeams) are highly correlated\n",
        "\n",
        "* \tAs the correlated came out 0.88, it can be conferred that both the variables (MatchesPlayed and GoalScored) are highly correlated\n",
        "\n",
        "* \tAs the correlated came out 0.95, it can be conferred that both the variables (QaulifiedTeam and MatchesPlayed) are highly correlated\n",
        "\n",
        "* \tAs the correlated came out 0.87, it can be conferred that both the variables (QaulifiedTeam and Attendance) are highly correlated\n",
        "\n",
        "* \tAs the correlated came out 0.93, it can be conferred that both the variables (MatchesPlayed and Attendance) are highly correlated\n",
        "\n",
        "* \tThe most qualifying team in a single world cup till 2014 was 32.\n",
        "\n",
        "* \tThe World Cups of 1930 and 1934 had the lowest goals (70)\n",
        "\n",
        "* \tHighest goals (171) was in 1998 and 2014 World Cup\n",
        "\n",
        "* \tHighest match (64) played in the World Cups of 1998, 2002, 2006, 2010, and 2014.\n",
        "\n",
        "*  Lowest match (17) played in 1934 World Cup\n",
        "\n"
      ]
    },
    {
      "cell_type": "markdown",
      "metadata": {
        "id": "6BQo295zVdCg"
      },
      "source": [
        "\n",
        "---\n",
        "\n",
        "\n",
        "### **Data Analysis on WorldCupMatches**\n",
        "\n",
        "\n",
        "---\n",
        "\n"
      ]
    },
    {
      "cell_type": "code",
      "execution_count": null,
      "metadata": {
        "id": "OmmvKYYoSE-K",
        "colab": {
          "base_uri": "https://localhost:8080/"
        },
        "outputId": "f79dc95e-7088-44f7-875d-8b2e0b083e04"
      },
      "outputs": [
        {
          "output_type": "execute_result",
          "data": {
            "text/plain": [
              "(852, 20)"
            ]
          },
          "metadata": {},
          "execution_count": 25
        }
      ],
      "source": [
        "# Check numbers of rows and columns in WorldCupMatches Dataset\n",
        "\n",
        "dataMatches.shape"
      ]
    },
    {
      "cell_type": "markdown",
      "metadata": {
        "id": "33jKxZQlSIiA"
      },
      "source": [
        "### **Observation (WorldCupMatches)**\n",
        "\n",
        "In the **WorldCupMatches** dataset, there are 852 rows and 20 columns"
      ]
    },
    {
      "cell_type": "code",
      "execution_count": null,
      "metadata": {
        "id": "omoL8yCWSSmJ",
        "colab": {
          "base_uri": "https://localhost:8080/"
        },
        "outputId": "226194d2-db19-4757-d4ec-7268ccbd333f"
      },
      "outputs": [
        {
          "output_type": "execute_result",
          "data": {
            "text/plain": [
              "Year                      int64\n",
              "Datetime                 object\n",
              "Stage                    object\n",
              "Stadium                  object\n",
              "City                     object\n",
              "Home Team Name           object\n",
              "Home Team Goals           int64\n",
              "Away Team Goals           int64\n",
              "Away Team Name           object\n",
              "Win conditions           object\n",
              "Attendance              float64\n",
              "Half-time Home Goals      int64\n",
              "Half-time Away Goals      int64\n",
              "Referee                  object\n",
              "Assistant 1              object\n",
              "Assistant 2              object\n",
              "RoundID                   int64\n",
              "MatchID                   int64\n",
              "Home Team Initials       object\n",
              "Away Team Initials       object\n",
              "dtype: object"
            ]
          },
          "metadata": {},
          "execution_count": 26
        }
      ],
      "source": [
        "# Check data types in WorldCupMatches dataset\n",
        "dataMatches.dtypes"
      ]
    },
    {
      "cell_type": "markdown",
      "metadata": {
        "id": "VZHCo9wnSiUB"
      },
      "source": [
        "### **Observation (WorldCupMatches)**\n",
        "In **WorldCupMatches** dataset, here we found the follwing datatypes in different fields\n",
        "\n",
        "<center>\n",
        "\n",
        "|**Field**|**Field Types**|\n",
        "|-------------|----------------|\n",
        "|Year|Numerical|\n",
        "|Datetime|Categorical|\n",
        "|Stage|Categorical|\n",
        "|Stadium|Categorical|\n",
        "|City|Categorical|\n",
        "|Home Team Name|Categorical|\n",
        "|Home Team Goals|Numerical|\n",
        "|Away Team Goals|Numerical|\n",
        "|Away Team Name|Categorical|\n",
        "|Win conditions|Categorical|\n",
        "|Attendance   |Numerical|\n",
        "|Half-time Home Goals|Numerical|\n",
        "|Half-time Away Goals|Numerical|\n",
        "|Referee|Categorical|\n",
        "|Assistant 1|Categorical|\n",
        "|Assistant 2|Categorical|\n",
        "|RoundID|Numerical|\n",
        "|MatchID|Numerical|\n",
        "|Home Team Initials|Categorical|\n",
        "|Away Team Initials|Categorical|\n",
        "<center>"
      ]
    },
    {
      "cell_type": "code",
      "execution_count": null,
      "metadata": {
        "id": "STg1lp0pTxP4",
        "colab": {
          "base_uri": "https://localhost:8080/"
        },
        "outputId": "d86ead72-8da0-497f-b23d-7a9f831b755b"
      },
      "outputs": [
        {
          "output_type": "execute_result",
          "data": {
            "text/plain": [
              "Year                    0\n",
              "Datetime                0\n",
              "Stage                   0\n",
              "Stadium                 0\n",
              "City                    0\n",
              "Home Team Name          0\n",
              "Home Team Goals         0\n",
              "Away Team Goals         0\n",
              "Away Team Name          0\n",
              "Win conditions          0\n",
              "Attendance              2\n",
              "Half-time Home Goals    0\n",
              "Half-time Away Goals    0\n",
              "Referee                 0\n",
              "Assistant 1             0\n",
              "Assistant 2             0\n",
              "RoundID                 0\n",
              "MatchID                 0\n",
              "Home Team Initials      0\n",
              "Away Team Initials      0\n",
              "dtype: int64"
            ]
          },
          "metadata": {},
          "execution_count": 27
        }
      ],
      "source": [
        "# Check NULL value in WorldCupMatches dataset\n",
        "\n",
        "dataMatches.isnull().sum()"
      ]
    },
    {
      "cell_type": "markdown",
      "metadata": {
        "id": "NPf68frVUVJ7"
      },
      "source": [
        "### **Observation (WorldCupMatches)**\n",
        "In the **WorldCupMatches**, we found 2 null values in **Attendance** field"
      ]
    },
    {
      "cell_type": "code",
      "execution_count": null,
      "metadata": {
        "id": "wPu_pio4ZdLf"
      },
      "outputs": [],
      "source": [
        "# Fill the empty value of Attendance field by it's mean value\n",
        "\n",
        "dataMatches['Attendance'].fillna(value=dataMatches['Attendance'].mean(), inplace = True)"
      ]
    },
    {
      "cell_type": "code",
      "execution_count": null,
      "metadata": {
        "id": "zCVW3-AsXln4",
        "colab": {
          "base_uri": "https://localhost:8080/",
          "height": 362
        },
        "outputId": "ec2e8462-83ad-4d9b-c844-c94f714ffab6"
      },
      "outputs": [
        {
          "output_type": "execute_result",
          "data": {
            "text/plain": [
              "              Year  Home Team Goals  Away Team Goals     Attendance  \\\n",
              "count   852.000000       852.000000       852.000000     852.000000   \n",
              "mean   1985.089202         1.811033         1.022300   45164.800000   \n",
              "std      22.448825         1.610255         1.087573   23457.635776   \n",
              "min    1930.000000         0.000000         0.000000    2000.000000   \n",
              "25%    1970.000000         1.000000         0.000000   30000.000000   \n",
              "50%    1990.000000         2.000000         1.000000   41788.000000   \n",
              "75%    2002.000000         3.000000         2.000000   61361.500000   \n",
              "max    2014.000000        10.000000         7.000000  173850.000000   \n",
              "\n",
              "       Half-time Home Goals  Half-time Away Goals       RoundID       MatchID  \n",
              "count            852.000000            852.000000  8.520000e+02  8.520000e+02  \n",
              "mean               0.708920              0.428404  1.066177e+07  6.134687e+07  \n",
              "std                0.937414              0.691252  2.729613e+07  1.110572e+08  \n",
              "min                0.000000              0.000000  2.010000e+02  2.500000e+01  \n",
              "25%                0.000000              0.000000  2.620000e+02  1.188750e+03  \n",
              "50%                0.000000              0.000000  3.370000e+02  2.191000e+03  \n",
              "75%                1.000000              1.000000  2.497220e+05  4.395006e+07  \n",
              "max                6.000000              5.000000  9.741060e+07  3.001865e+08  "
            ],
            "text/html": [
              "\n",
              "  <div id=\"df-254f34d6-32bd-476d-bce6-87adc3ec4ed7\">\n",
              "    <div class=\"colab-df-container\">\n",
              "      <div>\n",
              "<style scoped>\n",
              "    .dataframe tbody tr th:only-of-type {\n",
              "        vertical-align: middle;\n",
              "    }\n",
              "\n",
              "    .dataframe tbody tr th {\n",
              "        vertical-align: top;\n",
              "    }\n",
              "\n",
              "    .dataframe thead th {\n",
              "        text-align: right;\n",
              "    }\n",
              "</style>\n",
              "<table border=\"1\" class=\"dataframe\">\n",
              "  <thead>\n",
              "    <tr style=\"text-align: right;\">\n",
              "      <th></th>\n",
              "      <th>Year</th>\n",
              "      <th>Home Team Goals</th>\n",
              "      <th>Away Team Goals</th>\n",
              "      <th>Attendance</th>\n",
              "      <th>Half-time Home Goals</th>\n",
              "      <th>Half-time Away Goals</th>\n",
              "      <th>RoundID</th>\n",
              "      <th>MatchID</th>\n",
              "    </tr>\n",
              "  </thead>\n",
              "  <tbody>\n",
              "    <tr>\n",
              "      <th>count</th>\n",
              "      <td>852.000000</td>\n",
              "      <td>852.000000</td>\n",
              "      <td>852.000000</td>\n",
              "      <td>852.000000</td>\n",
              "      <td>852.000000</td>\n",
              "      <td>852.000000</td>\n",
              "      <td>8.520000e+02</td>\n",
              "      <td>8.520000e+02</td>\n",
              "    </tr>\n",
              "    <tr>\n",
              "      <th>mean</th>\n",
              "      <td>1985.089202</td>\n",
              "      <td>1.811033</td>\n",
              "      <td>1.022300</td>\n",
              "      <td>45164.800000</td>\n",
              "      <td>0.708920</td>\n",
              "      <td>0.428404</td>\n",
              "      <td>1.066177e+07</td>\n",
              "      <td>6.134687e+07</td>\n",
              "    </tr>\n",
              "    <tr>\n",
              "      <th>std</th>\n",
              "      <td>22.448825</td>\n",
              "      <td>1.610255</td>\n",
              "      <td>1.087573</td>\n",
              "      <td>23457.635776</td>\n",
              "      <td>0.937414</td>\n",
              "      <td>0.691252</td>\n",
              "      <td>2.729613e+07</td>\n",
              "      <td>1.110572e+08</td>\n",
              "    </tr>\n",
              "    <tr>\n",
              "      <th>min</th>\n",
              "      <td>1930.000000</td>\n",
              "      <td>0.000000</td>\n",
              "      <td>0.000000</td>\n",
              "      <td>2000.000000</td>\n",
              "      <td>0.000000</td>\n",
              "      <td>0.000000</td>\n",
              "      <td>2.010000e+02</td>\n",
              "      <td>2.500000e+01</td>\n",
              "    </tr>\n",
              "    <tr>\n",
              "      <th>25%</th>\n",
              "      <td>1970.000000</td>\n",
              "      <td>1.000000</td>\n",
              "      <td>0.000000</td>\n",
              "      <td>30000.000000</td>\n",
              "      <td>0.000000</td>\n",
              "      <td>0.000000</td>\n",
              "      <td>2.620000e+02</td>\n",
              "      <td>1.188750e+03</td>\n",
              "    </tr>\n",
              "    <tr>\n",
              "      <th>50%</th>\n",
              "      <td>1990.000000</td>\n",
              "      <td>2.000000</td>\n",
              "      <td>1.000000</td>\n",
              "      <td>41788.000000</td>\n",
              "      <td>0.000000</td>\n",
              "      <td>0.000000</td>\n",
              "      <td>3.370000e+02</td>\n",
              "      <td>2.191000e+03</td>\n",
              "    </tr>\n",
              "    <tr>\n",
              "      <th>75%</th>\n",
              "      <td>2002.000000</td>\n",
              "      <td>3.000000</td>\n",
              "      <td>2.000000</td>\n",
              "      <td>61361.500000</td>\n",
              "      <td>1.000000</td>\n",
              "      <td>1.000000</td>\n",
              "      <td>2.497220e+05</td>\n",
              "      <td>4.395006e+07</td>\n",
              "    </tr>\n",
              "    <tr>\n",
              "      <th>max</th>\n",
              "      <td>2014.000000</td>\n",
              "      <td>10.000000</td>\n",
              "      <td>7.000000</td>\n",
              "      <td>173850.000000</td>\n",
              "      <td>6.000000</td>\n",
              "      <td>5.000000</td>\n",
              "      <td>9.741060e+07</td>\n",
              "      <td>3.001865e+08</td>\n",
              "    </tr>\n",
              "  </tbody>\n",
              "</table>\n",
              "</div>\n",
              "      <button class=\"colab-df-convert\" onclick=\"convertToInteractive('df-254f34d6-32bd-476d-bce6-87adc3ec4ed7')\"\n",
              "              title=\"Convert this dataframe to an interactive table.\"\n",
              "              style=\"display:none;\">\n",
              "        \n",
              "  <svg xmlns=\"http://www.w3.org/2000/svg\" height=\"24px\"viewBox=\"0 0 24 24\"\n",
              "       width=\"24px\">\n",
              "    <path d=\"M0 0h24v24H0V0z\" fill=\"none\"/>\n",
              "    <path d=\"M18.56 5.44l.94 2.06.94-2.06 2.06-.94-2.06-.94-.94-2.06-.94 2.06-2.06.94zm-11 1L8.5 8.5l.94-2.06 2.06-.94-2.06-.94L8.5 2.5l-.94 2.06-2.06.94zm10 10l.94 2.06.94-2.06 2.06-.94-2.06-.94-.94-2.06-.94 2.06-2.06.94z\"/><path d=\"M17.41 7.96l-1.37-1.37c-.4-.4-.92-.59-1.43-.59-.52 0-1.04.2-1.43.59L10.3 9.45l-7.72 7.72c-.78.78-.78 2.05 0 2.83L4 21.41c.39.39.9.59 1.41.59.51 0 1.02-.2 1.41-.59l7.78-7.78 2.81-2.81c.8-.78.8-2.07 0-2.86zM5.41 20L4 18.59l7.72-7.72 1.47 1.35L5.41 20z\"/>\n",
              "  </svg>\n",
              "      </button>\n",
              "      \n",
              "  <style>\n",
              "    .colab-df-container {\n",
              "      display:flex;\n",
              "      flex-wrap:wrap;\n",
              "      gap: 12px;\n",
              "    }\n",
              "\n",
              "    .colab-df-convert {\n",
              "      background-color: #E8F0FE;\n",
              "      border: none;\n",
              "      border-radius: 50%;\n",
              "      cursor: pointer;\n",
              "      display: none;\n",
              "      fill: #1967D2;\n",
              "      height: 32px;\n",
              "      padding: 0 0 0 0;\n",
              "      width: 32px;\n",
              "    }\n",
              "\n",
              "    .colab-df-convert:hover {\n",
              "      background-color: #E2EBFA;\n",
              "      box-shadow: 0px 1px 2px rgba(60, 64, 67, 0.3), 0px 1px 3px 1px rgba(60, 64, 67, 0.15);\n",
              "      fill: #174EA6;\n",
              "    }\n",
              "\n",
              "    [theme=dark] .colab-df-convert {\n",
              "      background-color: #3B4455;\n",
              "      fill: #D2E3FC;\n",
              "    }\n",
              "\n",
              "    [theme=dark] .colab-df-convert:hover {\n",
              "      background-color: #434B5C;\n",
              "      box-shadow: 0px 1px 3px 1px rgba(0, 0, 0, 0.15);\n",
              "      filter: drop-shadow(0px 1px 2px rgba(0, 0, 0, 0.3));\n",
              "      fill: #FFFFFF;\n",
              "    }\n",
              "  </style>\n",
              "\n",
              "      <script>\n",
              "        const buttonEl =\n",
              "          document.querySelector('#df-254f34d6-32bd-476d-bce6-87adc3ec4ed7 button.colab-df-convert');\n",
              "        buttonEl.style.display =\n",
              "          google.colab.kernel.accessAllowed ? 'block' : 'none';\n",
              "\n",
              "        async function convertToInteractive(key) {\n",
              "          const element = document.querySelector('#df-254f34d6-32bd-476d-bce6-87adc3ec4ed7');\n",
              "          const dataTable =\n",
              "            await google.colab.kernel.invokeFunction('convertToInteractive',\n",
              "                                                     [key], {});\n",
              "          if (!dataTable) return;\n",
              "\n",
              "          const docLinkHtml = 'Like what you see? Visit the ' +\n",
              "            '<a target=\"_blank\" href=https://colab.research.google.com/notebooks/data_table.ipynb>data table notebook</a>'\n",
              "            + ' to learn more about interactive tables.';\n",
              "          element.innerHTML = '';\n",
              "          dataTable['output_type'] = 'display_data';\n",
              "          await google.colab.output.renderOutput(dataTable, element);\n",
              "          const docLink = document.createElement('div');\n",
              "          docLink.innerHTML = docLinkHtml;\n",
              "          element.appendChild(docLink);\n",
              "        }\n",
              "      </script>\n",
              "    </div>\n",
              "  </div>\n",
              "  "
            ]
          },
          "metadata": {},
          "execution_count": 29
        }
      ],
      "source": [
        "# Describe of the WorldCupMatches dataset\n",
        "\n",
        "dataMatches.describe()"
      ]
    },
    {
      "cell_type": "markdown",
      "metadata": {
        "id": "jQtJcVivYQXg"
      },
      "source": [
        "### **Observation (WorldCupMatches)**\n",
        "\n",
        "* Home team scored 1.81 goals in per match.\n",
        "\n",
        "* Matchwise, the away team scored 1.02 goals.\n",
        "\n",
        "* 45164.8 spectator attended matches on average.\n",
        "\n",
        "* The home team's average goal score at halftime was 0.70.\n",
        "\n",
        "* The away team's average goal score at halftime was 0.43.\n"
      ]
    },
    {
      "cell_type": "code",
      "source": [
        "# Stadium wise total match played\n",
        "\n",
        "myStadium = dataMatches['Stadium'].value_counts().sort_values(ascending = False).head(10)\n",
        "myStadium.index\n",
        "\n",
        "from matplotlib.ticker import MaxNLocator\n",
        "ax = plt.figure(figsize=(15,8)).gca()\n",
        "# ax.xaxis.set_major_locator(MaxNLocator(integer=True))\n",
        "ax.yaxis.set_major_locator(MaxNLocator(integer=True))\n",
        "sns.barplot(x=myStadium.index, y=myStadium.values)\n",
        "for p in ax.patches:\n",
        "   ax.annotate('{}'.format(p.get_height()), (p.get_x()+0.35, p.get_height()+0.10))\n",
        "\n",
        "plt.xticks(rotation = 90)\n",
        "plt.ylabel('# of match played')\n",
        "plt.xlabel(\"Stadium\")\n",
        "plt.title(\"Stadium wise numbers of matches\")\n",
        "\n",
        "plt.show()"
      ],
      "metadata": {
        "id": "lYtbsfLFQXhO",
        "colab": {
          "base_uri": "https://localhost:8080/",
          "height": 773
        },
        "outputId": "30acb02f-fe98-4ad6-c827-a4f75a613495"
      },
      "execution_count": null,
      "outputs": [
        {
          "output_type": "display_data",
          "data": {
            "text/plain": [
              "<Figure size 1080x576 with 1 Axes>"
            ],
            "image/png": "[encoded data removed]"
          },
          "metadata": {
            "needs_background": "light"
          }
        }
      ]
    },
    {
      "cell_type": "markdown",
      "metadata": {
        "id": "4dXJFyXseuRX"
      },
      "source": [
        "### **Observation (WorldCupMatches.xlsx)**\n",
        "\n",
        "* Maximum number of matches (19) played in Estadio Azteca stadium\n"
      ]
    },
    {
      "cell_type": "code",
      "execution_count": null,
      "metadata": {
        "id": "xBV5AJegXgLd",
        "colab": {
          "base_uri": "https://localhost:8080/"
        },
        "outputId": "c47acfc9-21e9-4998-af80-3a9779714433"
      },
      "outputs": [
        {
          "output_type": "execute_result",
          "data": {
            "text/plain": [
              "Stadium                                          City                \n",
              "Maracanï¿½ - Estï¿½dio Jornalista Mï¿½rio Filho  Rio De Janeiro          101692.625000\n",
              "Estadio Azteca                                   Mexico City             100923.684211\n",
              "Rose Bowl                                        Los Angeles              92600.875000\n",
              "Wembley Stadium                                  London                   86448.222222\n",
              "Soccer City Stadium                              Johannesburg             83857.375000\n",
              "Santiago Bernabeu                                Madrid                   82522.250000\n",
              "Stanford Stadium                                 San Francisco            81737.333333\n",
              "Stade de France                                  Saint-Denis              78222.222222\n",
              "Estadio do Maracana                              Rio De Janeiro           74197.100000\n",
              "Giants Stadium                                   New York/New Jersey      73689.714286\n",
              "Name: Attendance, dtype: float64"
            ]
          },
          "metadata": {},
          "execution_count": 31
        }
      ],
      "source": [
        "# Most popular 10 stadium\n",
        "\n",
        "dataMatches.groupby(['Stadium','City'])['Attendance'].mean().sort_values(ascending = False).head(10)"
      ]
    },
    {
      "cell_type": "markdown",
      "metadata": {
        "id": "YeGEh9QX7EBK"
      },
      "source": [
        "### **Observation**\n",
        "* As per analysis we have found most popular stadium is Maracanã Stadium of Rio De Janeiro city    "
      ]
    },
    {
      "cell_type": "code",
      "execution_count": null,
      "metadata": {
        "id": "6Wyl-TIqycOl",
        "colab": {
          "base_uri": "https://localhost:8080/",
          "height": 513
        },
        "outputId": "f74a05fb-2e97-453a-805b-d4937a7d63b1"
      },
      "outputs": [
        {
          "output_type": "display_data",
          "data": {
            "text/plain": [
              "<Figure size 1080x576 with 1 Axes>"
            ],
            "image/png": "[encoded data removed]"
          },
          "metadata": {
            "needs_background": "light"
          }
        }
      ],
      "source": [
        "# Calculate city wise matches as per WorldCupMatches dataset \n",
        "\n",
        "myCity = dataMatches['City'].value_counts().sort_values(ascending = False).head(10)\n",
        "myCity.index\n",
        "\n",
        "from matplotlib.ticker import MaxNLocator\n",
        "ax = plt.figure(figsize=(15,8)).gca()\n",
        "ax.yaxis.set_major_locator(MaxNLocator(integer=True))\n",
        "sns.barplot(x=myCity.index, y=myStadium.values)\n",
        "for p in ax.patches:\n",
        "   ax.annotate('{}'.format(p.get_height()), (p.get_x()+0.35, p.get_height()+0.10))\n",
        "\n",
        "#plt.xticks(rotation = 90)\n",
        "plt.title(\"City wise numbers of matches\")\n",
        "plt.xlabel('City')\n",
        "plt.ylabel('# of matches')\n",
        "plt.show()"
      ]
    },
    {
      "cell_type": "markdown",
      "metadata": {
        "id": "hsoHwohGyntd"
      },
      "source": [
        "### **Observatoin (WorldCupMatches.xlsx)**\n",
        "\n",
        "* Maximum world cup match played in Mexico City"
      ]
    },
    {
      "cell_type": "code",
      "execution_count": null,
      "metadata": {
        "id": "cqjRPVJezYEN",
        "colab": {
          "base_uri": "https://localhost:8080/",
          "height": 513
        },
        "outputId": "dd8454f0-7daa-472e-f4c4-16ae0954d7d3"
      },
      "outputs": [
        {
          "output_type": "display_data",
          "data": {
            "text/plain": [
              "<Figure size 1080x576 with 1 Axes>"
            ],
            "image/png": "[encoded data removed]"
          },
          "metadata": {
            "needs_background": "light"
          }
        }
      ],
      "source": [
        "# Calculate the number of teams who played as a Home team as per WorldCupMatches dataset \n",
        "\n",
        "myHomeTeam = dataMatches['Home Team Name'].value_counts().sort_values(ascending = False).head(10)\n",
        "from matplotlib.ticker import MaxNLocator\n",
        "ax = plt.figure(figsize=(15,8)).gca()\n",
        "ax.xaxis.set_major_locator(MaxNLocator(integer=True))\n",
        "sns.barplot(y = myHomeTeam.values, x=myHomeTeam.index)\n",
        "for p in ax.patches:\n",
        "   ax.annotate('{}'.format(p.get_height()), (p.get_x()+0.35, p.get_height()+0.10))\n",
        "\n",
        "plt.ylabel(\"# of matchs\")\n",
        "plt.xlabel(\"Country\")\n",
        "plt.title(\"Country wise match played as Home team\")\n",
        "\n",
        "plt.show()"
      ]
    },
    {
      "cell_type": "markdown",
      "metadata": {
        "id": "3Mq1nGUczo2l"
      },
      "source": [
        "### **Observatoin (WorldCupMatches.xlsx)**\n",
        "\n",
        "* Brazil has played the highest home matchs, followed by Germany."
      ]
    },
    {
      "cell_type": "code",
      "execution_count": null,
      "metadata": {
        "id": "vDTU_m5I7_C3",
        "colab": {
          "base_uri": "https://localhost:8080/",
          "height": 514
        },
        "outputId": "60b0013a-c6f1-48a2-fa5f-8ea34f6667e6"
      },
      "outputs": [
        {
          "output_type": "execute_result",
          "data": {
            "text/plain": [
              "Text(0, 0.5, '# of teams')"
            ]
          },
          "metadata": {},
          "execution_count": 34
        },
        {
          "output_type": "display_data",
          "data": {
            "text/plain": [
              "<Figure size 1080x576 with 1 Axes>"
            ],
            "image/png": "[encoded data removed]"
          },
          "metadata": {
            "needs_background": "light"
          }
        }
      ],
      "source": [
        "# Calculate the number of teams who played as Away team as per WorldCupMatches dataset \n",
        "\n",
        "myAwayTeam = dataMatches['Away Team Name'].value_counts().head(10).sort_values(ascending=False)\n",
        "from matplotlib.ticker import MaxNLocator\n",
        "ax = plt.figure(figsize =(15,8)).gca()\n",
        "# ax.xaxis.set_major_locator(MaxNLocator(integer=True))\n",
        "ax.xaxis.set_major_locator(MaxNLocator(integer = True))\n",
        "sns.barplot(x= myAwayTeam.index, y = myAwayTeam.values)\n",
        "for p in ax.patches:\n",
        "   ax.annotate('{}'.format(p.get_height()), (p.get_x()+0.35, p.get_height()+0.10))\n",
        "\n",
        "plt.xlabel(\"Country\")\n",
        "plt.ylabel('# of teams')"
      ]
    },
    {
      "cell_type": "markdown",
      "metadata": {
        "id": "5WNAntyy8Ml7"
      },
      "source": [
        "### **Observatoin (WorldCupMatches.xlsx)**\n",
        "Mexico has played the highest away match, followed by Germany."
      ]
    },
    {
      "cell_type": "code",
      "execution_count": null,
      "metadata": {
        "id": "l9mbOufQ8cSe",
        "colab": {
          "base_uri": "https://localhost:8080/",
          "height": 249
        },
        "outputId": "54969450-6f8d-4642-8c6b-eb9ce7bc19d6"
      },
      "outputs": [
        {
          "output_type": "execute_result",
          "data": {
            "text/plain": [
              "     Year              Datetime    Stage      Stadium            City  \\\n",
              "243  1974  18 Jun 1974 - 19:30   Group 2  Parkstadion  Gelsenkirchen    \n",
              "\n",
              "    Home Team Name  Home Team Goals  Away Team Goals Away Team Name  \\\n",
              "243     Yugoslavia                9                0          Zaire   \n",
              "\n",
              "    Win conditions  Attendance  Half-time Home Goals  Half-time Away Goals  \\\n",
              "243                    31700.0                     6                     0   \n",
              "\n",
              "                Referee              Assistant 1               Assistant 2  \\\n",
              "243  DELGADO Omar (COL)  LLOBREGAT Vicente (VEN)  BARRETO RUIZ Ramon (URU)   \n",
              "\n",
              "     RoundID  MatchID Home Team Initials Away Team Initials  \n",
              "243      262     2186                YUG                ZAI  "
            ],
            "text/html": [
              "\n",
              "  <div id=\"df-aadbc15f-a7b4-41b1-85bd-f472073da876\">\n",
              "    <div class=\"colab-df-container\">\n",
              "      <div>\n",
              "<style scoped>\n",
              "    .dataframe tbody tr th:only-of-type {\n",
              "        vertical-align: middle;\n",
              "    }\n",
              "\n",
              "    .dataframe tbody tr th {\n",
              "        vertical-align: top;\n",
              "    }\n",
              "\n",
              "    .dataframe thead th {\n",
              "        text-align: right;\n",
              "    }\n",
              "</style>\n",
              "<table border=\"1\" class=\"dataframe\">\n",
              "  <thead>\n",
              "    <tr style=\"text-align: right;\">\n",
              "      <th></th>\n",
              "      <th>Year</th>\n",
              "      <th>Datetime</th>\n",
              "      <th>Stage</th>\n",
              "      <th>Stadium</th>\n",
              "      <th>City</th>\n",
              "      <th>Home Team Name</th>\n",
              "      <th>Home Team Goals</th>\n",
              "      <th>Away Team Goals</th>\n",
              "      <th>Away Team Name</th>\n",
              "      <th>Win conditions</th>\n",
              "      <th>Attendance</th>\n",
              "      <th>Half-time Home Goals</th>\n",
              "      <th>Half-time Away Goals</th>\n",
              "      <th>Referee</th>\n",
              "      <th>Assistant 1</th>\n",
              "      <th>Assistant 2</th>\n",
              "      <th>RoundID</th>\n",
              "      <th>MatchID</th>\n",
              "      <th>Home Team Initials</th>\n",
              "      <th>Away Team Initials</th>\n",
              "    </tr>\n",
              "  </thead>\n",
              "  <tbody>\n",
              "    <tr>\n",
              "      <th>243</th>\n",
              "      <td>1974</td>\n",
              "      <td>18 Jun 1974 - 19:30</td>\n",
              "      <td>Group 2</td>\n",
              "      <td>Parkstadion</td>\n",
              "      <td>Gelsenkirchen</td>\n",
              "      <td>Yugoslavia</td>\n",
              "      <td>9</td>\n",
              "      <td>0</td>\n",
              "      <td>Zaire</td>\n",
              "      <td></td>\n",
              "      <td>31700.0</td>\n",
              "      <td>6</td>\n",
              "      <td>0</td>\n",
              "      <td>DELGADO Omar (COL)</td>\n",
              "      <td>LLOBREGAT Vicente (VEN)</td>\n",
              "      <td>BARRETO RUIZ Ramon (URU)</td>\n",
              "      <td>262</td>\n",
              "      <td>2186</td>\n",
              "      <td>YUG</td>\n",
              "      <td>ZAI</td>\n",
              "    </tr>\n",
              "  </tbody>\n",
              "</table>\n",
              "</div>\n",
              "      <button class=\"colab-df-convert\" onclick=\"convertToInteractive('df-aadbc15f-a7b4-41b1-85bd-f472073da876')\"\n",
              "              title=\"Convert this dataframe to an interactive table.\"\n",
              "              style=\"display:none;\">\n",
              "        \n",
              "  <svg xmlns=\"http://www.w3.org/2000/svg\" height=\"24px\"viewBox=\"0 0 24 24\"\n",
              "       width=\"24px\">\n",
              "    <path d=\"M0 0h24v24H0V0z\" fill=\"none\"/>\n",
              "    <path d=\"M18.56 5.44l.94 2.06.94-2.06 2.06-.94-2.06-.94-.94-2.06-.94 2.06-2.06.94zm-11 1L8.5 8.5l.94-2.06 2.06-.94-2.06-.94L8.5 2.5l-.94 2.06-2.06.94zm10 10l.94 2.06.94-2.06 2.06-.94-2.06-.94-.94-2.06-.94 2.06-2.06.94z\"/><path d=\"M17.41 7.96l-1.37-1.37c-.4-.4-.92-.59-1.43-.59-.52 0-1.04.2-1.43.59L10.3 9.45l-7.72 7.72c-.78.78-.78 2.05 0 2.83L4 21.41c.39.39.9.59 1.41.59.51 0 1.02-.2 1.41-.59l7.78-7.78 2.81-2.81c.8-.78.8-2.07 0-2.86zM5.41 20L4 18.59l7.72-7.72 1.47 1.35L5.41 20z\"/>\n",
              "  </svg>\n",
              "      </button>\n",
              "      \n",
              "  <style>\n",
              "    .colab-df-container {\n",
              "      display:flex;\n",
              "      flex-wrap:wrap;\n",
              "      gap: 12px;\n",
              "    }\n",
              "\n",
              "    .colab-df-convert {\n",
              "      background-color: #E8F0FE;\n",
              "      border: none;\n",
              "      border-radius: 50%;\n",
              "      cursor: pointer;\n",
              "      display: none;\n",
              "      fill: #1967D2;\n",
              "      height: 32px;\n",
              "      padding: 0 0 0 0;\n",
              "      width: 32px;\n",
              "    }\n",
              "\n",
              "    .colab-df-convert:hover {\n",
              "      background-color: #E2EBFA;\n",
              "      box-shadow: 0px 1px 2px rgba(60, 64, 67, 0.3), 0px 1px 3px 1px rgba(60, 64, 67, 0.15);\n",
              "      fill: #174EA6;\n",
              "    }\n",
              "\n",
              "    [theme=dark] .colab-df-convert {\n",
              "      background-color: #3B4455;\n",
              "      fill: #D2E3FC;\n",
              "    }\n",
              "\n",
              "    [theme=dark] .colab-df-convert:hover {\n",
              "      background-color: #434B5C;\n",
              "      box-shadow: 0px 1px 3px 1px rgba(0, 0, 0, 0.15);\n",
              "      filter: drop-shadow(0px 1px 2px rgba(0, 0, 0, 0.3));\n",
              "      fill: #FFFFFF;\n",
              "    }\n",
              "  </style>\n",
              "\n",
              "      <script>\n",
              "        const buttonEl =\n",
              "          document.querySelector('#df-aadbc15f-a7b4-41b1-85bd-f472073da876 button.colab-df-convert');\n",
              "        buttonEl.style.display =\n",
              "          google.colab.kernel.accessAllowed ? 'block' : 'none';\n",
              "\n",
              "        async function convertToInteractive(key) {\n",
              "          const element = document.querySelector('#df-aadbc15f-a7b4-41b1-85bd-f472073da876');\n",
              "          const dataTable =\n",
              "            await google.colab.kernel.invokeFunction('convertToInteractive',\n",
              "                                                     [key], {});\n",
              "          if (!dataTable) return;\n",
              "\n",
              "          const docLinkHtml = 'Like what you see? Visit the ' +\n",
              "            '<a target=\"_blank\" href=https://colab.research.google.com/notebooks/data_table.ipynb>data table notebook</a>'\n",
              "            + ' to learn more about interactive tables.';\n",
              "          element.innerHTML = '';\n",
              "          dataTable['output_type'] = 'display_data';\n",
              "          await google.colab.output.renderOutput(dataTable, element);\n",
              "          const docLink = document.createElement('div');\n",
              "          docLink.innerHTML = docLinkHtml;\n",
              "          element.appendChild(docLink);\n",
              "        }\n",
              "      </script>\n",
              "    </div>\n",
              "  </div>\n",
              "  "
            ]
          },
          "metadata": {},
          "execution_count": 35
        }
      ],
      "source": [
        "# Calculate the number of goals the host team has scored in their home stadium before halftime as per WorldCupMatches dataset.\n",
        "\n",
        "dataMatches[dataMatches['Half-time Home Goals'] == dataMatches['Half-time Home Goals'].max()]\n"
      ]
    },
    {
      "cell_type": "markdown",
      "metadata": {
        "id": "Z7Wzgr4m9uRk"
      },
      "source": [
        "### **Observatoin (WorldCupMatches.xlsx)**\n",
        "\n",
        "* In 1974 world cup Yugoslavia's six goals against Zaire are the record for the most goals scored by the home team at halftime.\n"
      ]
    },
    {
      "cell_type": "code",
      "source": [
        "cntHomeTeamWin = 0\n",
        "cntAwayTeamWin = 0\n",
        "cntDraw = 0\n",
        "\n",
        "for homeTeam, awayTeam in zip(dataMatches['Home Team Goals'],dataMatches['Away Team Goals']):\n",
        "  if homeTeam > awayTeam:\n",
        "    cntHomeTeamWin = cntHomeTeamWin + 1\n",
        "  elif homeTeam < awayTeam:\n",
        "    cntAwayTeamWin = cntAwayTeamWin + 1 \n",
        "  else :\n",
        "    cntDraw = cntDraw + 1\n",
        "\n",
        "if(cntHomeTeamWin>cntAwayTeamWin) and (cntHomeTeamWin>cntDraw):\n",
        "  print('Home team won the maximum numbers of match')\n",
        "elif(cntAwayTeamWin>cntHomeTeamWin) and (cntAwayTeamWin>cntDraw):\n",
        "  print('Away team won the maximum numbers of match')\n",
        "elif(cntDraw>cntHomeTeamWin) and (cntDraw>cntAwayTeamWin):\n",
        "  print('There was no result i.e. maximum numbers of matches are draw')\n",
        "elif(cntHomeTeamWin==cntAwayTeamWin):\n",
        "  print('Equal numbers of matches were won by Home team and Away team')\n",
        "elif(cntHomeTeamWin==cntDraw):\n",
        "  print('Equal numbers of matches were won and draw by Home team')\n",
        "elif(cntAwayTeamWin==cntDraw):\n",
        "  print('Equal numbers of matches were won and draw by Home team')"
      ],
      "metadata": {
        "id": "C8k_NIouTlh8",
        "colab": {
          "base_uri": "https://localhost:8080/"
        },
        "outputId": "817a9c11-72f2-4192-bb79-0931c278ae13"
      },
      "execution_count": null,
      "outputs": [
        {
          "output_type": "stream",
          "name": "stdout",
          "text": [
            "Home team won the maximum numbers of match\n"
          ]
        }
      ]
    },
    {
      "cell_type": "markdown",
      "source": [
        "### **Observation**\n",
        "Maximum numbers of matches won by the Home team"
      ],
      "metadata": {
        "id": "tMBCm2WCUl1e"
      }
    },
    {
      "cell_type": "code",
      "execution_count": null,
      "metadata": {
        "id": "Xd3bhIhAK1N-",
        "colab": {
          "base_uri": "https://localhost:8080/",
          "height": 364
        },
        "outputId": "224b14f9-104b-49bb-c712-1fc8d1b4f28a"
      },
      "outputs": [
        {
          "output_type": "execute_result",
          "data": {
            "text/plain": [
              "     Year              Datetime        Stage           Stadium  \\\n",
              "246  1974  19 Jun 1974 - 19:30       Group 4    Olympiastadion   \n",
              "826  2014  08 Jul 2014 - 17:00   Semi-finals  Estadio Mineirao   \n",
              "848  2014  08 Jul 2014 - 17:00   Semi-finals  Estadio Mineirao   \n",
              "\n",
              "                City Home Team Name  Home Team Goals  Away Team Goals  \\\n",
              "246          Munich           Haiti                0                7   \n",
              "826  Belo Horizonte          Brazil                1                7   \n",
              "848  Belo Horizonte          Brazil                1                7   \n",
              "\n",
              "    Away Team Name Win conditions  Attendance  Half-time Home Goals  \\\n",
              "246         Poland                    25300.0                     0   \n",
              "826        Germany                    58141.0                     0   \n",
              "848        Germany                    58141.0                     0   \n",
              "\n",
              "     Half-time Away Goals                Referee              Assistant 1  \\\n",
              "246                     5   SUPPIAH George (SIN)  BIWERSI Ferdinand (GER)   \n",
              "826                     5  RODRIGUEZ Marco (MEX)  TORRENTERA Marvin (MEX)   \n",
              "848                     5  RODRIGUEZ Marco (MEX)  TORRENTERA Marvin (MEX)   \n",
              "\n",
              "                 Assistant 2  RoundID    MatchID Home Team Initials  \\\n",
              "246  ESCHWEILER Walter (GER)      262       2085                HAI   \n",
              "826    QUINTERO Marcos (MEX)   255955  300186474                BRA   \n",
              "848    QUINTERO Marcos (MEX)   255955  300186474                BRA   \n",
              "\n",
              "    Away Team Initials  \n",
              "246                POL  \n",
              "826                GER  \n",
              "848                GER  "
            ],
            "text/html": [
              "\n",
              "  <div id=\"df-0cfdfff2-d874-41c4-87ea-9802853283bd\">\n",
              "    <div class=\"colab-df-container\">\n",
              "      <div>\n",
              "<style scoped>\n",
              "    .dataframe tbody tr th:only-of-type {\n",
              "        vertical-align: middle;\n",
              "    }\n",
              "\n",
              "    .dataframe tbody tr th {\n",
              "        vertical-align: top;\n",
              "    }\n",
              "\n",
              "    .dataframe thead th {\n",
              "        text-align: right;\n",
              "    }\n",
              "</style>\n",
              "<table border=\"1\" class=\"dataframe\">\n",
              "  <thead>\n",
              "    <tr style=\"text-align: right;\">\n",
              "      <th></th>\n",
              "      <th>Year</th>\n",
              "      <th>Datetime</th>\n",
              "      <th>Stage</th>\n",
              "      <th>Stadium</th>\n",
              "      <th>City</th>\n",
              "      <th>Home Team Name</th>\n",
              "      <th>Home Team Goals</th>\n",
              "      <th>Away Team Goals</th>\n",
              "      <th>Away Team Name</th>\n",
              "      <th>Win conditions</th>\n",
              "      <th>Attendance</th>\n",
              "      <th>Half-time Home Goals</th>\n",
              "      <th>Half-time Away Goals</th>\n",
              "      <th>Referee</th>\n",
              "      <th>Assistant 1</th>\n",
              "      <th>Assistant 2</th>\n",
              "      <th>RoundID</th>\n",
              "      <th>MatchID</th>\n",
              "      <th>Home Team Initials</th>\n",
              "      <th>Away Team Initials</th>\n",
              "    </tr>\n",
              "  </thead>\n",
              "  <tbody>\n",
              "    <tr>\n",
              "      <th>246</th>\n",
              "      <td>1974</td>\n",
              "      <td>19 Jun 1974 - 19:30</td>\n",
              "      <td>Group 4</td>\n",
              "      <td>Olympiastadion</td>\n",
              "      <td>Munich</td>\n",
              "      <td>Haiti</td>\n",
              "      <td>0</td>\n",
              "      <td>7</td>\n",
              "      <td>Poland</td>\n",
              "      <td></td>\n",
              "      <td>25300.0</td>\n",
              "      <td>0</td>\n",
              "      <td>5</td>\n",
              "      <td>SUPPIAH George (SIN)</td>\n",
              "      <td>BIWERSI Ferdinand (GER)</td>\n",
              "      <td>ESCHWEILER Walter (GER)</td>\n",
              "      <td>262</td>\n",
              "      <td>2085</td>\n",
              "      <td>HAI</td>\n",
              "      <td>POL</td>\n",
              "    </tr>\n",
              "    <tr>\n",
              "      <th>826</th>\n",
              "      <td>2014</td>\n",
              "      <td>08 Jul 2014 - 17:00</td>\n",
              "      <td>Semi-finals</td>\n",
              "      <td>Estadio Mineirao</td>\n",
              "      <td>Belo Horizonte</td>\n",
              "      <td>Brazil</td>\n",
              "      <td>1</td>\n",
              "      <td>7</td>\n",
              "      <td>Germany</td>\n",
              "      <td></td>\n",
              "      <td>58141.0</td>\n",
              "      <td>0</td>\n",
              "      <td>5</td>\n",
              "      <td>RODRIGUEZ Marco (MEX)</td>\n",
              "      <td>TORRENTERA Marvin (MEX)</td>\n",
              "      <td>QUINTERO Marcos (MEX)</td>\n",
              "      <td>255955</td>\n",
              "      <td>300186474</td>\n",
              "      <td>BRA</td>\n",
              "      <td>GER</td>\n",
              "    </tr>\n",
              "    <tr>\n",
              "      <th>848</th>\n",
              "      <td>2014</td>\n",
              "      <td>08 Jul 2014 - 17:00</td>\n",
              "      <td>Semi-finals</td>\n",
              "      <td>Estadio Mineirao</td>\n",
              "      <td>Belo Horizonte</td>\n",
              "      <td>Brazil</td>\n",
              "      <td>1</td>\n",
              "      <td>7</td>\n",
              "      <td>Germany</td>\n",
              "      <td></td>\n",
              "      <td>58141.0</td>\n",
              "      <td>0</td>\n",
              "      <td>5</td>\n",
              "      <td>RODRIGUEZ Marco (MEX)</td>\n",
              "      <td>TORRENTERA Marvin (MEX)</td>\n",
              "      <td>QUINTERO Marcos (MEX)</td>\n",
              "      <td>255955</td>\n",
              "      <td>300186474</td>\n",
              "      <td>BRA</td>\n",
              "      <td>GER</td>\n",
              "    </tr>\n",
              "  </tbody>\n",
              "</table>\n",
              "</div>\n",
              "      <button class=\"colab-df-convert\" onclick=\"convertToInteractive('df-0cfdfff2-d874-41c4-87ea-9802853283bd')\"\n",
              "              title=\"Convert this dataframe to an interactive table.\"\n",
              "              style=\"display:none;\">\n",
              "        \n",
              "  <svg xmlns=\"http://www.w3.org/2000/svg\" height=\"24px\"viewBox=\"0 0 24 24\"\n",
              "       width=\"24px\">\n",
              "    <path d=\"M0 0h24v24H0V0z\" fill=\"none\"/>\n",
              "    <path d=\"M18.56 5.44l.94 2.06.94-2.06 2.06-.94-2.06-.94-.94-2.06-.94 2.06-2.06.94zm-11 1L8.5 8.5l.94-2.06 2.06-.94-2.06-.94L8.5 2.5l-.94 2.06-2.06.94zm10 10l.94 2.06.94-2.06 2.06-.94-2.06-.94-.94-2.06-.94 2.06-2.06.94z\"/><path d=\"M17.41 7.96l-1.37-1.37c-.4-.4-.92-.59-1.43-.59-.52 0-1.04.2-1.43.59L10.3 9.45l-7.72 7.72c-.78.78-.78 2.05 0 2.83L4 21.41c.39.39.9.59 1.41.59.51 0 1.02-.2 1.41-.59l7.78-7.78 2.81-2.81c.8-.78.8-2.07 0-2.86zM5.41 20L4 18.59l7.72-7.72 1.47 1.35L5.41 20z\"/>\n",
              "  </svg>\n",
              "      </button>\n",
              "      \n",
              "  <style>\n",
              "    .colab-df-container {\n",
              "      display:flex;\n",
              "      flex-wrap:wrap;\n",
              "      gap: 12px;\n",
              "    }\n",
              "\n",
              "    .colab-df-convert {\n",
              "      background-color: #E8F0FE;\n",
              "      border: none;\n",
              "      border-radius: 50%;\n",
              "      cursor: pointer;\n",
              "      display: none;\n",
              "      fill: #1967D2;\n",
              "      height: 32px;\n",
              "      padding: 0 0 0 0;\n",
              "      width: 32px;\n",
              "    }\n",
              "\n",
              "    .colab-df-convert:hover {\n",
              "      background-color: #E2EBFA;\n",
              "      box-shadow: 0px 1px 2px rgba(60, 64, 67, 0.3), 0px 1px 3px 1px rgba(60, 64, 67, 0.15);\n",
              "      fill: #174EA6;\n",
              "    }\n",
              "\n",
              "    [theme=dark] .colab-df-convert {\n",
              "      background-color: #3B4455;\n",
              "      fill: #D2E3FC;\n",
              "    }\n",
              "\n",
              "    [theme=dark] .colab-df-convert:hover {\n",
              "      background-color: #434B5C;\n",
              "      box-shadow: 0px 1px 3px 1px rgba(0, 0, 0, 0.15);\n",
              "      filter: drop-shadow(0px 1px 2px rgba(0, 0, 0, 0.3));\n",
              "      fill: #FFFFFF;\n",
              "    }\n",
              "  </style>\n",
              "\n",
              "      <script>\n",
              "        const buttonEl =\n",
              "          document.querySelector('#df-0cfdfff2-d874-41c4-87ea-9802853283bd button.colab-df-convert');\n",
              "        buttonEl.style.display =\n",
              "          google.colab.kernel.accessAllowed ? 'block' : 'none';\n",
              "\n",
              "        async function convertToInteractive(key) {\n",
              "          const element = document.querySelector('#df-0cfdfff2-d874-41c4-87ea-9802853283bd');\n",
              "          const dataTable =\n",
              "            await google.colab.kernel.invokeFunction('convertToInteractive',\n",
              "                                                     [key], {});\n",
              "          if (!dataTable) return;\n",
              "\n",
              "          const docLinkHtml = 'Like what you see? Visit the ' +\n",
              "            '<a target=\"_blank\" href=https://colab.research.google.com/notebooks/data_table.ipynb>data table notebook</a>'\n",
              "            + ' to learn more about interactive tables.';\n",
              "          element.innerHTML = '';\n",
              "          dataTable['output_type'] = 'display_data';\n",
              "          await google.colab.output.renderOutput(dataTable, element);\n",
              "          const docLink = document.createElement('div');\n",
              "          docLink.innerHTML = docLinkHtml;\n",
              "          element.appendChild(docLink);\n",
              "        }\n",
              "      </script>\n",
              "    </div>\n",
              "  </div>\n",
              "  "
            ]
          },
          "metadata": {},
          "execution_count": 37
        }
      ],
      "source": [
        "# Calculate the number of goals the away team has scored before halftime as per WorldCupMatches dataset.\n",
        "\n",
        "dataMatches[dataMatches['Half-time Away Goals']==dataMatches['Half-time Away Goals'].max()]"
      ]
    },
    {
      "cell_type": "markdown",
      "metadata": {
        "id": "zGzH4t2_-T9h"
      },
      "source": [
        "### **Observatoin (WorldCupMatches.xlsx)**\n",
        "\n",
        "* The two teams with the most (6) goals scored at halftime were Poland (against Haiti in 1974 world cup) and Germany (against Brazil in 2014 world cup)\n",
        "\n",
        "* In 559 games, the home team failed to score a goal after halftime.\n"
      ]
    },
    {
      "cell_type": "code",
      "execution_count": null,
      "metadata": {
        "id": "CUve3qf0_iAj",
        "colab": {
          "base_uri": "https://localhost:8080/",
          "height": 249
        },
        "outputId": "c4cd1d0d-d66c-4489-af23-3c9d8f1692ec"
      },
      "outputs": [
        {
          "output_type": "execute_result",
          "data": {
            "text/plain": [
              "     Year              Datetime    Stage        Stadium    City  \\\n",
              "312  1982  15 Jun 1982 - 21:00   Group 3  Nuevo Estadio  Elche    \n",
              "\n",
              "    Home Team Name  Home Team Goals  Away Team Goals Away Team Name  \\\n",
              "312        Hungary               10                1    El Salvador   \n",
              "\n",
              "    Win conditions  Attendance  Half-time Home Goals  Half-time Away Goals  \\\n",
              "312                    23000.0                     3                     0   \n",
              "\n",
              "                  Referee           Assistant 1                  Assistant 2  \\\n",
              "312  AL DOY Ebrahim (BHR)  CORVER Charles (NED)  LUND-SORENSEN Henning (DEN)   \n",
              "\n",
              "     RoundID  MatchID Home Team Initials Away Team Initials  \n",
              "312      293      896                HUN                SLV  "
            ],
            "text/html": [
              "\n",
              "  <div id=\"df-b5d619e7-dd36-4d67-b0e9-238b59030814\">\n",
              "    <div class=\"colab-df-container\">\n",
              "      <div>\n",
              "<style scoped>\n",
              "    .dataframe tbody tr th:only-of-type {\n",
              "        vertical-align: middle;\n",
              "    }\n",
              "\n",
              "    .dataframe tbody tr th {\n",
              "        vertical-align: top;\n",
              "    }\n",
              "\n",
              "    .dataframe thead th {\n",
              "        text-align: right;\n",
              "    }\n",
              "</style>\n",
              "<table border=\"1\" class=\"dataframe\">\n",
              "  <thead>\n",
              "    <tr style=\"text-align: right;\">\n",
              "      <th></th>\n",
              "      <th>Year</th>\n",
              "      <th>Datetime</th>\n",
              "      <th>Stage</th>\n",
              "      <th>Stadium</th>\n",
              "      <th>City</th>\n",
              "      <th>Home Team Name</th>\n",
              "      <th>Home Team Goals</th>\n",
              "      <th>Away Team Goals</th>\n",
              "      <th>Away Team Name</th>\n",
              "      <th>Win conditions</th>\n",
              "      <th>Attendance</th>\n",
              "      <th>Half-time Home Goals</th>\n",
              "      <th>Half-time Away Goals</th>\n",
              "      <th>Referee</th>\n",
              "      <th>Assistant 1</th>\n",
              "      <th>Assistant 2</th>\n",
              "      <th>RoundID</th>\n",
              "      <th>MatchID</th>\n",
              "      <th>Home Team Initials</th>\n",
              "      <th>Away Team Initials</th>\n",
              "    </tr>\n",
              "  </thead>\n",
              "  <tbody>\n",
              "    <tr>\n",
              "      <th>312</th>\n",
              "      <td>1982</td>\n",
              "      <td>15 Jun 1982 - 21:00</td>\n",
              "      <td>Group 3</td>\n",
              "      <td>Nuevo Estadio</td>\n",
              "      <td>Elche</td>\n",
              "      <td>Hungary</td>\n",
              "      <td>10</td>\n",
              "      <td>1</td>\n",
              "      <td>El Salvador</td>\n",
              "      <td></td>\n",
              "      <td>23000.0</td>\n",
              "      <td>3</td>\n",
              "      <td>0</td>\n",
              "      <td>AL DOY Ebrahim (BHR)</td>\n",
              "      <td>CORVER Charles (NED)</td>\n",
              "      <td>LUND-SORENSEN Henning (DEN)</td>\n",
              "      <td>293</td>\n",
              "      <td>896</td>\n",
              "      <td>HUN</td>\n",
              "      <td>SLV</td>\n",
              "    </tr>\n",
              "  </tbody>\n",
              "</table>\n",
              "</div>\n",
              "      <button class=\"colab-df-convert\" onclick=\"convertToInteractive('df-b5d619e7-dd36-4d67-b0e9-238b59030814')\"\n",
              "              title=\"Convert this dataframe to an interactive table.\"\n",
              "              style=\"display:none;\">\n",
              "        \n",
              "  <svg xmlns=\"http://www.w3.org/2000/svg\" height=\"24px\"viewBox=\"0 0 24 24\"\n",
              "       width=\"24px\">\n",
              "    <path d=\"M0 0h24v24H0V0z\" fill=\"none\"/>\n",
              "    <path d=\"M18.56 5.44l.94 2.06.94-2.06 2.06-.94-2.06-.94-.94-2.06-.94 2.06-2.06.94zm-11 1L8.5 8.5l.94-2.06 2.06-.94-2.06-.94L8.5 2.5l-.94 2.06-2.06.94zm10 10l.94 2.06.94-2.06 2.06-.94-2.06-.94-.94-2.06-.94 2.06-2.06.94z\"/><path d=\"M17.41 7.96l-1.37-1.37c-.4-.4-.92-.59-1.43-.59-.52 0-1.04.2-1.43.59L10.3 9.45l-7.72 7.72c-.78.78-.78 2.05 0 2.83L4 21.41c.39.39.9.59 1.41.59.51 0 1.02-.2 1.41-.59l7.78-7.78 2.81-2.81c.8-.78.8-2.07 0-2.86zM5.41 20L4 18.59l7.72-7.72 1.47 1.35L5.41 20z\"/>\n",
              "  </svg>\n",
              "      </button>\n",
              "      \n",
              "  <style>\n",
              "    .colab-df-container {\n",
              "      display:flex;\n",
              "      flex-wrap:wrap;\n",
              "      gap: 12px;\n",
              "    }\n",
              "\n",
              "    .colab-df-convert {\n",
              "      background-color: #E8F0FE;\n",
              "      border: none;\n",
              "      border-radius: 50%;\n",
              "      cursor: pointer;\n",
              "      display: none;\n",
              "      fill: #1967D2;\n",
              "      height: 32px;\n",
              "      padding: 0 0 0 0;\n",
              "      width: 32px;\n",
              "    }\n",
              "\n",
              "    .colab-df-convert:hover {\n",
              "      background-color: #E2EBFA;\n",
              "      box-shadow: 0px 1px 2px rgba(60, 64, 67, 0.3), 0px 1px 3px 1px rgba(60, 64, 67, 0.15);\n",
              "      fill: #174EA6;\n",
              "    }\n",
              "\n",
              "    [theme=dark] .colab-df-convert {\n",
              "      background-color: #3B4455;\n",
              "      fill: #D2E3FC;\n",
              "    }\n",
              "\n",
              "    [theme=dark] .colab-df-convert:hover {\n",
              "      background-color: #434B5C;\n",
              "      box-shadow: 0px 1px 3px 1px rgba(0, 0, 0, 0.15);\n",
              "      filter: drop-shadow(0px 1px 2px rgba(0, 0, 0, 0.3));\n",
              "      fill: #FFFFFF;\n",
              "    }\n",
              "  </style>\n",
              "\n",
              "      <script>\n",
              "        const buttonEl =\n",
              "          document.querySelector('#df-b5d619e7-dd36-4d67-b0e9-238b59030814 button.colab-df-convert');\n",
              "        buttonEl.style.display =\n",
              "          google.colab.kernel.accessAllowed ? 'block' : 'none';\n",
              "\n",
              "        async function convertToInteractive(key) {\n",
              "          const element = document.querySelector('#df-b5d619e7-dd36-4d67-b0e9-238b59030814');\n",
              "          const dataTable =\n",
              "            await google.colab.kernel.invokeFunction('convertToInteractive',\n",
              "                                                     [key], {});\n",
              "          if (!dataTable) return;\n",
              "\n",
              "          const docLinkHtml = 'Like what you see? Visit the ' +\n",
              "            '<a target=\"_blank\" href=https://colab.research.google.com/notebooks/data_table.ipynb>data table notebook</a>'\n",
              "            + ' to learn more about interactive tables.';\n",
              "          element.innerHTML = '';\n",
              "          dataTable['output_type'] = 'display_data';\n",
              "          await google.colab.output.renderOutput(dataTable, element);\n",
              "          const docLink = document.createElement('div');\n",
              "          docLink.innerHTML = docLinkHtml;\n",
              "          element.appendChild(docLink);\n",
              "        }\n",
              "      </script>\n",
              "    </div>\n",
              "  </div>\n",
              "  "
            ]
          },
          "metadata": {},
          "execution_count": 38
        }
      ],
      "source": [
        "# Calculate the Maximum Goals scored by Home team in a single match as per WorldCupMatches dataset \n",
        "\n",
        "dataMatches[dataMatches['Home Team Goals']==dataMatches['Home Team Goals'].max()]"
      ]
    },
    {
      "cell_type": "markdown",
      "metadata": {
        "id": "Ih5dKgc9_yi8"
      },
      "source": [
        "### **Observation (WorldCupMatches.xlsx)**\n",
        "\n",
        "* Hungary defeated El Salvador, the visiting squad, by 10 - 1 goals as the home team in a single match."
      ]
    },
    {
      "cell_type": "code",
      "execution_count": null,
      "metadata": {
        "id": "ZtwspnKAA4Ja",
        "colab": {
          "base_uri": "https://localhost:8080/",
          "height": 364
        },
        "outputId": "e081b0fb-a424-453d-b443-7639c3daf575"
      },
      "outputs": [
        {
          "output_type": "execute_result",
          "data": {
            "text/plain": [
              "     Year              Datetime        Stage           Stadium  \\\n",
              "246  1974  19 Jun 1974 - 19:30       Group 4    Olympiastadion   \n",
              "826  2014  08 Jul 2014 - 17:00   Semi-finals  Estadio Mineirao   \n",
              "848  2014  08 Jul 2014 - 17:00   Semi-finals  Estadio Mineirao   \n",
              "\n",
              "                City Home Team Name  Home Team Goals  Away Team Goals  \\\n",
              "246          Munich           Haiti                0                7   \n",
              "826  Belo Horizonte          Brazil                1                7   \n",
              "848  Belo Horizonte          Brazil                1                7   \n",
              "\n",
              "    Away Team Name Win conditions  Attendance  Half-time Home Goals  \\\n",
              "246         Poland                    25300.0                     0   \n",
              "826        Germany                    58141.0                     0   \n",
              "848        Germany                    58141.0                     0   \n",
              "\n",
              "     Half-time Away Goals                Referee              Assistant 1  \\\n",
              "246                     5   SUPPIAH George (SIN)  BIWERSI Ferdinand (GER)   \n",
              "826                     5  RODRIGUEZ Marco (MEX)  TORRENTERA Marvin (MEX)   \n",
              "848                     5  RODRIGUEZ Marco (MEX)  TORRENTERA Marvin (MEX)   \n",
              "\n",
              "                 Assistant 2  RoundID    MatchID Home Team Initials  \\\n",
              "246  ESCHWEILER Walter (GER)      262       2085                HAI   \n",
              "826    QUINTERO Marcos (MEX)   255955  300186474                BRA   \n",
              "848    QUINTERO Marcos (MEX)   255955  300186474                BRA   \n",
              "\n",
              "    Away Team Initials  \n",
              "246                POL  \n",
              "826                GER  \n",
              "848                GER  "
            ],
            "text/html": [
              "\n",
              "  <div id=\"df-71d3d721-f4bd-4ae9-b010-bedbd815590d\">\n",
              "    <div class=\"colab-df-container\">\n",
              "      <div>\n",
              "<style scoped>\n",
              "    .dataframe tbody tr th:only-of-type {\n",
              "        vertical-align: middle;\n",
              "    }\n",
              "\n",
              "    .dataframe tbody tr th {\n",
              "        vertical-align: top;\n",
              "    }\n",
              "\n",
              "    .dataframe thead th {\n",
              "        text-align: right;\n",
              "    }\n",
              "</style>\n",
              "<table border=\"1\" class=\"dataframe\">\n",
              "  <thead>\n",
              "    <tr style=\"text-align: right;\">\n",
              "      <th></th>\n",
              "      <th>Year</th>\n",
              "      <th>Datetime</th>\n",
              "      <th>Stage</th>\n",
              "      <th>Stadium</th>\n",
              "      <th>City</th>\n",
              "      <th>Home Team Name</th>\n",
              "      <th>Home Team Goals</th>\n",
              "      <th>Away Team Goals</th>\n",
              "      <th>Away Team Name</th>\n",
              "      <th>Win conditions</th>\n",
              "      <th>Attendance</th>\n",
              "      <th>Half-time Home Goals</th>\n",
              "      <th>Half-time Away Goals</th>\n",
              "      <th>Referee</th>\n",
              "      <th>Assistant 1</th>\n",
              "      <th>Assistant 2</th>\n",
              "      <th>RoundID</th>\n",
              "      <th>MatchID</th>\n",
              "      <th>Home Team Initials</th>\n",
              "      <th>Away Team Initials</th>\n",
              "    </tr>\n",
              "  </thead>\n",
              "  <tbody>\n",
              "    <tr>\n",
              "      <th>246</th>\n",
              "      <td>1974</td>\n",
              "      <td>19 Jun 1974 - 19:30</td>\n",
              "      <td>Group 4</td>\n",
              "      <td>Olympiastadion</td>\n",
              "      <td>Munich</td>\n",
              "      <td>Haiti</td>\n",
              "      <td>0</td>\n",
              "      <td>7</td>\n",
              "      <td>Poland</td>\n",
              "      <td></td>\n",
              "      <td>25300.0</td>\n",
              "      <td>0</td>\n",
              "      <td>5</td>\n",
              "      <td>SUPPIAH George (SIN)</td>\n",
              "      <td>BIWERSI Ferdinand (GER)</td>\n",
              "      <td>ESCHWEILER Walter (GER)</td>\n",
              "      <td>262</td>\n",
              "      <td>2085</td>\n",
              "      <td>HAI</td>\n",
              "      <td>POL</td>\n",
              "    </tr>\n",
              "    <tr>\n",
              "      <th>826</th>\n",
              "      <td>2014</td>\n",
              "      <td>08 Jul 2014 - 17:00</td>\n",
              "      <td>Semi-finals</td>\n",
              "      <td>Estadio Mineirao</td>\n",
              "      <td>Belo Horizonte</td>\n",
              "      <td>Brazil</td>\n",
              "      <td>1</td>\n",
              "      <td>7</td>\n",
              "      <td>Germany</td>\n",
              "      <td></td>\n",
              "      <td>58141.0</td>\n",
              "      <td>0</td>\n",
              "      <td>5</td>\n",
              "      <td>RODRIGUEZ Marco (MEX)</td>\n",
              "      <td>TORRENTERA Marvin (MEX)</td>\n",
              "      <td>QUINTERO Marcos (MEX)</td>\n",
              "      <td>255955</td>\n",
              "      <td>300186474</td>\n",
              "      <td>BRA</td>\n",
              "      <td>GER</td>\n",
              "    </tr>\n",
              "    <tr>\n",
              "      <th>848</th>\n",
              "      <td>2014</td>\n",
              "      <td>08 Jul 2014 - 17:00</td>\n",
              "      <td>Semi-finals</td>\n",
              "      <td>Estadio Mineirao</td>\n",
              "      <td>Belo Horizonte</td>\n",
              "      <td>Brazil</td>\n",
              "      <td>1</td>\n",
              "      <td>7</td>\n",
              "      <td>Germany</td>\n",
              "      <td></td>\n",
              "      <td>58141.0</td>\n",
              "      <td>0</td>\n",
              "      <td>5</td>\n",
              "      <td>RODRIGUEZ Marco (MEX)</td>\n",
              "      <td>TORRENTERA Marvin (MEX)</td>\n",
              "      <td>QUINTERO Marcos (MEX)</td>\n",
              "      <td>255955</td>\n",
              "      <td>300186474</td>\n",
              "      <td>BRA</td>\n",
              "      <td>GER</td>\n",
              "    </tr>\n",
              "  </tbody>\n",
              "</table>\n",
              "</div>\n",
              "      <button class=\"colab-df-convert\" onclick=\"convertToInteractive('df-71d3d721-f4bd-4ae9-b010-bedbd815590d')\"\n",
              "              title=\"Convert this dataframe to an interactive table.\"\n",
              "              style=\"display:none;\">\n",
              "        \n",
              "  <svg xmlns=\"http://www.w3.org/2000/svg\" height=\"24px\"viewBox=\"0 0 24 24\"\n",
              "       width=\"24px\">\n",
              "    <path d=\"M0 0h24v24H0V0z\" fill=\"none\"/>\n",
              "    <path d=\"M18.56 5.44l.94 2.06.94-2.06 2.06-.94-2.06-.94-.94-2.06-.94 2.06-2.06.94zm-11 1L8.5 8.5l.94-2.06 2.06-.94-2.06-.94L8.5 2.5l-.94 2.06-2.06.94zm10 10l.94 2.06.94-2.06 2.06-.94-2.06-.94-.94-2.06-.94 2.06-2.06.94z\"/><path d=\"M17.41 7.96l-1.37-1.37c-.4-.4-.92-.59-1.43-.59-.52 0-1.04.2-1.43.59L10.3 9.45l-7.72 7.72c-.78.78-.78 2.05 0 2.83L4 21.41c.39.39.9.59 1.41.59.51 0 1.02-.2 1.41-.59l7.78-7.78 2.81-2.81c.8-.78.8-2.07 0-2.86zM5.41 20L4 18.59l7.72-7.72 1.47 1.35L5.41 20z\"/>\n",
              "  </svg>\n",
              "      </button>\n",
              "      \n",
              "  <style>\n",
              "    .colab-df-container {\n",
              "      display:flex;\n",
              "      flex-wrap:wrap;\n",
              "      gap: 12px;\n",
              "    }\n",
              "\n",
              "    .colab-df-convert {\n",
              "      background-color: #E8F0FE;\n",
              "      border: none;\n",
              "      border-radius: 50%;\n",
              "      cursor: pointer;\n",
              "      display: none;\n",
              "      fill: #1967D2;\n",
              "      height: 32px;\n",
              "      padding: 0 0 0 0;\n",
              "      width: 32px;\n",
              "    }\n",
              "\n",
              "    .colab-df-convert:hover {\n",
              "      background-color: #E2EBFA;\n",
              "      box-shadow: 0px 1px 2px rgba(60, 64, 67, 0.3), 0px 1px 3px 1px rgba(60, 64, 67, 0.15);\n",
              "      fill: #174EA6;\n",
              "    }\n",
              "\n",
              "    [theme=dark] .colab-df-convert {\n",
              "      background-color: #3B4455;\n",
              "      fill: #D2E3FC;\n",
              "    }\n",
              "\n",
              "    [theme=dark] .colab-df-convert:hover {\n",
              "      background-color: #434B5C;\n",
              "      box-shadow: 0px 1px 3px 1px rgba(0, 0, 0, 0.15);\n",
              "      filter: drop-shadow(0px 1px 2px rgba(0, 0, 0, 0.3));\n",
              "      fill: #FFFFFF;\n",
              "    }\n",
              "  </style>\n",
              "\n",
              "      <script>\n",
              "        const buttonEl =\n",
              "          document.querySelector('#df-71d3d721-f4bd-4ae9-b010-bedbd815590d button.colab-df-convert');\n",
              "        buttonEl.style.display =\n",
              "          google.colab.kernel.accessAllowed ? 'block' : 'none';\n",
              "\n",
              "        async function convertToInteractive(key) {\n",
              "          const element = document.querySelector('#df-71d3d721-f4bd-4ae9-b010-bedbd815590d');\n",
              "          const dataTable =\n",
              "            await google.colab.kernel.invokeFunction('convertToInteractive',\n",
              "                                                     [key], {});\n",
              "          if (!dataTable) return;\n",
              "\n",
              "          const docLinkHtml = 'Like what you see? Visit the ' +\n",
              "            '<a target=\"_blank\" href=https://colab.research.google.com/notebooks/data_table.ipynb>data table notebook</a>'\n",
              "            + ' to learn more about interactive tables.';\n",
              "          element.innerHTML = '';\n",
              "          dataTable['output_type'] = 'display_data';\n",
              "          await google.colab.output.renderOutput(dataTable, element);\n",
              "          const docLink = document.createElement('div');\n",
              "          docLink.innerHTML = docLinkHtml;\n",
              "          element.appendChild(docLink);\n",
              "        }\n",
              "      </script>\n",
              "    </div>\n",
              "  </div>\n",
              "  "
            ]
          },
          "metadata": {},
          "execution_count": 39
        }
      ],
      "source": [
        "# Calculate the Maximum Goals scored by Away team in a single match as per WorldCupMatches dataset  \n",
        "\n",
        "dataMatches[dataMatches['Away Team Goals']==dataMatches['Away Team Goals'].max()]"
      ]
    },
    {
      "cell_type": "markdown",
      "metadata": {
        "id": "eHzq8abbBdrK"
      },
      "source": [
        "### **Observation (WorldCupMatches.xlsx)**\n",
        "\n",
        "* As a away team most goals (7 goals) in a single game were Poland (in 1974 world cup) and Germany (in 2014 world cup)."
      ]
    },
    {
      "cell_type": "code",
      "execution_count": null,
      "metadata": {
        "id": "em2nmas2STup",
        "colab": {
          "base_uri": "https://localhost:8080/"
        },
        "outputId": "47f23486-b8a9-4111-c893-ed0eb9478ce6"
      },
      "outputs": [
        {
          "output_type": "execute_result",
          "data": {
            "text/plain": [
              "Year  Home Team Name            \n",
              "1930  Argentina                     16\n",
              "      Brazil                         4\n",
              "      Chile                          4\n",
              "      France                         4\n",
              "      Paraguay                       1\n",
              "                                    ..\n",
              "2014  Spain                          1\n",
              "      Switzerland                    4\n",
              "      USA                            2\n",
              "      Uruguay                        3\n",
              "      rn\">Bosnia and Herzegovina     3\n",
              "Name: Home Team Goals, Length: 365, dtype: int64"
            ]
          },
          "metadata": {},
          "execution_count": 40
        }
      ],
      "source": [
        "# World cup wise goal scored by Home team\n",
        "\n",
        "homeTeamGoals = dataMatches.groupby(['Year','Home Team Name'])['Home Team Goals'].sum()\n",
        "homeTeamGoals"
      ]
    },
    {
      "cell_type": "code",
      "execution_count": null,
      "metadata": {
        "id": "E8KWK3VpdKQn",
        "colab": {
          "base_uri": "https://localhost:8080/"
        },
        "outputId": "6826f50d-f8ad-4184-ee47-45de2f266b9d"
      },
      "outputs": [
        {
          "output_type": "execute_result",
          "data": {
            "text/plain": [
              "Year  Away Team Name            \n",
              "1930  Argentina                     2\n",
              "      Belgium                       0\n",
              "      Bolivia                       0\n",
              "      Brazil                        1\n",
              "      Chile                         1\n",
              "                                   ..\n",
              "2014  Spain                         3\n",
              "      Switzerland                   3\n",
              "      USA                           4\n",
              "      Uruguay                       1\n",
              "      rn\">Bosnia and Herzegovina    1\n",
              "Name: Away Team Goals, Length: 410, dtype: int64"
            ]
          },
          "metadata": {},
          "execution_count": 41
        }
      ],
      "source": [
        "# World cup wise goal scored by Away team\n",
        "\n",
        "awayTeamGoals = dataMatches.groupby(['Year','Away Team Name'])['Away Team Goals'].sum()\n",
        "awayTeamGoals"
      ]
    },
    {
      "cell_type": "code",
      "execution_count": null,
      "metadata": {
        "id": "mLT5kb8XdtTn",
        "colab": {
          "base_uri": "https://localhost:8080/",
          "height": 455
        },
        "outputId": "c860f074-060e-4d80-edd5-42ef242aecd5"
      },
      "outputs": [
        {
          "output_type": "execute_result",
          "data": {
            "text/plain": [
              "                                 Home Team Goals  Away Team Goals  Goals\n",
              "Year                                                                    \n",
              "1930 Argentina                              16.0              2.0   18.0\n",
              "     Belgium                                 0.0              0.0    0.0\n",
              "     Bolivia                                 0.0              0.0    0.0\n",
              "     Brazil                                  4.0              1.0    5.0\n",
              "     Chile                                   4.0              1.0    5.0\n",
              "...                                          ...              ...    ...\n",
              "2014 Spain                                   1.0              3.0    4.0\n",
              "     Switzerland                             4.0              3.0    7.0\n",
              "     USA                                     2.0              4.0    6.0\n",
              "     Uruguay                                 3.0              1.0    4.0\n",
              "     rn\">Bosnia and Herzegovina              3.0              1.0    4.0\n",
              "\n",
              "[426 rows x 3 columns]"
            ],
            "text/html": [
              "\n",
              "  <div id=\"df-4a920809-0942-49c6-b747-a3b7d0320125\">\n",
              "    <div class=\"colab-df-container\">\n",
              "      <div>\n",
              "<style scoped>\n",
              "    .dataframe tbody tr th:only-of-type {\n",
              "        vertical-align: middle;\n",
              "    }\n",
              "\n",
              "    .dataframe tbody tr th {\n",
              "        vertical-align: top;\n",
              "    }\n",
              "\n",
              "    .dataframe thead th {\n",
              "        text-align: right;\n",
              "    }\n",
              "</style>\n",
              "<table border=\"1\" class=\"dataframe\">\n",
              "  <thead>\n",
              "    <tr style=\"text-align: right;\">\n",
              "      <th></th>\n",
              "      <th></th>\n",
              "      <th>Home Team Goals</th>\n",
              "      <th>Away Team Goals</th>\n",
              "      <th>Goals</th>\n",
              "    </tr>\n",
              "    <tr>\n",
              "      <th>Year</th>\n",
              "      <th></th>\n",
              "      <th></th>\n",
              "      <th></th>\n",
              "      <th></th>\n",
              "    </tr>\n",
              "  </thead>\n",
              "  <tbody>\n",
              "    <tr>\n",
              "      <th rowspan=\"5\" valign=\"top\">1930</th>\n",
              "      <th>Argentina</th>\n",
              "      <td>16.0</td>\n",
              "      <td>2.0</td>\n",
              "      <td>18.0</td>\n",
              "    </tr>\n",
              "    <tr>\n",
              "      <th>Belgium</th>\n",
              "      <td>0.0</td>\n",
              "      <td>0.0</td>\n",
              "      <td>0.0</td>\n",
              "    </tr>\n",
              "    <tr>\n",
              "      <th>Bolivia</th>\n",
              "      <td>0.0</td>\n",
              "      <td>0.0</td>\n",
              "      <td>0.0</td>\n",
              "    </tr>\n",
              "    <tr>\n",
              "      <th>Brazil</th>\n",
              "      <td>4.0</td>\n",
              "      <td>1.0</td>\n",
              "      <td>5.0</td>\n",
              "    </tr>\n",
              "    <tr>\n",
              "      <th>Chile</th>\n",
              "      <td>4.0</td>\n",
              "      <td>1.0</td>\n",
              "      <td>5.0</td>\n",
              "    </tr>\n",
              "    <tr>\n",
              "      <th>...</th>\n",
              "      <th>...</th>\n",
              "      <td>...</td>\n",
              "      <td>...</td>\n",
              "      <td>...</td>\n",
              "    </tr>\n",
              "    <tr>\n",
              "      <th rowspan=\"5\" valign=\"top\">2014</th>\n",
              "      <th>Spain</th>\n",
              "      <td>1.0</td>\n",
              "      <td>3.0</td>\n",
              "      <td>4.0</td>\n",
              "    </tr>\n",
              "    <tr>\n",
              "      <th>Switzerland</th>\n",
              "      <td>4.0</td>\n",
              "      <td>3.0</td>\n",
              "      <td>7.0</td>\n",
              "    </tr>\n",
              "    <tr>\n",
              "      <th>USA</th>\n",
              "      <td>2.0</td>\n",
              "      <td>4.0</td>\n",
              "      <td>6.0</td>\n",
              "    </tr>\n",
              "    <tr>\n",
              "      <th>Uruguay</th>\n",
              "      <td>3.0</td>\n",
              "      <td>1.0</td>\n",
              "      <td>4.0</td>\n",
              "    </tr>\n",
              "    <tr>\n",
              "      <th>rn\"&gt;Bosnia and Herzegovina</th>\n",
              "      <td>3.0</td>\n",
              "      <td>1.0</td>\n",
              "      <td>4.0</td>\n",
              "    </tr>\n",
              "  </tbody>\n",
              "</table>\n",
              "<p>426 rows × 3 columns</p>\n",
              "</div>\n",
              "      <button class=\"colab-df-convert\" onclick=\"convertToInteractive('df-4a920809-0942-49c6-b747-a3b7d0320125')\"\n",
              "              title=\"Convert this dataframe to an interactive table.\"\n",
              "              style=\"display:none;\">\n",
              "        \n",
              "  <svg xmlns=\"http://www.w3.org/2000/svg\" height=\"24px\"viewBox=\"0 0 24 24\"\n",
              "       width=\"24px\">\n",
              "    <path d=\"M0 0h24v24H0V0z\" fill=\"none\"/>\n",
              "    <path d=\"M18.56 5.44l.94 2.06.94-2.06 2.06-.94-2.06-.94-.94-2.06-.94 2.06-2.06.94zm-11 1L8.5 8.5l.94-2.06 2.06-.94-2.06-.94L8.5 2.5l-.94 2.06-2.06.94zm10 10l.94 2.06.94-2.06 2.06-.94-2.06-.94-.94-2.06-.94 2.06-2.06.94z\"/><path d=\"M17.41 7.96l-1.37-1.37c-.4-.4-.92-.59-1.43-.59-.52 0-1.04.2-1.43.59L10.3 9.45l-7.72 7.72c-.78.78-.78 2.05 0 2.83L4 21.41c.39.39.9.59 1.41.59.51 0 1.02-.2 1.41-.59l7.78-7.78 2.81-2.81c.8-.78.8-2.07 0-2.86zM5.41 20L4 18.59l7.72-7.72 1.47 1.35L5.41 20z\"/>\n",
              "  </svg>\n",
              "      </button>\n",
              "      \n",
              "  <style>\n",
              "    .colab-df-container {\n",
              "      display:flex;\n",
              "      flex-wrap:wrap;\n",
              "      gap: 12px;\n",
              "    }\n",
              "\n",
              "    .colab-df-convert {\n",
              "      background-color: #E8F0FE;\n",
              "      border: none;\n",
              "      border-radius: 50%;\n",
              "      cursor: pointer;\n",
              "      display: none;\n",
              "      fill: #1967D2;\n",
              "      height: 32px;\n",
              "      padding: 0 0 0 0;\n",
              "      width: 32px;\n",
              "    }\n",
              "\n",
              "    .colab-df-convert:hover {\n",
              "      background-color: #E2EBFA;\n",
              "      box-shadow: 0px 1px 2px rgba(60, 64, 67, 0.3), 0px 1px 3px 1px rgba(60, 64, 67, 0.15);\n",
              "      fill: #174EA6;\n",
              "    }\n",
              "\n",
              "    [theme=dark] .colab-df-convert {\n",
              "      background-color: #3B4455;\n",
              "      fill: #D2E3FC;\n",
              "    }\n",
              "\n",
              "    [theme=dark] .colab-df-convert:hover {\n",
              "      background-color: #434B5C;\n",
              "      box-shadow: 0px 1px 3px 1px rgba(0, 0, 0, 0.15);\n",
              "      filter: drop-shadow(0px 1px 2px rgba(0, 0, 0, 0.3));\n",
              "      fill: #FFFFFF;\n",
              "    }\n",
              "  </style>\n",
              "\n",
              "      <script>\n",
              "        const buttonEl =\n",
              "          document.querySelector('#df-4a920809-0942-49c6-b747-a3b7d0320125 button.colab-df-convert');\n",
              "        buttonEl.style.display =\n",
              "          google.colab.kernel.accessAllowed ? 'block' : 'none';\n",
              "\n",
              "        async function convertToInteractive(key) {\n",
              "          const element = document.querySelector('#df-4a920809-0942-49c6-b747-a3b7d0320125');\n",
              "          const dataTable =\n",
              "            await google.colab.kernel.invokeFunction('convertToInteractive',\n",
              "                                                     [key], {});\n",
              "          if (!dataTable) return;\n",
              "\n",
              "          const docLinkHtml = 'Like what you see? Visit the ' +\n",
              "            '<a target=\"_blank\" href=https://colab.research.google.com/notebooks/data_table.ipynb>data table notebook</a>'\n",
              "            + ' to learn more about interactive tables.';\n",
              "          element.innerHTML = '';\n",
              "          dataTable['output_type'] = 'display_data';\n",
              "          await google.colab.output.renderOutput(dataTable, element);\n",
              "          const docLink = document.createElement('div');\n",
              "          docLink.innerHTML = docLinkHtml;\n",
              "          element.appendChild(docLink);\n",
              "        }\n",
              "      </script>\n",
              "    </div>\n",
              "  </div>\n",
              "  "
            ]
          },
          "metadata": {},
          "execution_count": 42
        }
      ],
      "source": [
        "# total Goal scored by team wise and world cup wise\n",
        "\n",
        "teamGoals = pd.concat([homeTeamGoals,awayTeamGoals],axis = 1)\n",
        "teamGoals.fillna(0,inplace=True)\n",
        "teamGoals['Goals']= teamGoals['Home Team Goals'] + teamGoals['Away Team Goals']\n",
        "teamGoals"
      ]
    },
    {
      "cell_type": "code",
      "execution_count": null,
      "metadata": {
        "id": "6vkXOA1QKtOI"
      },
      "outputs": [],
      "source": [
        "teamGoals = teamGoals.reset_index()"
      ]
    },
    {
      "cell_type": "code",
      "execution_count": null,
      "metadata": {
        "id": "lqsSxpNCHQoF",
        "colab": {
          "base_uri": "https://localhost:8080/",
          "height": 513
        },
        "outputId": "b9b7d50b-7ae0-4be0-9373-dc33254dabd4"
      },
      "outputs": [
        {
          "output_type": "display_data",
          "data": {
            "text/plain": [
              "<Figure size 1080x576 with 1 Axes>"
            ],
            "image/png": "[encoded data removed]"
          },
          "metadata": {
            "needs_background": "light"
          }
        }
      ],
      "source": [
        "# Calculate total Goals by Team\n",
        "\n",
        "teamGoals.columns=['Year','Country','Home Team Goals','Away Team Goals', 'Goals']\n",
        "teamGoals = teamGoals.sort_values(by =['Country','Year'], ascending=True)\n",
        "totalGoalsByCountry = teamGoals.groupby(['Country'])['Goals'].sum().sort_values(ascending=False).head(10)\n",
        "totalGoalsByCountry\n",
        "from matplotlib.ticker import MaxNLocator\n",
        "ax = plt.figure(figsize=(15,8)).gca()\n",
        "ax.xaxis.set_major_locator(MaxNLocator(integer = True))\n",
        "sns.barplot(x=totalGoalsByCountry.values, y=totalGoalsByCountry.index)\n",
        "# for p in ax.patches:\n",
        "#    ax.annotate('{}'.format(p.get_height()), (p.get_x()+0.35, p.get_height()+0.10))\n",
        "\n",
        "\n",
        "for p in ax.patches:\n",
        "    width = p.get_width()\n",
        "    plt.text(5+p.get_width(), p.get_y()+0.55*p.get_height(),\n",
        "             '{:1.0f}'.format(width),\n",
        "             ha='center', va='center')\n",
        "    \n",
        "plt.title(\"Top 10 goal scoring country in World Cup\")\n",
        "plt.xlabel(\"# of goals\")\n",
        "plt.show()"
      ]
    },
    {
      "cell_type": "markdown",
      "metadata": {
        "id": "Vp6LeOnAP_v6"
      },
      "source": [
        "### **Observation**\n",
        "* Among all teams who were participated in the World Cup, Germany scored highest goals followed by Brazil"
      ]
    },
    {
      "cell_type": "code",
      "source": [
        "totalGoalsByYear=teamGoals.groupby(['Year'])['Goals'].sum() \n",
        "yearwiseGoals = pd.DataFrame(totalGoalsByYear)"
      ],
      "metadata": {
        "id": "PMuTsmijT88J"
      },
      "execution_count": null,
      "outputs": []
    },
    {
      "cell_type": "code",
      "source": [
        "yearwiseGoals.reset_index\n",
        "yearwiseGoals.columns"
      ],
      "metadata": {
        "colab": {
          "base_uri": "https://localhost:8080/"
        },
        "id": "o-D91rhtUKT-",
        "outputId": "19b39d8d-6b52-481f-fb45-bec9f264c6a5"
      },
      "execution_count": null,
      "outputs": [
        {
          "output_type": "execute_result",
          "data": {
            "text/plain": [
              "Index(['Goals'], dtype='object')"
            ]
          },
          "metadata": {},
          "execution_count": 46
        }
      ]
    },
    {
      "cell_type": "code",
      "source": [
        "yearwiseGoals.shape"
      ],
      "metadata": {
        "colab": {
          "base_uri": "https://localhost:8080/"
        },
        "id": "hGvi6BkRUd2f",
        "outputId": "a98ec19a-1dea-41ba-9e66-4558e69c88df"
      },
      "execution_count": null,
      "outputs": [
        {
          "output_type": "execute_result",
          "data": {
            "text/plain": [
              "(20, 1)"
            ]
          },
          "metadata": {},
          "execution_count": 47
        }
      ]
    },
    {
      "cell_type": "code",
      "source": [
        "idList = []\n",
        "for i in range(0,20):\n",
        "  idList.append(i)"
      ],
      "metadata": {
        "id": "bnk4xaLIUjp0"
      },
      "execution_count": null,
      "outputs": []
    },
    {
      "cell_type": "code",
      "source": [
        "yearwiseGoals['ID'] = idList"
      ],
      "metadata": {
        "id": "VdqBdSF3U97H"
      },
      "execution_count": null,
      "outputs": []
    },
    {
      "cell_type": "code",
      "source": [
        "yearwiseGoals.columns"
      ],
      "metadata": {
        "colab": {
          "base_uri": "https://localhost:8080/"
        },
        "id": "ESXLvHf6VUdC",
        "outputId": "bb8a2191-74b6-4947-98bc-0fa5b9700804"
      },
      "execution_count": null,
      "outputs": [
        {
          "output_type": "execute_result",
          "data": {
            "text/plain": [
              "Index(['Goals', 'ID'], dtype='object')"
            ]
          },
          "metadata": {},
          "execution_count": 50
        }
      ]
    },
    {
      "cell_type": "code",
      "source": [
        "yearwiseGoals.set_index('ID')"
      ],
      "metadata": {
        "colab": {
          "base_uri": "https://localhost:8080/",
          "height": 708
        },
        "id": "tiZOfcyTVa3W",
        "outputId": "9cd06c25-9e44-4eef-9d00-a8ee354cb6dd"
      },
      "execution_count": null,
      "outputs": [
        {
          "output_type": "execute_result",
          "data": {
            "text/plain": [
              "    Goals\n",
              "ID       \n",
              "0    70.0\n",
              "1    70.0\n",
              "2    84.0\n",
              "3    88.0\n",
              "4   140.0\n",
              "5   126.0\n",
              "6    89.0\n",
              "7    89.0\n",
              "8    95.0\n",
              "9    97.0\n",
              "10  102.0\n",
              "11  146.0\n",
              "12  132.0\n",
              "13  115.0\n",
              "14  141.0\n",
              "15  171.0\n",
              "16  161.0\n",
              "17  147.0\n",
              "18  145.0\n",
              "19  206.0"
            ],
            "text/html": [
              "\n",
              "  <div id=\"df-becd49b0-13a2-4d13-b8c5-af1c78a467ea\">\n",
              "    <div class=\"colab-df-container\">\n",
              "      <div>\n",
              "<style scoped>\n",
              "    .dataframe tbody tr th:only-of-type {\n",
              "        vertical-align: middle;\n",
              "    }\n",
              "\n",
              "    .dataframe tbody tr th {\n",
              "        vertical-align: top;\n",
              "    }\n",
              "\n",
              "    .dataframe thead th {\n",
              "        text-align: right;\n",
              "    }\n",
              "</style>\n",
              "<table border=\"1\" class=\"dataframe\">\n",
              "  <thead>\n",
              "    <tr style=\"text-align: right;\">\n",
              "      <th></th>\n",
              "      <th>Goals</th>\n",
              "    </tr>\n",
              "    <tr>\n",
              "      <th>ID</th>\n",
              "      <th></th>\n",
              "    </tr>\n",
              "  </thead>\n",
              "  <tbody>\n",
              "    <tr>\n",
              "      <th>0</th>\n",
              "      <td>70.0</td>\n",
              "    </tr>\n",
              "    <tr>\n",
              "      <th>1</th>\n",
              "      <td>70.0</td>\n",
              "    </tr>\n",
              "    <tr>\n",
              "      <th>2</th>\n",
              "      <td>84.0</td>\n",
              "    </tr>\n",
              "    <tr>\n",
              "      <th>3</th>\n",
              "      <td>88.0</td>\n",
              "    </tr>\n",
              "    <tr>\n",
              "      <th>4</th>\n",
              "      <td>140.0</td>\n",
              "    </tr>\n",
              "    <tr>\n",
              "      <th>5</th>\n",
              "      <td>126.0</td>\n",
              "    </tr>\n",
              "    <tr>\n",
              "      <th>6</th>\n",
              "      <td>89.0</td>\n",
              "    </tr>\n",
              "    <tr>\n",
              "      <th>7</th>\n",
              "      <td>89.0</td>\n",
              "    </tr>\n",
              "    <tr>\n",
              "      <th>8</th>\n",
              "      <td>95.0</td>\n",
              "    </tr>\n",
              "    <tr>\n",
              "      <th>9</th>\n",
              "      <td>97.0</td>\n",
              "    </tr>\n",
              "    <tr>\n",
              "      <th>10</th>\n",
              "      <td>102.0</td>\n",
              "    </tr>\n",
              "    <tr>\n",
              "      <th>11</th>\n",
              "      <td>146.0</td>\n",
              "    </tr>\n",
              "    <tr>\n",
              "      <th>12</th>\n",
              "      <td>132.0</td>\n",
              "    </tr>\n",
              "    <tr>\n",
              "      <th>13</th>\n",
              "      <td>115.0</td>\n",
              "    </tr>\n",
              "    <tr>\n",
              "      <th>14</th>\n",
              "      <td>141.0</td>\n",
              "    </tr>\n",
              "    <tr>\n",
              "      <th>15</th>\n",
              "      <td>171.0</td>\n",
              "    </tr>\n",
              "    <tr>\n",
              "      <th>16</th>\n",
              "      <td>161.0</td>\n",
              "    </tr>\n",
              "    <tr>\n",
              "      <th>17</th>\n",
              "      <td>147.0</td>\n",
              "    </tr>\n",
              "    <tr>\n",
              "      <th>18</th>\n",
              "      <td>145.0</td>\n",
              "    </tr>\n",
              "    <tr>\n",
              "      <th>19</th>\n",
              "      <td>206.0</td>\n",
              "    </tr>\n",
              "  </tbody>\n",
              "</table>\n",
              "</div>\n",
              "      <button class=\"colab-df-convert\" onclick=\"convertToInteractive('df-becd49b0-13a2-4d13-b8c5-af1c78a467ea')\"\n",
              "              title=\"Convert this dataframe to an interactive table.\"\n",
              "              style=\"display:none;\">\n",
              "        \n",
              "  <svg xmlns=\"http://www.w3.org/2000/svg\" height=\"24px\"viewBox=\"0 0 24 24\"\n",
              "       width=\"24px\">\n",
              "    <path d=\"M0 0h24v24H0V0z\" fill=\"none\"/>\n",
              "    <path d=\"M18.56 5.44l.94 2.06.94-2.06 2.06-.94-2.06-.94-.94-2.06-.94 2.06-2.06.94zm-11 1L8.5 8.5l.94-2.06 2.06-.94-2.06-.94L8.5 2.5l-.94 2.06-2.06.94zm10 10l.94 2.06.94-2.06 2.06-.94-2.06-.94-.94-2.06-.94 2.06-2.06.94z\"/><path d=\"M17.41 7.96l-1.37-1.37c-.4-.4-.92-.59-1.43-.59-.52 0-1.04.2-1.43.59L10.3 9.45l-7.72 7.72c-.78.78-.78 2.05 0 2.83L4 21.41c.39.39.9.59 1.41.59.51 0 1.02-.2 1.41-.59l7.78-7.78 2.81-2.81c.8-.78.8-2.07 0-2.86zM5.41 20L4 18.59l7.72-7.72 1.47 1.35L5.41 20z\"/>\n",
              "  </svg>\n",
              "      </button>\n",
              "      \n",
              "  <style>\n",
              "    .colab-df-container {\n",
              "      display:flex;\n",
              "      flex-wrap:wrap;\n",
              "      gap: 12px;\n",
              "    }\n",
              "\n",
              "    .colab-df-convert {\n",
              "      background-color: #E8F0FE;\n",
              "      border: none;\n",
              "      border-radius: 50%;\n",
              "      cursor: pointer;\n",
              "      display: none;\n",
              "      fill: #1967D2;\n",
              "      height: 32px;\n",
              "      padding: 0 0 0 0;\n",
              "      width: 32px;\n",
              "    }\n",
              "\n",
              "    .colab-df-convert:hover {\n",
              "      background-color: #E2EBFA;\n",
              "      box-shadow: 0px 1px 2px rgba(60, 64, 67, 0.3), 0px 1px 3px 1px rgba(60, 64, 67, 0.15);\n",
              "      fill: #174EA6;\n",
              "    }\n",
              "\n",
              "    [theme=dark] .colab-df-convert {\n",
              "      background-color: #3B4455;\n",
              "      fill: #D2E3FC;\n",
              "    }\n",
              "\n",
              "    [theme=dark] .colab-df-convert:hover {\n",
              "      background-color: #434B5C;\n",
              "      box-shadow: 0px 1px 3px 1px rgba(0, 0, 0, 0.15);\n",
              "      filter: drop-shadow(0px 1px 2px rgba(0, 0, 0, 0.3));\n",
              "      fill: #FFFFFF;\n",
              "    }\n",
              "  </style>\n",
              "\n",
              "      <script>\n",
              "        const buttonEl =\n",
              "          document.querySelector('#df-becd49b0-13a2-4d13-b8c5-af1c78a467ea button.colab-df-convert');\n",
              "        buttonEl.style.display =\n",
              "          google.colab.kernel.accessAllowed ? 'block' : 'none';\n",
              "\n",
              "        async function convertToInteractive(key) {\n",
              "          const element = document.querySelector('#df-becd49b0-13a2-4d13-b8c5-af1c78a467ea');\n",
              "          const dataTable =\n",
              "            await google.colab.kernel.invokeFunction('convertToInteractive',\n",
              "                                                     [key], {});\n",
              "          if (!dataTable) return;\n",
              "\n",
              "          const docLinkHtml = 'Like what you see? Visit the ' +\n",
              "            '<a target=\"_blank\" href=https://colab.research.google.com/notebooks/data_table.ipynb>data table notebook</a>'\n",
              "            + ' to learn more about interactive tables.';\n",
              "          element.innerHTML = '';\n",
              "          dataTable['output_type'] = 'display_data';\n",
              "          await google.colab.output.renderOutput(dataTable, element);\n",
              "          const docLink = document.createElement('div');\n",
              "          docLink.innerHTML = docLinkHtml;\n",
              "          element.appendChild(docLink);\n",
              "        }\n",
              "      </script>\n",
              "    </div>\n",
              "  </div>\n",
              "  "
            ]
          },
          "metadata": {},
          "execution_count": 51
        }
      ]
    },
    {
      "cell_type": "code",
      "source": [
        "yearwiseGoals.reset_index(inplace = True)"
      ],
      "metadata": {
        "id": "7wiFM1LsWBDY"
      },
      "execution_count": null,
      "outputs": []
    },
    {
      "cell_type": "code",
      "source": [
        "yearwiseGoals.columns"
      ],
      "metadata": {
        "colab": {
          "base_uri": "https://localhost:8080/"
        },
        "id": "0DiPO9FnWL0h",
        "outputId": "cab85962-83d2-4aee-feb9-a186e0bac716"
      },
      "execution_count": null,
      "outputs": [
        {
          "output_type": "execute_result",
          "data": {
            "text/plain": [
              "Index(['Year', 'Goals', 'ID'], dtype='object')"
            ]
          },
          "metadata": {},
          "execution_count": 53
        }
      ]
    },
    {
      "cell_type": "code",
      "execution_count": null,
      "metadata": {
        "id": "NLQjhg5wO0lW",
        "colab": {
          "base_uri": "https://localhost:8080/",
          "height": 497
        },
        "outputId": "4d5967a5-a8be-43cf-e8da-62c5825d7435"
      },
      "outputs": [
        {
          "output_type": "display_data",
          "data": {
            "text/plain": [
              "<Figure size 1080x576 with 1 Axes>"
            ],
            "image/png": "[encoded data removed]"
          },
          "metadata": {
            "needs_background": "light"
          }
        }
      ],
      "source": [
        "# Calculate total Goals by Year\n",
        "\n",
        "totalGoalsByYear=teamGoals.groupby(['Year'])['Goals'].sum() \n",
        "totalGoalsByYear\n",
        "\n",
        "from matplotlib.ticker import MaxNLocator\n",
        "ax = plt.figure(figsize=(15,8)).gca()\n",
        "ax.xaxis.set_major_locator(MaxNLocator(integer=True))\n",
        "sns.barplot(y='Goals', x='Year', data=yearwiseGoals)\n",
        "for p in ax.patches:\n",
        "   ax.annotate('{}'.format(p.get_height()), (p.get_x()+0.15, p.get_height()+0.20))\n",
        "plt.show()"
      ]
    },
    {
      "cell_type": "markdown",
      "metadata": {
        "id": "86C0zopxQNL1"
      },
      "source": [
        "### **Observation**\n",
        "* The highest numbers of Goals scored (206) in 2014 World Cup"
      ]
    },
    {
      "cell_type": "code",
      "execution_count": null,
      "metadata": {
        "id": "Nne6PCaWBzdy",
        "colab": {
          "base_uri": "https://localhost:8080/",
          "height": 679
        },
        "outputId": "7ed89838-7416-4e7b-9410-7bc6855daa8e"
      },
      "outputs": [
        {
          "output_type": "stream",
          "name": "stdout",
          "text": [
            "Ravshan IRMATOV (UZB)       10\n",
            "LARRIONDA Jorge (URU)        8\n",
            "ARCHUNDIA Benito (MEX)       8\n",
            "QUINIOU Joel (FRA)           8\n",
            "RODRIGUEZ Marco (MEX)        8\n",
            "GARDEAZABAL Juan (ESP)       7\n",
            "GRIFFITHS Benjamin (WAL)     7\n",
            "BUJSAIM Ali (UAE)            7\n",
            "SIMON Carlos (BRA)           7\n",
            "WEBB Howard (ENG)            7\n",
            "Name: Referee, dtype: int64\n"
          ]
        },
        {
          "output_type": "display_data",
          "data": {
            "text/plain": [
              "<Figure size 1080x576 with 1 Axes>"
            ],
            "image/png": "[encoded data removed]"
          },
          "metadata": {
            "needs_background": "light"
          }
        }
      ],
      "source": [
        "\n",
        "# Referee wise numbers of match played\n",
        "\n",
        "myReferee = dataMatches['Referee'].value_counts().sort_values(ascending=False).head(10)\n",
        "print(myReferee)\n",
        "from matplotlib.ticker import MaxNLocator\n",
        "ax = plt.figure(figsize=(15,8)).gca()\n",
        "ax.xaxis.set_major_locator(MaxNLocator(integer=True))\n",
        "sns.barplot(x=myReferee.values, y= myReferee.index)\n",
        "for p in ax.patches:\n",
        "  width = p.get_width()\n",
        "  plt.text(0.2+p.get_width(), p.get_y()+0.55*p.get_height(),\n",
        "            '{:1.0f}'.format(width),\n",
        "            ha='center', va='center')\n",
        "plt.title(\"Referee wise total matches (top 10) \")\n",
        "plt.xlabel('# of matches')\n",
        "plt.show()"
      ]
    },
    {
      "cell_type": "markdown",
      "metadata": {
        "id": "F3GGJzpZCcbE"
      },
      "source": [
        "### **Observation (WorldCupMatches.xlsx)**\n",
        "\n",
        "* Only one referee, Ravshan IRMATOV (UZB), has officiated 10 games.\n",
        "\n",
        "* MACHIN Roger (FRA), DWOMOH Benjamin (GHA), SILES Jesus Paulino (CRC) and GALLER Bruno (SUI) were the referees of 8 matches\n"
      ]
    },
    {
      "cell_type": "code",
      "execution_count": null,
      "metadata": {
        "id": "azrvWSfbETci",
        "colab": {
          "base_uri": "https://localhost:8080/",
          "height": 654
        },
        "outputId": "09b6dcef-0d0a-4ab1-d7c9-626f1835dcae"
      },
      "outputs": [
        {
          "output_type": "stream",
          "name": "stdout",
          "text": [
            "ACHIK Redouane (MAR)                7\n",
            "HERMANS Peter (BEL)                 7\n",
            "GONZALEZ ARCHUNDIA Alfonso (MEX)    7\n",
            "BERANEK Alois (AUT)                 7\n",
            "VERGARA Hector (CAN)                7\n",
            "Renato FAVERANI (ITA)               6\n",
            "FREDRIKSSON Erik (SWE)              6\n",
            "SHARP Philip (ENG)                  6\n",
            "RAMIREZ Jose (MEX)                  5\n",
            "MAIDANA Hernan (ARG)                5\n",
            "Name: Assistant 1, dtype: int64\n"
          ]
        },
        {
          "output_type": "display_data",
          "data": {
            "text/plain": [
              "<Figure size 1080x576 with 1 Axes>"
            ],
            "image/png": "[encoded data removed]"
          },
          "metadata": {
            "needs_background": "light"
          }
        }
      ],
      "source": [
        "# Assistant Referee 1 wise numbers of match played\n",
        "\n",
        "myAssistantReferee1 = dataMatches['Assistant 1'].value_counts().sort_values(ascending = False).head(10)\n",
        "print(myAssistantReferee1)\n",
        "\n",
        "from matplotlib.ticker import MaxNLocator\n",
        "ax = plt.figure(figsize=(15,8)).gca()\n",
        "ax.xaxis.set_major_locator(MaxNLocator(integer=True))\n",
        "sns.barplot(x=myAssistantReferee1.values, y= myAssistantReferee1.index)\n",
        "for p in ax.patches:\n",
        "    width = p.get_width()\n",
        "    plt.text(.1+p.get_width(), p.get_y()+0.55*p.get_height(),\n",
        "             '{:1.0f}'.format(width),\n",
        "             ha='center', va='center')\n",
        "plt.title(\"Assistant Referee wise numbers of matches (top 10)\")\n",
        "plt.xlabel(\"# of matches\")\n",
        "plt.show()"
      ]
    },
    {
      "cell_type": "markdown",
      "metadata": {
        "id": "O6jrjdprFFOi"
      },
      "source": [
        "### **Observsation (WorldCupMatches.xlsx)**\n",
        "\n",
        "* BERANEK Alois (AUT), GONZALEZ ARCHUNDIA Alfonso (MEX), VERGARA Hector (CAN), HERMANS Peter (BEL), and ACHIK Redouane (MAR) were the assistant referees that worked the most (7) games followed by FREDRIKSSON Erik (SWE), SHARP Philip (ENG), Renato FAVERANI (ITA) in 6 matches\n",
        "\n"
      ]
    },
    {
      "cell_type": "code",
      "execution_count": null,
      "metadata": {
        "id": "FJD2Nw0ZFYm5",
        "colab": {
          "base_uri": "https://localhost:8080/",
          "height": 674
        },
        "outputId": "c1bf300b-56e0-45cd-a2ba-1b8d4fe25b45"
      },
      "outputs": [
        {
          "output_type": "stream",
          "name": "stdout",
          "text": [
            "KOCHKAROV Bakhadyr (KGZ)    10\n",
            "YUSTE Juan (ESP)             7\n",
            "LISTKIEWICZ Michal (POL)     7\n",
            "VROMANS Walter (BEL)         7\n",
            "VERGARA Hector (CAN)         7\n",
            "AMLER Evzen (CZE)            6\n",
            "DANTE Dramane (MLI)          6\n",
            "Andrea STEFANI (ITA)         6\n",
            "ETCHIALI Abdelhak (ALG)      6\n",
            "COELHO Arnaldo (BRA)         5\n",
            "Name: Assistant 2, dtype: int64\n"
          ]
        },
        {
          "output_type": "display_data",
          "data": {
            "text/plain": [
              "<Figure size 1080x576 with 1 Axes>"
            ],
            "image/png": "[encoded data removed]"
          },
          "metadata": {
            "needs_background": "light"
          }
        }
      ],
      "source": [
        "# Assistant Referee 2 wise numbers of match played\n",
        "\n",
        "myAssistantReferee2 = dataMatches['Assistant 2'].value_counts().sort_values(ascending = False).head(10)\n",
        "print(myAssistantReferee2)\n",
        "\n",
        "from matplotlib.ticker import MaxNLocator\n",
        "ax = plt.figure(figsize=(15,8)).gca()\n",
        "ax.xaxis.set_major_locator(MaxNLocator(integer=True))\n",
        "sns.barplot(x=myAssistantReferee2.values, y= myAssistantReferee2.index)\n",
        "for p in ax.patches:\n",
        "    width = p.get_width()\n",
        "    plt.text(.1+p.get_width(), p.get_y()+0.55*p.get_height(),\n",
        "             '{:1.0f}'.format(width),\n",
        "             ha='center', va='center')\n",
        "plt.title(\"Assistant Referee 2 wise numbers of matches (top 10)\")\n",
        "plt.xlabel(\"# of matches\")\n",
        "plt.show()"
      ]
    },
    {
      "cell_type": "markdown",
      "metadata": {
        "id": "j80EahyYFdop"
      },
      "source": [
        "### **Observation (WorldCupMatches.xlsx)**\n",
        "\n",
        "* KOCHKAROV Bakhadyr (KGZ) was the only match Assistant referee 2 who did his duty in 10 matchs\n",
        "\n",
        "* LISTKIEWICZ Michal (POL), VERGARA Hector (CAN), VROMANS Walter (BEL) and YUSTE Juan (ESP) were those Assistant Referee 2 who do their duties in 7 matches "
      ]
    },
    {
      "cell_type": "markdown",
      "metadata": {
        "id": "7FSZOVIMf2wx"
      },
      "source": [
        "---\n",
        "\n",
        "\n",
        "### **Conclusion (WorldCupMatches.xlsx)** ###\n",
        "\n",
        "---\n",
        "\n",
        "As per WorldCupMatches.xlsx dataset can say:\n",
        "\n",
        "*\tHome team scored 1.81 and away team scored 1.02 goals in per match.\n",
        "\n",
        "*\t45164.8 spectator attended matches on average.\n",
        "\n",
        "*\tAverage goals scored at half time 0.70 and 0.43 by Home team and away team respectively\n",
        "\n",
        "*\t20 final and 36 semi-final matches were played overall between 1930 and 2014\n",
        "\n",
        "*\tMaximum number of matches (19) played in Estadio Azteca stadium\n",
        "\n",
        "*\tAs per analysis we have found most popular stadium is Maracanã Stadium of Rio De Janeiro city\n",
        "\n",
        "*\tMaximum world cup match played in Mexico City\n",
        "\n",
        "*\tBrazil has played the highest home matchs, followed by Germany.\n",
        "\n",
        "*\tMexico has played the highest away match, followed by Germany.\n",
        "\n",
        "*\tIn 1974 world cup Yugoslavia's six goals against Zaire are the record for the most goals scored by the home team at halftime.\n",
        "\n",
        "*\tMaximum numbers of matches won by the Home team\n",
        "\n",
        "*\tThe two teams with the most (6) goals scored at halftime were Poland (against Haiti in 1974 world cup) and Germany (against Brazil in 2014 world cup)\n",
        "\n",
        "*\tHungary defeated El Salvador, the visiting squad, by 10 - 1 goals as the home team in a single match.\n",
        "\n",
        "*\tAs a away team most goals (7 goals) in a single game were Poland (in 1974 world cup) and Germany (in 2014 world cup).\n",
        "\n",
        "*\tAmong all teams who were participated in the World Cup, Germany scored highest goals followed by Brazil\n",
        "\n",
        "*\tThe highest numbers of Goals scored (206) in 2014 World Cup\n",
        "\n",
        "*\tOnly one referee, Ravshan IRMATOV (UZB), has officiated 10 games.\n",
        "\n",
        "*\tBERANEK Alois (AUT), GONZALEZ ARCHUNDIA Alfonso (MEX), VERGARA Hector (CAN), HERMANS Peter (BEL), and ACHIK Redouane (MAR) were the assistant referees that worked the most (7) games \n",
        "\n",
        "*\tKOCHKAROV Bakhadyr (KGZ) was the only match Assistant referee 2 who did his duty in 10 matches\n",
        "\n",
        "*\tLISTKIEWICZ Michal (POL), VERGARA Hector (CAN), VROMANS Walter (BEL) and YUSTE Juan (ESP) were those Assistant Referee 2 who do their duties in 7 matches"
      ]
    },
    {
      "cell_type": "markdown",
      "metadata": {
        "id": "pL4LaMGJR3gX"
      },
      "source": [
        "\n",
        "\n",
        "---\n",
        "\n",
        "\n",
        "### **Data analysis on WorldCupPlayers.xlsx**\n",
        "\n",
        "---\n",
        "\n"
      ]
    },
    {
      "cell_type": "code",
      "execution_count": null,
      "metadata": {
        "id": "_wWM3kA8R_G3",
        "colab": {
          "base_uri": "https://localhost:8080/"
        },
        "outputId": "20813b85-9cbd-4524-c97f-39efc70c4184"
      },
      "outputs": [
        {
          "output_type": "execute_result",
          "data": {
            "text/plain": [
              "(37784, 9)"
            ]
          },
          "metadata": {},
          "execution_count": 58
        }
      ],
      "source": [
        "# check numbers of rows and columns in the  of WorldCupPlayers Dataset\n",
        "\n",
        "dataPlayer.shape"
      ]
    },
    {
      "cell_type": "markdown",
      "metadata": {
        "id": "3YS6zYSdSEIn"
      },
      "source": [
        "**Observation (WorldCupPlayers.xlsx)**\n",
        "\n",
        "* As per WorldCupPlayers.xlsx dataset we have found 37784 records and 9 columns"
      ]
    },
    {
      "cell_type": "code",
      "execution_count": null,
      "metadata": {
        "id": "nFJbieE5SOg_",
        "colab": {
          "base_uri": "https://localhost:8080/"
        },
        "outputId": "297b066c-aac3-431f-adee-65f7b800017e"
      },
      "outputs": [
        {
          "output_type": "execute_result",
          "data": {
            "text/plain": [
              "RoundID           int64\n",
              "MatchID           int64\n",
              "Team Initials    object\n",
              "Coach Name       object\n",
              "Line-up          object\n",
              "Shirt Number      int64\n",
              "Player Name      object\n",
              "Position         object\n",
              "Event            object\n",
              "dtype: object"
            ]
          },
          "metadata": {},
          "execution_count": 59
        }
      ],
      "source": [
        "# Check the Data types of WorldCupPlayers Dataset\n",
        "\n",
        "dataPlayer.dtypes"
      ]
    },
    {
      "cell_type": "markdown",
      "metadata": {
        "id": "qZ8KRXPnSlFx"
      },
      "source": [
        "**Observation (WorldCupPlayers.xlsx)**\n",
        "\n",
        "As per WorldCupPlayers dataset we have found the following types of fields\n",
        "\n",
        "<center>\n",
        "\n",
        "|**Field**|**Data type**|\n",
        "|-----------|----------------|\n",
        "|RoundID|Numerical|\n",
        "|MatchID|Numerical|\n",
        "|Team Initials|Categorical|\n",
        "|Coach Name|Categorical|\n",
        "|Line-up|Categorical|\n",
        "|Shirt Number|Numerical|\n",
        "|Player Name|Categorical|\n",
        "|Position|Categorical|\n",
        "|Event|Categorical|\n",
        "\n",
        "<center>"
      ]
    },
    {
      "cell_type": "code",
      "execution_count": null,
      "metadata": {
        "id": "Faz2C_hkT0nQ",
        "colab": {
          "base_uri": "https://localhost:8080/"
        },
        "outputId": "ee940969-a57b-498c-895c-5fb6a7dec9bc"
      },
      "outputs": [
        {
          "output_type": "execute_result",
          "data": {
            "text/plain": [
              "RoundID              0\n",
              "MatchID              0\n",
              "Team Initials        0\n",
              "Coach Name           0\n",
              "Line-up              0\n",
              "Shirt Number         0\n",
              "Player Name          0\n",
              "Position         33641\n",
              "Event            28715\n",
              "dtype: int64"
            ]
          },
          "metadata": {},
          "execution_count": 60
        }
      ],
      "source": [
        "# Check the null values from  WorldCupPlayers Dataset\n",
        "\n",
        "dataPlayer.isnull().sum()"
      ]
    },
    {
      "cell_type": "markdown",
      "metadata": {
        "id": "ZbVaW-_zUCWK"
      },
      "source": [
        "**Observation (WorldCupPlayers.xlsx)**\n",
        "\n",
        "* In this dataset we have found there was 333641 numbers of record in Position field and also 28715 records in Event fields with null value. But there was no requirment to fill this with any value"
      ]
    },
    {
      "cell_type": "code",
      "execution_count": null,
      "metadata": {
        "id": "IhJDq9uOIQoD",
        "colab": {
          "base_uri": "https://localhost:8080/",
          "height": 742
        },
        "outputId": "31450855-f18d-4c9a-d75a-326259b68ac2"
      },
      "outputs": [
        {
          "output_type": "stream",
          "name": "stdout",
          "text": [
            "                              Player Name\n",
            "Player Name    Team Initials             \n",
            "KLOSE          GER                     32\n",
            "Mï¿½LLER       GER                     28\n",
            "OSCAR          BRA                     28\n",
            "RONALDO        BRA                     26\n",
            "JULIO CESAR    BRA                     26\n",
            "CAFU           BRA                     26\n",
            "LAHM           GER                     25\n",
            "PODOLSKI       GER                     25\n",
            "SCHWEINSTEIGER GER                     25\n",
            "MERTESACKER    GER                     25\n"
          ]
        },
        {
          "output_type": "execute_result",
          "data": {
            "text/plain": [
              "Text(0.5, 1.0, 'Top 10 maximum match played player')"
            ]
          },
          "metadata": {},
          "execution_count": 61
        },
        {
          "output_type": "display_data",
          "data": {
            "text/plain": [
              "<Figure size 1080x576 with 1 Axes>"
            ],
            "image/png": "[encoded data removed]"
          },
          "metadata": {
            "needs_background": "light"
          }
        }
      ],
      "source": [
        "# To get maximum match played player\n",
        "\n",
        "myPlayer = dataPlayer.groupby(['Player Name','Team Initials'])['Player Name'].count().sort_values(ascending = False).head(10)\n",
        "mostMatchPlaedPlayer = pd.DataFrame(myPlayer)\n",
        "print(mostMatchPlaedPlayer)\n",
        "from  matplotlib.ticker import MaxNLocator\n",
        "ax=plt.figure(figsize=(15,8)).gca()\n",
        "# ax.yaxis.set_major_locator(MaxNLocator(integer=True))\n",
        "ax.yaxis.set_major_locator(MaxNLocator(integer = True))\n",
        "sns.barplot(x=myPlayer.values, y=myPlayer.index, data=myPlayer)\n",
        "plt.xticks(rotation = 90)\n",
        "plt.ylabel('#')\n",
        "plt.xlabel(\"Players\")\n",
        "plt.title(\"Top 10 maximum match played player\")"
      ]
    },
    {
      "cell_type": "markdown",
      "metadata": {
        "id": "plL0c--sKBkL"
      },
      "source": [
        "**Observation**\n",
        "\n",
        "* According to research, Klose from Germany played the most (32) world cup matches"
      ]
    },
    {
      "cell_type": "code",
      "execution_count": null,
      "metadata": {
        "id": "I9U3vjaOP7Ao",
        "colab": {
          "base_uri": "https://localhost:8080/",
          "height": 657
        },
        "outputId": "26e28f13-72c1-4aa4-8f78-07d7455758e2"
      },
      "outputs": [
        {
          "output_type": "execute_result",
          "data": {
            "text/plain": [
              "Text(0.5, 0, 'Coach')"
            ]
          },
          "metadata": {},
          "execution_count": 62
        },
        {
          "output_type": "display_data",
          "data": {
            "text/plain": [
              "<Figure size 1080x576 with 1 Axes>"
            ],
            "image/png": "[encoded data removed]"
          },
          "metadata": {
            "needs_background": "light"
          }
        }
      ],
      "source": [
        "# Get number of match for a Coach\n",
        "\n",
        "coachList = dataPlayer.groupby(['Coach Name'])['MatchID'].nunique().sort_values(ascending = False).head(10)\n",
        "\n",
        "from matplotlib.ticker import MaxNLocator\n",
        "ax = plt.figure(figsize=(15,8)).gca()\n",
        "ax.yaxis.set_major_locator(MaxNLocator(integer=True))\n",
        "sns.barplot(x=coachList.index, y=coachList.values)\n",
        "for p in ax.patches:\n",
        "   ax.annotate('{}'.format(p.get_height()), (p.get_x()+0.35, p.get_height()+0.10))\n",
        "\n",
        "plt.xticks(rotation = 90)\n",
        "plt.ylabel('#')\n",
        "plt.xlabel(\"Coach\")"
      ]
    },
    {
      "cell_type": "markdown",
      "source": [
        "### **Observation**\n",
        "\n",
        "* Maximum numbers of matches coaching by SCHOEN Helmut (FRG)"
      ],
      "metadata": {
        "id": "Ma5skFjAeEXf"
      }
    },
    {
      "cell_type": "markdown",
      "source": [
        "### **Conclusion**\n",
        "*\tAccording to research, Klose from Germany played the most (32) world cup matches\n",
        "\n",
        "*\tMaximum numbers of matches coaching by SCHOEN Helmut (FRG)\n"
      ],
      "metadata": {
        "id": "EvEdsWPcKCZb"
      }
    }
  ],
  "metadata": {
    "colab": {
      "collapsed_sections": [],
      "name": "FIFA World Cup Data Analysis.ipynb",
      "provenance": []
    },
    "kernelspec": {
      "display_name": "Python 3",
      "name": "python3"
    },
    "language_info": {
      "name": "python"
    }
  },
  "nbformat": 4,
  "nbformat_minor": 0
}